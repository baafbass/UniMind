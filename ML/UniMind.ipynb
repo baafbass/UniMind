{
 "cells": [
  {
   "cell_type": "markdown",
   "id": "00578ac3-5ed6-4334-b5b8-149d1c75e3b1",
   "metadata": {},
   "source": [
    "<div style=\"border-radius: 15px 0 15px 0px; border: 2px solid #f1c40f; padding: 10px; background-color: #191970; text-align: center; box-shadow: 0px 2px 4px rgba(0, 0, 0, 0.2);\">\n",
    "    <h1 style=\"color: #f1c40f; text-shadow: 2px 2px 4px rgba(0, 0, 0, 0.5); font-weight: bold; margin-bottom: 10px; font-size: 24px;\">Makine Öğrenmesiyle Öğrencilerin Yaşam Alışkanlıkları ve Akademik Durumlarına Göre Depresyon Riskinin Tahmini</h1>\n",
    "</div>"
   ]
  },
  {
   "cell_type": "markdown",
   "id": "4cebf25a-7296-41da-a12f-28c4ac264fd2",
   "metadata": {},
   "source": [
    "# **1) Proje Tanımı**"
   ]
  },
  {
   "cell_type": "markdown",
   "id": "69d26962-7f4c-4ab3-8b80-3c7fb251fb62",
   "metadata": {},
   "source": [
    "        Amaç, öğrencilerin yaşam tarzı alışkanlıkları (uyku, sosyal aktivite, stres, fiziksel aktivite, çalışma saati vb.) ve akademik performans  göstergeleri (CGPA, ders çalışma saatleri, akademik tatmin) kullanılarak depresyon yaşayıp yaşamadıklarını tahmin eden bir makine öğrenmesi modeli geliştirmektir."
   ]
  },
  {
   "cell_type": "markdown",
   "id": "d82b7438-1bd0-472b-a899-35ec59db1c6d",
   "metadata": {},
   "source": [
    "# **2) Veri Kaynakları**"
   ]
  },
  {
   "cell_type": "markdown",
   "id": "1daa5da8-d696-4897-9a3d-c587f27846ce",
   "metadata": {},
   "source": [
    "## **2.1) Dataset 1** : Daily Lifestyle and Academic Performance"
   ]
  },
  {
   "cell_type": "markdown",
   "id": "1d73fd7b-75cc-4e32-a0b4-46c64ba5ecd5",
   "metadata": {},
   "source": [
    "- 2.000 öğrenciden Google Form anketiyle toplanan verileri içerir.\n",
    "\n",
    "- Ders çalışma süresi, sosyal etkinlikler, uyku, sosyalleşme, fiziksel aktivite, stres düzeyi ve not ortalaması bilgilerini kapsar.\n",
    "\n",
    "- Veriler, Ağustos 2023 - Mayıs 2024 akademik yılına aittir.\n",
    "\n",
    "- Katılımcıların çoğu Hindistan’daki öğrencilerden oluşmaktadır.\n",
    "\n",
    "- **Amaç:** Günlük alışkanlıkların akademik başarı ve öğrenci refahı üzerindeki etkisini incelemek."
   ]
  },
  {
   "cell_type": "markdown",
   "id": "9951e30d-2005-4d9b-9d40-8b09ebac0b2a",
   "metadata": {},
   "source": [
    "## 2.2) Dataset 2 : Student Mental Health"
   ]
  },
  {
   "cell_type": "markdown",
   "id": "edf38632-e87d-47e9-9320-9f7246144341",
   "metadata": {},
   "source": [
    "- Öğrencilerin ruh sağlığı ve depresyon riskini etkileyen faktörleri kapsamlı şekilde içerir.\n",
    "\n",
    "- Demografik bilgiler, akademik ve iş baskıları, yaşam tarzı alışkanlıkları ve ruh sağlığı göstergelerini kapsar.\n",
    "\n",
    "- **Amaç:** Depresyon eğilimlerini ve risk faktörlerini analiz etmek."
   ]
  },
  {
   "cell_type": "markdown",
   "id": "c8fe879b-e9ce-42ab-bfb7-7910d1e2ea3e",
   "metadata": {},
   "source": [
    "# **3) Yüklemeler ve İlk Kontroller**"
   ]
  },
  {
   "cell_type": "markdown",
   "id": "d9e2f7ea-4b23-448c-a14b-83f67f8305bd",
   "metadata": {},
   "source": [
    "### Paketlerin Yüklenmesi"
   ]
  },
  {
   "cell_type": "code",
   "execution_count": 1,
   "id": "fa999b6c-cc00-4055-89c9-b11feec05466",
   "metadata": {},
   "outputs": [],
   "source": [
    "import pandas as pd\n",
    "import numpy as np\n",
    "import matplotlib.pyplot as plt\n",
    "import seaborn as sns\n",
    "from sklearn.model_selection import train_test_split,GridSearchCV, cross_val_score, StratifiedKFold, cross_validate,KFold\n",
    "from sklearn.preprocessing import StandardScaler, MinMaxScaler\n",
    "from sklearn.impute import SimpleImputer\n",
    "from sklearn.pipeline import Pipeline\n",
    "from sklearn.compose import ColumnTransformer\n",
    "from sklearn.ensemble import RandomForestRegressor\n",
    "from sklearn.preprocessing import MinMaxScaler, StandardScaler\n",
    "from sklearn.metrics import (accuracy_score, precision_score, recall_score, f1_score, confusion_matrix,\n",
    "                             classification_report, roc_auc_score, roc_curve, PrecisionRecallDisplay)\n",
    "\n",
    "from sklearn.ensemble import RandomForestClassifier\n",
    "from sklearn.svm import SVC\n",
    "from sklearn.neighbors import KNeighborsClassifier\n",
    "\n",
    "from imblearn.over_sampling import SMOTE\n",
    "import joblib"
   ]
  },
  {
   "cell_type": "markdown",
   "id": "c3dc157c-6deb-4f8a-90d0-4ff88f2a2eea",
   "metadata": {},
   "source": [
    "### Veri Yükleme"
   ]
  },
  {
   "cell_type": "code",
   "execution_count": 2,
   "id": "db429134-32fd-4881-bb21-97f6fa887150",
   "metadata": {},
   "outputs": [],
   "source": [
    "df1 = pd.read_csv(\"./datasets/student_lifestyle_dataset.csv\")\n",
    "df2 = pd.read_csv(\"./datasets/student_depression_dataset.csv\")"
   ]
  },
  {
   "cell_type": "markdown",
   "id": "9f53ab05-d91e-48f0-ac1c-5136dee0ff80",
   "metadata": {},
   "source": [
    "### Temel Veri Bilgileri"
   ]
  },
  {
   "cell_type": "code",
   "execution_count": 3,
   "id": "00e8357c-16d3-44de-be81-fec47121a453",
   "metadata": {},
   "outputs": [
    {
     "name": "stdout",
     "output_type": "stream",
     "text": [
      "\n",
      "Dataset 1\n",
      "Shape (rows, columns): (2000, 8)\n",
      "\n",
      "First 5 rows:\n"
     ]
    },
    {
     "data": {
      "text/html": [
       "<div>\n",
       "<style scoped>\n",
       "    .dataframe tbody tr th:only-of-type {\n",
       "        vertical-align: middle;\n",
       "    }\n",
       "\n",
       "    .dataframe tbody tr th {\n",
       "        vertical-align: top;\n",
       "    }\n",
       "\n",
       "    .dataframe thead th {\n",
       "        text-align: right;\n",
       "    }\n",
       "</style>\n",
       "<table border=\"1\" class=\"dataframe\">\n",
       "  <thead>\n",
       "    <tr style=\"text-align: right;\">\n",
       "      <th></th>\n",
       "      <th>Student_ID</th>\n",
       "      <th>Study_Hours_Per_Day</th>\n",
       "      <th>Extracurricular_Hours_Per_Day</th>\n",
       "      <th>Sleep_Hours_Per_Day</th>\n",
       "      <th>Social_Hours_Per_Day</th>\n",
       "      <th>Physical_Activity_Hours_Per_Day</th>\n",
       "      <th>GPA</th>\n",
       "      <th>Stress_Level</th>\n",
       "    </tr>\n",
       "  </thead>\n",
       "  <tbody>\n",
       "    <tr>\n",
       "      <th>0</th>\n",
       "      <td>1</td>\n",
       "      <td>6.9</td>\n",
       "      <td>3.8</td>\n",
       "      <td>8.7</td>\n",
       "      <td>2.8</td>\n",
       "      <td>1.8</td>\n",
       "      <td>2.99</td>\n",
       "      <td>Moderate</td>\n",
       "    </tr>\n",
       "    <tr>\n",
       "      <th>1</th>\n",
       "      <td>2</td>\n",
       "      <td>5.3</td>\n",
       "      <td>3.5</td>\n",
       "      <td>8.0</td>\n",
       "      <td>4.2</td>\n",
       "      <td>3.0</td>\n",
       "      <td>2.75</td>\n",
       "      <td>Low</td>\n",
       "    </tr>\n",
       "    <tr>\n",
       "      <th>2</th>\n",
       "      <td>3</td>\n",
       "      <td>5.1</td>\n",
       "      <td>3.9</td>\n",
       "      <td>9.2</td>\n",
       "      <td>1.2</td>\n",
       "      <td>4.6</td>\n",
       "      <td>2.67</td>\n",
       "      <td>Low</td>\n",
       "    </tr>\n",
       "    <tr>\n",
       "      <th>3</th>\n",
       "      <td>4</td>\n",
       "      <td>6.5</td>\n",
       "      <td>2.1</td>\n",
       "      <td>7.2</td>\n",
       "      <td>1.7</td>\n",
       "      <td>6.5</td>\n",
       "      <td>2.88</td>\n",
       "      <td>Moderate</td>\n",
       "    </tr>\n",
       "    <tr>\n",
       "      <th>4</th>\n",
       "      <td>5</td>\n",
       "      <td>8.1</td>\n",
       "      <td>0.6</td>\n",
       "      <td>6.5</td>\n",
       "      <td>2.2</td>\n",
       "      <td>6.6</td>\n",
       "      <td>3.51</td>\n",
       "      <td>High</td>\n",
       "    </tr>\n",
       "  </tbody>\n",
       "</table>\n",
       "</div>"
      ],
      "text/plain": [
       "   Student_ID  Study_Hours_Per_Day  Extracurricular_Hours_Per_Day  \\\n",
       "0           1                  6.9                            3.8   \n",
       "1           2                  5.3                            3.5   \n",
       "2           3                  5.1                            3.9   \n",
       "3           4                  6.5                            2.1   \n",
       "4           5                  8.1                            0.6   \n",
       "\n",
       "   Sleep_Hours_Per_Day  Social_Hours_Per_Day  Physical_Activity_Hours_Per_Day  \\\n",
       "0                  8.7                   2.8                              1.8   \n",
       "1                  8.0                   4.2                              3.0   \n",
       "2                  9.2                   1.2                              4.6   \n",
       "3                  7.2                   1.7                              6.5   \n",
       "4                  6.5                   2.2                              6.6   \n",
       "\n",
       "    GPA Stress_Level  \n",
       "0  2.99     Moderate  \n",
       "1  2.75          Low  \n",
       "2  2.67          Low  \n",
       "3  2.88     Moderate  \n",
       "4  3.51         High  "
      ]
     },
     "metadata": {},
     "output_type": "display_data"
    },
    {
     "name": "stdout",
     "output_type": "stream",
     "text": [
      "\n",
      "\n",
      "\n",
      "\n",
      "Dataset 2\n",
      "Shape (rows, columns): (27901, 18)\n",
      "\n",
      "First 5 rows:\n"
     ]
    },
    {
     "data": {
      "text/html": [
       "<div>\n",
       "<style scoped>\n",
       "    .dataframe tbody tr th:only-of-type {\n",
       "        vertical-align: middle;\n",
       "    }\n",
       "\n",
       "    .dataframe tbody tr th {\n",
       "        vertical-align: top;\n",
       "    }\n",
       "\n",
       "    .dataframe thead th {\n",
       "        text-align: right;\n",
       "    }\n",
       "</style>\n",
       "<table border=\"1\" class=\"dataframe\">\n",
       "  <thead>\n",
       "    <tr style=\"text-align: right;\">\n",
       "      <th></th>\n",
       "      <th>id</th>\n",
       "      <th>Gender</th>\n",
       "      <th>Age</th>\n",
       "      <th>City</th>\n",
       "      <th>Profession</th>\n",
       "      <th>Academic Pressure</th>\n",
       "      <th>Work Pressure</th>\n",
       "      <th>CGPA</th>\n",
       "      <th>Study Satisfaction</th>\n",
       "      <th>Job Satisfaction</th>\n",
       "      <th>Sleep Duration</th>\n",
       "      <th>Dietary Habits</th>\n",
       "      <th>Degree</th>\n",
       "      <th>Have you ever had suicidal thoughts ?</th>\n",
       "      <th>Work/Study Hours</th>\n",
       "      <th>Financial Stress</th>\n",
       "      <th>Family History of Mental Illness</th>\n",
       "      <th>Depression</th>\n",
       "    </tr>\n",
       "  </thead>\n",
       "  <tbody>\n",
       "    <tr>\n",
       "      <th>0</th>\n",
       "      <td>2</td>\n",
       "      <td>Male</td>\n",
       "      <td>33.0</td>\n",
       "      <td>Visakhapatnam</td>\n",
       "      <td>Student</td>\n",
       "      <td>5.0</td>\n",
       "      <td>0.0</td>\n",
       "      <td>8.97</td>\n",
       "      <td>2.0</td>\n",
       "      <td>0.0</td>\n",
       "      <td>'5-6 hours'</td>\n",
       "      <td>Healthy</td>\n",
       "      <td>B.Pharm</td>\n",
       "      <td>Yes</td>\n",
       "      <td>3.0</td>\n",
       "      <td>1.0</td>\n",
       "      <td>No</td>\n",
       "      <td>1</td>\n",
       "    </tr>\n",
       "    <tr>\n",
       "      <th>1</th>\n",
       "      <td>8</td>\n",
       "      <td>Female</td>\n",
       "      <td>24.0</td>\n",
       "      <td>Bangalore</td>\n",
       "      <td>Student</td>\n",
       "      <td>2.0</td>\n",
       "      <td>0.0</td>\n",
       "      <td>5.90</td>\n",
       "      <td>5.0</td>\n",
       "      <td>0.0</td>\n",
       "      <td>'5-6 hours'</td>\n",
       "      <td>Moderate</td>\n",
       "      <td>BSc</td>\n",
       "      <td>No</td>\n",
       "      <td>3.0</td>\n",
       "      <td>2.0</td>\n",
       "      <td>Yes</td>\n",
       "      <td>0</td>\n",
       "    </tr>\n",
       "    <tr>\n",
       "      <th>2</th>\n",
       "      <td>26</td>\n",
       "      <td>Male</td>\n",
       "      <td>31.0</td>\n",
       "      <td>Srinagar</td>\n",
       "      <td>Student</td>\n",
       "      <td>3.0</td>\n",
       "      <td>0.0</td>\n",
       "      <td>7.03</td>\n",
       "      <td>5.0</td>\n",
       "      <td>0.0</td>\n",
       "      <td>'Less than 5 hours'</td>\n",
       "      <td>Healthy</td>\n",
       "      <td>BA</td>\n",
       "      <td>No</td>\n",
       "      <td>9.0</td>\n",
       "      <td>1.0</td>\n",
       "      <td>Yes</td>\n",
       "      <td>0</td>\n",
       "    </tr>\n",
       "    <tr>\n",
       "      <th>3</th>\n",
       "      <td>30</td>\n",
       "      <td>Female</td>\n",
       "      <td>28.0</td>\n",
       "      <td>Varanasi</td>\n",
       "      <td>Student</td>\n",
       "      <td>3.0</td>\n",
       "      <td>0.0</td>\n",
       "      <td>5.59</td>\n",
       "      <td>2.0</td>\n",
       "      <td>0.0</td>\n",
       "      <td>'7-8 hours'</td>\n",
       "      <td>Moderate</td>\n",
       "      <td>BCA</td>\n",
       "      <td>Yes</td>\n",
       "      <td>4.0</td>\n",
       "      <td>5.0</td>\n",
       "      <td>Yes</td>\n",
       "      <td>1</td>\n",
       "    </tr>\n",
       "    <tr>\n",
       "      <th>4</th>\n",
       "      <td>32</td>\n",
       "      <td>Female</td>\n",
       "      <td>25.0</td>\n",
       "      <td>Jaipur</td>\n",
       "      <td>Student</td>\n",
       "      <td>4.0</td>\n",
       "      <td>0.0</td>\n",
       "      <td>8.13</td>\n",
       "      <td>3.0</td>\n",
       "      <td>0.0</td>\n",
       "      <td>'5-6 hours'</td>\n",
       "      <td>Moderate</td>\n",
       "      <td>M.Tech</td>\n",
       "      <td>Yes</td>\n",
       "      <td>1.0</td>\n",
       "      <td>1.0</td>\n",
       "      <td>No</td>\n",
       "      <td>0</td>\n",
       "    </tr>\n",
       "  </tbody>\n",
       "</table>\n",
       "</div>"
      ],
      "text/plain": [
       "   id  Gender   Age           City Profession  Academic Pressure  \\\n",
       "0   2    Male  33.0  Visakhapatnam    Student                5.0   \n",
       "1   8  Female  24.0      Bangalore    Student                2.0   \n",
       "2  26    Male  31.0       Srinagar    Student                3.0   \n",
       "3  30  Female  28.0       Varanasi    Student                3.0   \n",
       "4  32  Female  25.0         Jaipur    Student                4.0   \n",
       "\n",
       "   Work Pressure  CGPA  Study Satisfaction  Job Satisfaction  \\\n",
       "0            0.0  8.97                 2.0               0.0   \n",
       "1            0.0  5.90                 5.0               0.0   \n",
       "2            0.0  7.03                 5.0               0.0   \n",
       "3            0.0  5.59                 2.0               0.0   \n",
       "4            0.0  8.13                 3.0               0.0   \n",
       "\n",
       "        Sleep Duration Dietary Habits   Degree  \\\n",
       "0          '5-6 hours'        Healthy  B.Pharm   \n",
       "1          '5-6 hours'       Moderate      BSc   \n",
       "2  'Less than 5 hours'        Healthy       BA   \n",
       "3          '7-8 hours'       Moderate      BCA   \n",
       "4          '5-6 hours'       Moderate   M.Tech   \n",
       "\n",
       "  Have you ever had suicidal thoughts ?  Work/Study Hours Financial Stress  \\\n",
       "0                                   Yes               3.0              1.0   \n",
       "1                                    No               3.0              2.0   \n",
       "2                                    No               9.0              1.0   \n",
       "3                                   Yes               4.0              5.0   \n",
       "4                                   Yes               1.0              1.0   \n",
       "\n",
       "  Family History of Mental Illness  Depression  \n",
       "0                               No           1  \n",
       "1                              Yes           0  \n",
       "2                              Yes           0  \n",
       "3                              Yes           1  \n",
       "4                               No           0  "
      ]
     },
     "metadata": {},
     "output_type": "display_data"
    }
   ],
   "source": [
    "print(\"\\nDataset 1\")\n",
    "print(f\"Shape (rows, columns): {df1.shape}\")\n",
    "print(\"\\nFirst 5 rows:\")\n",
    "display(df1.head())\n",
    "\n",
    "print(\"\\n\\n\")\n",
    "\n",
    "print(\"\\nDataset 2\")\n",
    "print(f\"Shape (rows, columns): {df2.shape}\")\n",
    "print(\"\\nFirst 5 rows:\")\n",
    "display(df2.head())"
   ]
  },
  {
   "cell_type": "markdown",
   "id": "e60948ce-b5fa-46ab-881f-6709da3b35d3",
   "metadata": {},
   "source": [
    "### Genel Bilgi"
   ]
  },
  {
   "cell_type": "code",
   "execution_count": 4,
   "id": "16aef9f2-c426-482e-9e86-28c739523189",
   "metadata": {},
   "outputs": [
    {
     "name": "stdout",
     "output_type": "stream",
     "text": [
      "\n",
      "Dataset 1\n",
      "<class 'pandas.core.frame.DataFrame'>\n",
      "RangeIndex: 2000 entries, 0 to 1999\n",
      "Data columns (total 8 columns):\n",
      " #   Column                           Non-Null Count  Dtype  \n",
      "---  ------                           --------------  -----  \n",
      " 0   Student_ID                       2000 non-null   int64  \n",
      " 1   Study_Hours_Per_Day              2000 non-null   float64\n",
      " 2   Extracurricular_Hours_Per_Day    2000 non-null   float64\n",
      " 3   Sleep_Hours_Per_Day              2000 non-null   float64\n",
      " 4   Social_Hours_Per_Day             2000 non-null   float64\n",
      " 5   Physical_Activity_Hours_Per_Day  2000 non-null   float64\n",
      " 6   GPA                              2000 non-null   float64\n",
      " 7   Stress_Level                     2000 non-null   object \n",
      "dtypes: float64(6), int64(1), object(1)\n",
      "memory usage: 125.1+ KB\n"
     ]
    },
    {
     "data": {
      "text/plain": [
       "None"
      ]
     },
     "metadata": {},
     "output_type": "display_data"
    },
    {
     "name": "stdout",
     "output_type": "stream",
     "text": [
      "\n",
      "\n",
      "\n",
      "\n",
      "Dataset 2\n",
      "<class 'pandas.core.frame.DataFrame'>\n",
      "RangeIndex: 27901 entries, 0 to 27900\n",
      "Data columns (total 18 columns):\n",
      " #   Column                                 Non-Null Count  Dtype  \n",
      "---  ------                                 --------------  -----  \n",
      " 0   id                                     27901 non-null  int64  \n",
      " 1   Gender                                 27901 non-null  object \n",
      " 2   Age                                    27901 non-null  float64\n",
      " 3   City                                   27901 non-null  object \n",
      " 4   Profession                             27901 non-null  object \n",
      " 5   Academic Pressure                      27901 non-null  float64\n",
      " 6   Work Pressure                          27901 non-null  float64\n",
      " 7   CGPA                                   27901 non-null  float64\n",
      " 8   Study Satisfaction                     27901 non-null  float64\n",
      " 9   Job Satisfaction                       27901 non-null  float64\n",
      " 10  Sleep Duration                         27901 non-null  object \n",
      " 11  Dietary Habits                         27901 non-null  object \n",
      " 12  Degree                                 27901 non-null  object \n",
      " 13  Have you ever had suicidal thoughts ?  27901 non-null  object \n",
      " 14  Work/Study Hours                       27901 non-null  float64\n",
      " 15  Financial Stress                       27901 non-null  object \n",
      " 16  Family History of Mental Illness       27901 non-null  object \n",
      " 17  Depression                             27901 non-null  int64  \n",
      "dtypes: float64(7), int64(2), object(9)\n",
      "memory usage: 3.8+ MB\n"
     ]
    },
    {
     "data": {
      "text/plain": [
       "None"
      ]
     },
     "metadata": {},
     "output_type": "display_data"
    }
   ],
   "source": [
    "print(\"\\nDataset 1\")\n",
    "display(df1.info())\n",
    "\n",
    "print(\"\\n\\n\")\n",
    "\n",
    "print(\"\\nDataset 2\")\n",
    "display(df2.info())"
   ]
  },
  {
   "cell_type": "markdown",
   "id": "32bcba33-30c2-4864-b507-02fb01e2bce9",
   "metadata": {},
   "source": [
    "### İstatiksel Özeti"
   ]
  },
  {
   "cell_type": "markdown",
   "id": "6788f334-56ff-4ab8-8dbb-c4bfc0f5ef94",
   "metadata": {},
   "source": [
    "#### Dataset 1"
   ]
  },
  {
   "cell_type": "code",
   "execution_count": 5,
   "id": "5b1178eb-f696-48d4-ad6d-8de9fb1dd05d",
   "metadata": {},
   "outputs": [
    {
     "data": {
      "text/html": [
       "<div>\n",
       "<style scoped>\n",
       "    .dataframe tbody tr th:only-of-type {\n",
       "        vertical-align: middle;\n",
       "    }\n",
       "\n",
       "    .dataframe tbody tr th {\n",
       "        vertical-align: top;\n",
       "    }\n",
       "\n",
       "    .dataframe thead th {\n",
       "        text-align: right;\n",
       "    }\n",
       "</style>\n",
       "<table border=\"1\" class=\"dataframe\">\n",
       "  <thead>\n",
       "    <tr style=\"text-align: right;\">\n",
       "      <th></th>\n",
       "      <th>count</th>\n",
       "      <th>mean</th>\n",
       "      <th>std</th>\n",
       "      <th>min</th>\n",
       "      <th>25%</th>\n",
       "      <th>50%</th>\n",
       "      <th>75%</th>\n",
       "      <th>max</th>\n",
       "    </tr>\n",
       "  </thead>\n",
       "  <tbody>\n",
       "    <tr>\n",
       "      <th>Study_Hours_Per_Day</th>\n",
       "      <td>2000.0</td>\n",
       "      <td>7.47580</td>\n",
       "      <td>1.423888</td>\n",
       "      <td>5.00</td>\n",
       "      <td>6.3</td>\n",
       "      <td>7.40</td>\n",
       "      <td>8.70</td>\n",
       "      <td>10.0</td>\n",
       "    </tr>\n",
       "    <tr>\n",
       "      <th>Extracurricular_Hours_Per_Day</th>\n",
       "      <td>2000.0</td>\n",
       "      <td>1.99010</td>\n",
       "      <td>1.155855</td>\n",
       "      <td>0.00</td>\n",
       "      <td>1.0</td>\n",
       "      <td>2.00</td>\n",
       "      <td>3.00</td>\n",
       "      <td>4.0</td>\n",
       "    </tr>\n",
       "    <tr>\n",
       "      <th>Sleep_Hours_Per_Day</th>\n",
       "      <td>2000.0</td>\n",
       "      <td>7.50125</td>\n",
       "      <td>1.460949</td>\n",
       "      <td>5.00</td>\n",
       "      <td>6.2</td>\n",
       "      <td>7.50</td>\n",
       "      <td>8.80</td>\n",
       "      <td>10.0</td>\n",
       "    </tr>\n",
       "    <tr>\n",
       "      <th>Social_Hours_Per_Day</th>\n",
       "      <td>2000.0</td>\n",
       "      <td>2.70455</td>\n",
       "      <td>1.688514</td>\n",
       "      <td>0.00</td>\n",
       "      <td>1.2</td>\n",
       "      <td>2.60</td>\n",
       "      <td>4.10</td>\n",
       "      <td>6.0</td>\n",
       "    </tr>\n",
       "    <tr>\n",
       "      <th>Physical_Activity_Hours_Per_Day</th>\n",
       "      <td>2000.0</td>\n",
       "      <td>4.32830</td>\n",
       "      <td>2.514110</td>\n",
       "      <td>0.00</td>\n",
       "      <td>2.4</td>\n",
       "      <td>4.10</td>\n",
       "      <td>6.10</td>\n",
       "      <td>13.0</td>\n",
       "    </tr>\n",
       "    <tr>\n",
       "      <th>GPA</th>\n",
       "      <td>2000.0</td>\n",
       "      <td>3.11596</td>\n",
       "      <td>0.298674</td>\n",
       "      <td>2.24</td>\n",
       "      <td>2.9</td>\n",
       "      <td>3.11</td>\n",
       "      <td>3.33</td>\n",
       "      <td>4.0</td>\n",
       "    </tr>\n",
       "  </tbody>\n",
       "</table>\n",
       "</div>"
      ],
      "text/plain": [
       "                                  count     mean       std   min  25%   50%  \\\n",
       "Study_Hours_Per_Day              2000.0  7.47580  1.423888  5.00  6.3  7.40   \n",
       "Extracurricular_Hours_Per_Day    2000.0  1.99010  1.155855  0.00  1.0  2.00   \n",
       "Sleep_Hours_Per_Day              2000.0  7.50125  1.460949  5.00  6.2  7.50   \n",
       "Social_Hours_Per_Day             2000.0  2.70455  1.688514  0.00  1.2  2.60   \n",
       "Physical_Activity_Hours_Per_Day  2000.0  4.32830  2.514110  0.00  2.4  4.10   \n",
       "GPA                              2000.0  3.11596  0.298674  2.24  2.9  3.11   \n",
       "\n",
       "                                  75%   max  \n",
       "Study_Hours_Per_Day              8.70  10.0  \n",
       "Extracurricular_Hours_Per_Day    3.00   4.0  \n",
       "Sleep_Hours_Per_Day              8.80  10.0  \n",
       "Social_Hours_Per_Day             4.10   6.0  \n",
       "Physical_Activity_Hours_Per_Day  6.10  13.0  \n",
       "GPA                              3.33   4.0  "
      ]
     },
     "metadata": {},
     "output_type": "display_data"
    }
   ],
   "source": [
    "display(df1.drop(['Student_ID'],axis=1).describe().T)"
   ]
  },
  {
   "cell_type": "markdown",
   "id": "46b45ad0-86c4-42c6-8ede-0a694249544a",
   "metadata": {},
   "source": [
    "1. **Veri Kümesi Boyutları**:\n",
    "   - Satir: 2,000\n",
    "   - Sütun: 8\n",
    "   - Sütunların hiçbirinde eksik değere rastlanmadı.\n",
    "\n",
    "2. **Veri Türleri**:\n",
    "   - Veri kümesi şunları içerir:\n",
    "     - Sayısal sütunlar: 6 (örneğin, aktivitelere harcanan saatler ve not ortalaması).\n",
    "     - Kategorik sütun: 1 (Stres Düzeyi).\n",
    "     - ID Sütunu: 1 (Student_ID).\n",
    "\n",
    "#### **İlk Gözlemler**\n",
    "1. **Dengeli Yaşam Tarzı**:\n",
    "   - Öğrencilerin ders çalışmaya, uykuya ve fiziksel aktiviteye harcadıkları ortalama saatlerin birbirine yakın olması, öğrenciler arasında nispeten dengeli bir yaşam tarzının olduğunu göstermektedir.\n",
    "\n",
    "2. **GPA ve Yaşam Tarzı Korelasyonu**:\n",
    "   - Nispeten yüksek ortalama not ortalaması, dengeli yaşam tarzı alışkanlıkları (örneğin yeterli uyku ve çalışma) ile akademik performans arasında olası pozitif bir ilişki olduğunu düşündürmektedir.\n",
    "\n",
    "3. **Stres Seviyeleri**:\n",
    "   - Kategorik bir özellik olarak, bunun GPA ve diğer değişkenlerle korelasyonları daha detaylı incelenebilir.\n",
    "\n",
    "4. **Aykırı Değerler**:\n",
    "   - Fiziksel aktivite saatleri (maksimum: 13 saat) bazı öğrencilerin olağanüstü derecede aktif olduğunu göstermektedir.\n",
    "   - Sosyalleşme saatleri de değişkendir ve günlük 6 saate kadar çıkabilir, bu da çeşitli sosyal alışkanlıkların göstergesidir."
   ]
  },
  {
   "cell_type": "markdown",
   "id": "bc0cdb66-a5a0-4b51-8ea1-fb500f61df44",
   "metadata": {},
   "source": [
    "#### Dataset 2"
   ]
  },
  {
   "cell_type": "code",
   "execution_count": 6,
   "id": "befef89e-79af-4efd-a479-2652f4e89f93",
   "metadata": {},
   "outputs": [
    {
     "data": {
      "text/html": [
       "<div>\n",
       "<style scoped>\n",
       "    .dataframe tbody tr th:only-of-type {\n",
       "        vertical-align: middle;\n",
       "    }\n",
       "\n",
       "    .dataframe tbody tr th {\n",
       "        vertical-align: top;\n",
       "    }\n",
       "\n",
       "    .dataframe thead th {\n",
       "        text-align: right;\n",
       "    }\n",
       "</style>\n",
       "<table border=\"1\" class=\"dataframe\">\n",
       "  <thead>\n",
       "    <tr style=\"text-align: right;\">\n",
       "      <th></th>\n",
       "      <th>count</th>\n",
       "      <th>mean</th>\n",
       "      <th>std</th>\n",
       "      <th>min</th>\n",
       "      <th>25%</th>\n",
       "      <th>50%</th>\n",
       "      <th>75%</th>\n",
       "      <th>max</th>\n",
       "    </tr>\n",
       "  </thead>\n",
       "  <tbody>\n",
       "    <tr>\n",
       "      <th>Age</th>\n",
       "      <td>27901.0</td>\n",
       "      <td>25.822300</td>\n",
       "      <td>4.905687</td>\n",
       "      <td>18.0</td>\n",
       "      <td>21.00</td>\n",
       "      <td>25.00</td>\n",
       "      <td>30.00</td>\n",
       "      <td>59.0</td>\n",
       "    </tr>\n",
       "    <tr>\n",
       "      <th>Academic Pressure</th>\n",
       "      <td>27901.0</td>\n",
       "      <td>3.141214</td>\n",
       "      <td>1.381465</td>\n",
       "      <td>0.0</td>\n",
       "      <td>2.00</td>\n",
       "      <td>3.00</td>\n",
       "      <td>4.00</td>\n",
       "      <td>5.0</td>\n",
       "    </tr>\n",
       "    <tr>\n",
       "      <th>Work Pressure</th>\n",
       "      <td>27901.0</td>\n",
       "      <td>0.000430</td>\n",
       "      <td>0.043992</td>\n",
       "      <td>0.0</td>\n",
       "      <td>0.00</td>\n",
       "      <td>0.00</td>\n",
       "      <td>0.00</td>\n",
       "      <td>5.0</td>\n",
       "    </tr>\n",
       "    <tr>\n",
       "      <th>CGPA</th>\n",
       "      <td>27901.0</td>\n",
       "      <td>7.656104</td>\n",
       "      <td>1.470707</td>\n",
       "      <td>0.0</td>\n",
       "      <td>6.29</td>\n",
       "      <td>7.77</td>\n",
       "      <td>8.92</td>\n",
       "      <td>10.0</td>\n",
       "    </tr>\n",
       "    <tr>\n",
       "      <th>Study Satisfaction</th>\n",
       "      <td>27901.0</td>\n",
       "      <td>2.943837</td>\n",
       "      <td>1.361148</td>\n",
       "      <td>0.0</td>\n",
       "      <td>2.00</td>\n",
       "      <td>3.00</td>\n",
       "      <td>4.00</td>\n",
       "      <td>5.0</td>\n",
       "    </tr>\n",
       "    <tr>\n",
       "      <th>Job Satisfaction</th>\n",
       "      <td>27901.0</td>\n",
       "      <td>0.000681</td>\n",
       "      <td>0.044394</td>\n",
       "      <td>0.0</td>\n",
       "      <td>0.00</td>\n",
       "      <td>0.00</td>\n",
       "      <td>0.00</td>\n",
       "      <td>4.0</td>\n",
       "    </tr>\n",
       "    <tr>\n",
       "      <th>Work/Study Hours</th>\n",
       "      <td>27901.0</td>\n",
       "      <td>7.156984</td>\n",
       "      <td>3.707642</td>\n",
       "      <td>0.0</td>\n",
       "      <td>4.00</td>\n",
       "      <td>8.00</td>\n",
       "      <td>10.00</td>\n",
       "      <td>12.0</td>\n",
       "    </tr>\n",
       "  </tbody>\n",
       "</table>\n",
       "</div>"
      ],
      "text/plain": [
       "                      count       mean       std   min    25%    50%    75%  \\\n",
       "Age                 27901.0  25.822300  4.905687  18.0  21.00  25.00  30.00   \n",
       "Academic Pressure   27901.0   3.141214  1.381465   0.0   2.00   3.00   4.00   \n",
       "Work Pressure       27901.0   0.000430  0.043992   0.0   0.00   0.00   0.00   \n",
       "CGPA                27901.0   7.656104  1.470707   0.0   6.29   7.77   8.92   \n",
       "Study Satisfaction  27901.0   2.943837  1.361148   0.0   2.00   3.00   4.00   \n",
       "Job Satisfaction    27901.0   0.000681  0.044394   0.0   0.00   0.00   0.00   \n",
       "Work/Study Hours    27901.0   7.156984  3.707642   0.0   4.00   8.00  10.00   \n",
       "\n",
       "                     max  \n",
       "Age                 59.0  \n",
       "Academic Pressure    5.0  \n",
       "Work Pressure        5.0  \n",
       "CGPA                10.0  \n",
       "Study Satisfaction   5.0  \n",
       "Job Satisfaction     4.0  \n",
       "Work/Study Hours    12.0  "
      ]
     },
     "metadata": {},
     "output_type": "display_data"
    }
   ],
   "source": [
    "display(df2.drop(['id','Depression'],axis=1).describe().T)"
   ]
  },
  {
   "cell_type": "markdown",
   "id": "71284fd4-c7e8-477a-961c-446250665fab",
   "metadata": {},
   "source": [
    "1. **Veri Kümesi Boyutları**\n",
    "    - Satır: 27,901\n",
    "    - Sütun: 18\n",
    "    - Eksik Değer: Hiçbir sütunda eksik değer bulunmamaktadır.\n",
    "\n",
    "2. **Veri Türleri**\n",
    "   - Sayısal sütunlar: 9 (yaş, akademik baskı, iş baskısı, CGPA, çalışma memnuniyeti, iş memnuniyeti, çalışma/öğrenim saatleri vb.)\n",
    "   - Kategorik sütunlar: 8 (cinsiyet,şehir,beslenme alışkanlıkları, family history vb.)\n",
    "   - ID Sütunu: 1 (ID)\n",
    "\n",
    "#### **İlk Gözlemler**\n",
    "\n",
    "1. **Demografik Dağılım (Age)**\n",
    "   - Ortalama yaş 25.82, minimum 18, maksimum 59 olarak gözlenmiştir.\n",
    "   - Bu, veri kümesinde hem üniversite öğrencilerini hem de mezun/çalışan bireyleri içeren geniş bir yaş aralığına işaret etmektedir.\n",
    "\n",
    "2. **Akademik Baskı ve CGPA**\n",
    "   - Akademik Baskı (mean = 3.14) orta seviyededir.\n",
    "   - CGPA ortalaması 7.65 olup, bu değer oldukça iyi bir akademik performansa işaret eder.\n",
    "   - Bu iki değişkenin birlikte incelenmesi, akademik baskının başarı üzerindeki etkisini anlamada kritik olacaktır.\n",
    "\n",
    "3. **Çalışma Memnuniyeti (Study Satisfaction)**\n",
    "   - Ortalama 2.94, medyan 3.0, bu da memnuniyetin orta düzeyde olduğunu gösterir.\n",
    "   - Akademik baskı ve çalışma memnuniyeti birlikte analiz edildiğinde, baskı arttıkça memnuniyetin azalıp azalmadığı değerlendirilebilir.\n",
    "\n",
    "4. **Aykırı Değerler**\n",
    "   - Work Pressure ve Job Satisfaction değişkenlerinde 5 ve 4 değerlerine kadar çıkan seyrek yüksek değerler, aykırı gözlemler olabilir.\n",
    "   - Age değişkeninde 59 yaşa kadar çıkılması da, bazı katılımcıların öğrenci dışı profilde olabileceğini düşündürmektedir. "
   ]
  },
  {
   "cell_type": "markdown",
   "id": "f8991ddf-b0c1-4a48-951d-37a8a963b28e",
   "metadata": {},
   "source": [
    "#  **4) Birleştirme Stratejisi**"
   ]
  },
  {
   "cell_type": "markdown",
   "id": "0e72e4ad-36ff-4656-a1a6-deed88c67219",
   "metadata": {},
   "source": [
    "**Amaç:** Birleştirme sonucunda, öğrencilerin günlük yaşam alışkanlıklarının (uyku, çalışma süresi, sosyal aktivite vb.) depresyon riski üzerindeki etkisini analiz etmek."
   ]
  },
  {
   "cell_type": "markdown",
   "id": "853bfade-ba01-48ca-8447-3f5a898790d1",
   "metadata": {},
   "source": [
    "## 4.1. Ortak Not Ortalaması, Uyku saati ve Çalışma saati Anahtarlar Üzerinden birleştirme\n"
   ]
  },
  {
   "cell_type": "markdown",
   "id": "0c86d11f-212f-42ff-8416-53b9bc0e49f8",
   "metadata": {},
   "source": [
    "Veri kümeleri arası birleştirme için üç ortak anahtar (ders çalışma saati, uyku süresi, GPA) oluşturuldu. Bu anahtarlar, sayısal uyumluluk sağlamak amacıyla yuvarlama ve kategoriden sayıya dönüşüm işlemlerinden geçirildi. Ardından inner join ile yalnızca üç anahtarın tamamında birebir eşleşen örnekler seçilerek nihai birleşik veri kümesi elde edildi."
   ]
  },
  {
   "cell_type": "markdown",
   "id": "30f357e4-d39c-4cb8-a919-fb84a5801ea4",
   "metadata": {},
   "source": [
    "   - ### Sütun İsimlerini Kontrol Etme"
   ]
  },
  {
   "cell_type": "code",
   "execution_count": 7,
   "id": "ada97a28-d667-4ed3-8031-460248d7d169",
   "metadata": {},
   "outputs": [
    {
     "name": "stdout",
     "output_type": "stream",
     "text": [
      "Dataset 1:  Index(['Student_ID', 'Study_Hours_Per_Day', 'Extracurricular_Hours_Per_Day',\n",
      "       'Sleep_Hours_Per_Day', 'Social_Hours_Per_Day',\n",
      "       'Physical_Activity_Hours_Per_Day', 'GPA', 'Stress_Level'],\n",
      "      dtype='object')\n",
      "\n",
      "\n",
      "Dataset 2:  Index(['id', 'Gender', 'Age', 'City', 'Profession', 'Academic Pressure',\n",
      "       'Work Pressure', 'CGPA', 'Study Satisfaction', 'Job Satisfaction',\n",
      "       'Sleep Duration', 'Dietary Habits', 'Degree',\n",
      "       'Have you ever had suicidal thoughts ?', 'Work/Study Hours',\n",
      "       'Financial Stress', 'Family History of Mental Illness', 'Depression'],\n",
      "      dtype='object')\n"
     ]
    }
   ],
   "source": [
    "print(\"Dataset 1: \",df1.columns)\n",
    "\n",
    "print(\"\\n\")\n",
    "\n",
    "print(\"Dataset 2: \",df2.columns)"
   ]
  },
  {
   "cell_type": "markdown",
   "id": "6b80db39-7a66-45ac-ae65-78072b9252c2",
   "metadata": {},
   "source": [
    "- ### Önemli sütunlarının seçimi"
   ]
  },
  {
   "cell_type": "code",
   "execution_count": 8,
   "id": "e5590478-f779-413f-a480-be7baf89480b",
   "metadata": {},
   "outputs": [],
   "source": [
    "\n",
    "df1_sub = df1[[\"Sleep_Hours_Per_Day\",\"Extracurricular_Hours_Per_Day\",\"Social_Hours_Per_Day\",\"Study_Hours_Per_Day\",\"Physical_Activity_Hours_Per_Day\",\"GPA\",\"Stress_Level\"]].copy()\n",
    "df2_sub = df2[[\"Work/Study Hours\",\"Sleep Duration\",\"Academic Pressure\", \"Financial Stress\",\"CGPA\", \"Depression\"]].copy()\n"
   ]
  },
  {
   "cell_type": "markdown",
   "id": "a0f22fa8-ebc7-4f85-a6f6-ced5869709c0",
   "metadata": {},
   "source": [
    "- ### Dataset 2'de CGPA, 4.0 ölçeğine çevirme"
   ]
  },
  {
   "cell_type": "code",
   "execution_count": 9,
   "id": "9922e57e-f094-4254-9ab5-67b5df015b42",
   "metadata": {},
   "outputs": [],
   "source": [
    "df2_sub[\"GPA\"] = ((df2_sub[\"CGPA\"] * 4) / 10).round(2)"
   ]
  },
  {
   "cell_type": "markdown",
   "id": "6e32603b-cdf7-49e1-8e14-37b0ef5290f1",
   "metadata": {},
   "source": [
    "* ### Dataset 1'de çalışma saatinin yuvalarması"
   ]
  },
  {
   "cell_type": "code",
   "execution_count": 10,
   "id": "9d45d79e-f295-485f-9392-c1fefe7f4465",
   "metadata": {},
   "outputs": [],
   "source": [
    "df1_sub[\"study_hours\"] = df1_sub[\"Study_Hours_Per_Day\"].round(0).astype(int)  # ör. 6.9 -> 7"
   ]
  },
  {
   "cell_type": "markdown",
   "id": "478e7e13-a8b7-4250-a36f-6683e4bc869b",
   "metadata": {},
   "source": [
    "- ### Dataset 2 zaten tam sayı olduğu için direkt kullanacağız, ama isimlendirelim"
   ]
  },
  {
   "cell_type": "code",
   "execution_count": 11,
   "id": "394b102b-b364-4b03-98a0-a31140539344",
   "metadata": {},
   "outputs": [],
   "source": [
    "df2_sub[\"study_hours\"] = df2_sub[\"Work/Study Hours\"].astype(pd.Int64Dtype())"
   ]
  },
  {
   "cell_type": "markdown",
   "id": "3c51af04-aac8-44c8-b993-c57f471ac09f",
   "metadata": {},
   "source": [
    "- ### Dataset1 sleep hours: ondalığı en yakın tam sayıya yuvarla\n",
    "- ### Dataset2 Sleep hours: kategorik değerlerin mapping kullanarak tam sayıyı dönüştürmek"
   ]
  },
  {
   "cell_type": "code",
   "execution_count": 12,
   "id": "d0e6fe42-2c91-4995-8d61-5827673c5e2d",
   "metadata": {},
   "outputs": [],
   "source": [
    "df1_sub[\"sleep_hours\"] = df1_sub[\"Sleep_Hours_Per_Day\"].round(0).astype(int)\n",
    "\n",
    "sleep_map = {\n",
    "    \"'Less than 5 hours'\": 4,\n",
    "    \"'5-6 hours'\": 6,\n",
    "    \"'7-8 hours'\": 8,\n",
    "    \"'More than 8 hours'\": 9,\n",
    "    \"Others\": np.nan\n",
    "}\n",
    "df2_sub[\"sleep_hours\"] = df2_sub[\"Sleep Duration\"].map(sleep_map).astype(pd.Int64Dtype())"
   ]
  },
  {
   "cell_type": "markdown",
   "id": "11261535-735a-43bf-bb11-a796ac7b5306",
   "metadata": {},
   "source": [
    "- ### Dataset 1 ve Dataset 2 satır sayısı"
   ]
  },
  {
   "cell_type": "code",
   "execution_count": 13,
   "id": "76620fd7-0a36-4c53-8aa2-2faf6b8f3ead",
   "metadata": {},
   "outputs": [
    {
     "name": "stdout",
     "output_type": "stream",
     "text": [
      "DF1 hazır satır sayısı: 2000\n",
      "DF2 hazır satır sayısı: 27901\n"
     ]
    }
   ],
   "source": [
    "print(\"DF1 hazır satır sayısı:\", len(df1_sub))\n",
    "print(\"DF2 hazır satır sayısı:\", len(df2_sub))"
   ]
  },
  {
   "cell_type": "markdown",
   "id": "e9960878-9a9e-41bf-8291-23b8d2ee3df3",
   "metadata": {},
   "source": [
    "- ### study hours - sleep hours - GPA üzerinde birleştirme"
   ]
  },
  {
   "cell_type": "code",
   "execution_count": 14,
   "id": "b8f62cfc-70a7-4d3f-aab5-d6f52f739f86",
   "metadata": {},
   "outputs": [
    {
     "name": "stdout",
     "output_type": "stream",
     "text": [
      "Basit merge sonrası satır sayısı: (3443, 15)\n"
     ]
    },
    {
     "data": {
      "text/html": [
       "<div>\n",
       "<style scoped>\n",
       "    .dataframe tbody tr th:only-of-type {\n",
       "        vertical-align: middle;\n",
       "    }\n",
       "\n",
       "    .dataframe tbody tr th {\n",
       "        vertical-align: top;\n",
       "    }\n",
       "\n",
       "    .dataframe thead th {\n",
       "        text-align: right;\n",
       "    }\n",
       "</style>\n",
       "<table border=\"1\" class=\"dataframe\">\n",
       "  <thead>\n",
       "    <tr style=\"text-align: right;\">\n",
       "      <th></th>\n",
       "      <th>Sleep_Hours_Per_Day</th>\n",
       "      <th>Extracurricular_Hours_Per_Day</th>\n",
       "      <th>Social_Hours_Per_Day</th>\n",
       "      <th>Study_Hours_Per_Day</th>\n",
       "      <th>Physical_Activity_Hours_Per_Day</th>\n",
       "      <th>GPA</th>\n",
       "      <th>Stress_Level</th>\n",
       "      <th>study_hours</th>\n",
       "      <th>sleep_hours</th>\n",
       "      <th>Work/Study Hours</th>\n",
       "      <th>Sleep Duration</th>\n",
       "      <th>Academic Pressure</th>\n",
       "      <th>Financial Stress</th>\n",
       "      <th>CGPA</th>\n",
       "      <th>Depression</th>\n",
       "    </tr>\n",
       "  </thead>\n",
       "  <tbody>\n",
       "    <tr>\n",
       "      <th>0</th>\n",
       "      <td>8.7</td>\n",
       "      <td>3.8</td>\n",
       "      <td>2.8</td>\n",
       "      <td>6.9</td>\n",
       "      <td>1.8</td>\n",
       "      <td>2.99</td>\n",
       "      <td>Moderate</td>\n",
       "      <td>7</td>\n",
       "      <td>9</td>\n",
       "      <td>7.0</td>\n",
       "      <td>'More than 8 hours'</td>\n",
       "      <td>3.0</td>\n",
       "      <td>1.0</td>\n",
       "      <td>7.48</td>\n",
       "      <td>1</td>\n",
       "    </tr>\n",
       "    <tr>\n",
       "      <th>1</th>\n",
       "      <td>8.7</td>\n",
       "      <td>3.8</td>\n",
       "      <td>2.8</td>\n",
       "      <td>6.9</td>\n",
       "      <td>1.8</td>\n",
       "      <td>2.99</td>\n",
       "      <td>Moderate</td>\n",
       "      <td>7</td>\n",
       "      <td>9</td>\n",
       "      <td>7.0</td>\n",
       "      <td>'More than 8 hours'</td>\n",
       "      <td>1.0</td>\n",
       "      <td>4.0</td>\n",
       "      <td>7.48</td>\n",
       "      <td>0</td>\n",
       "    </tr>\n",
       "    <tr>\n",
       "      <th>2</th>\n",
       "      <td>8.7</td>\n",
       "      <td>3.8</td>\n",
       "      <td>2.8</td>\n",
       "      <td>6.9</td>\n",
       "      <td>1.8</td>\n",
       "      <td>2.99</td>\n",
       "      <td>Moderate</td>\n",
       "      <td>7</td>\n",
       "      <td>9</td>\n",
       "      <td>7.0</td>\n",
       "      <td>'More than 8 hours'</td>\n",
       "      <td>1.0</td>\n",
       "      <td>2.0</td>\n",
       "      <td>7.47</td>\n",
       "      <td>0</td>\n",
       "    </tr>\n",
       "    <tr>\n",
       "      <th>3</th>\n",
       "      <td>6.5</td>\n",
       "      <td>0.6</td>\n",
       "      <td>2.2</td>\n",
       "      <td>8.1</td>\n",
       "      <td>6.6</td>\n",
       "      <td>3.51</td>\n",
       "      <td>High</td>\n",
       "      <td>8</td>\n",
       "      <td>6</td>\n",
       "      <td>8.0</td>\n",
       "      <td>'5-6 hours'</td>\n",
       "      <td>3.0</td>\n",
       "      <td>4.0</td>\n",
       "      <td>8.78</td>\n",
       "      <td>1</td>\n",
       "    </tr>\n",
       "    <tr>\n",
       "      <th>4</th>\n",
       "      <td>8.0</td>\n",
       "      <td>2.1</td>\n",
       "      <td>0.3</td>\n",
       "      <td>6.0</td>\n",
       "      <td>7.6</td>\n",
       "      <td>2.85</td>\n",
       "      <td>Moderate</td>\n",
       "      <td>6</td>\n",
       "      <td>8</td>\n",
       "      <td>6.0</td>\n",
       "      <td>'7-8 hours'</td>\n",
       "      <td>1.0</td>\n",
       "      <td>3.0</td>\n",
       "      <td>7.13</td>\n",
       "      <td>1</td>\n",
       "    </tr>\n",
       "  </tbody>\n",
       "</table>\n",
       "</div>"
      ],
      "text/plain": [
       "   Sleep_Hours_Per_Day  Extracurricular_Hours_Per_Day  Social_Hours_Per_Day  \\\n",
       "0                  8.7                            3.8                   2.8   \n",
       "1                  8.7                            3.8                   2.8   \n",
       "2                  8.7                            3.8                   2.8   \n",
       "3                  6.5                            0.6                   2.2   \n",
       "4                  8.0                            2.1                   0.3   \n",
       "\n",
       "   Study_Hours_Per_Day  Physical_Activity_Hours_Per_Day   GPA Stress_Level  \\\n",
       "0                  6.9                              1.8  2.99     Moderate   \n",
       "1                  6.9                              1.8  2.99     Moderate   \n",
       "2                  6.9                              1.8  2.99     Moderate   \n",
       "3                  8.1                              6.6  3.51         High   \n",
       "4                  6.0                              7.6  2.85     Moderate   \n",
       "\n",
       "   study_hours  sleep_hours  Work/Study Hours       Sleep Duration  \\\n",
       "0            7            9               7.0  'More than 8 hours'   \n",
       "1            7            9               7.0  'More than 8 hours'   \n",
       "2            7            9               7.0  'More than 8 hours'   \n",
       "3            8            6               8.0          '5-6 hours'   \n",
       "4            6            8               6.0          '7-8 hours'   \n",
       "\n",
       "   Academic Pressure Financial Stress  CGPA  Depression  \n",
       "0                3.0              1.0  7.48           1  \n",
       "1                1.0              4.0  7.48           0  \n",
       "2                1.0              2.0  7.47           0  \n",
       "3                3.0              4.0  8.78           1  \n",
       "4                1.0              3.0  7.13           1  "
      ]
     },
     "execution_count": 14,
     "metadata": {},
     "output_type": "execute_result"
    }
   ],
   "source": [
    "merged_df = pd.merge(\n",
    "    df1_sub,\n",
    "    df2_sub,\n",
    "    on=[\"study_hours\", \"sleep_hours\", \"GPA\"],\n",
    "    how=\"inner\"\n",
    ")\n",
    "\n",
    "print(\"Basit merge sonrası satır sayısı:\", merged_df.shape)\n",
    "merged_df.head()"
   ]
  },
  {
   "cell_type": "markdown",
   "id": "a9847d63-93f8-4612-be84-cb67a8ae366a",
   "metadata": {},
   "source": [
    "- ### Birleştiren veriden tekrar eden özelliklerin kaldırılması"
   ]
  },
  {
   "cell_type": "code",
   "execution_count": 15,
   "id": "462ab17a-9423-4e0b-995e-d6dbef5ee828",
   "metadata": {},
   "outputs": [],
   "source": [
    "merged_df.drop(['Sleep_Hours_Per_Day', 'Study_Hours_Per_Day', 'Work/Study Hours', 'CGPA','Sleep Duration'], axis=1, inplace=True) "
   ]
  },
  {
   "cell_type": "markdown",
   "id": "c34c746a-ffc9-4155-88b2-9442cdd49551",
   "metadata": {},
   "source": [
    "- ### Birleştirmiş veri setinin boyutu"
   ]
  },
  {
   "cell_type": "code",
   "execution_count": 16,
   "id": "d7365c51-0aff-4b77-9dc8-3ad0d5434d1d",
   "metadata": {},
   "outputs": [
    {
     "name": "stdout",
     "output_type": "stream",
     "text": [
      "\n",
      "Birleştirilmiş veri seti boyutu: (3443, 10)\n"
     ]
    }
   ],
   "source": [
    "print(\"\\nBirleştirilmiş veri seti boyutu:\", merged_df.shape)"
   ]
  },
  {
   "cell_type": "markdown",
   "id": "08aea03c-1bc2-4e11-83cc-181da8d0ae7c",
   "metadata": {},
   "source": [
    "- ### Nihai veri seti kaydetme"
   ]
  },
  {
   "cell_type": "code",
   "execution_count": 17,
   "id": "0846c158-30f3-49a9-8eb4-993979cef147",
   "metadata": {},
   "outputs": [],
   "source": [
    "merged_df.to_csv(\"./datasets/Merged_Student_Lifestyle_MentalHealth.csv\", index=False)"
   ]
  },
  {
   "cell_type": "markdown",
   "id": "b2e4ced3-607d-4a77-936c-6ad2a6796ab1",
   "metadata": {},
   "source": [
    "<div style=\"border-radius: 15px 0 15px 0px; border: 2px solid #f1c40f; padding: 10px; background-color: #90e0ef; text-align: center; box-shadow: 0px 2px 4px rgba(0, 0, 0, 0.2);\">\n",
    "    <h1 style=\"color: #38040e; text-shadow: 2px 2px 4px rgba(0, 0, 0, 0.5); font-weight: bold; margin-bottom: 10px; font-size: 24px;\">Keşifsel Veri Analizi (EDA)</h1>\n",
    "</div>"
   ]
  },
  {
   "cell_type": "markdown",
   "id": "2c3e660f-7723-42b4-9378-7a9a023130cf",
   "metadata": {},
   "source": [
    "- ## **Amaç:** Verinin yapısını anlamak, türleri, eksik değerleri, çift kayıtları görmek vb."
   ]
  },
  {
   "cell_type": "markdown",
   "id": "bb7d50ac-3347-4d7a-87b9-2481abe3055b",
   "metadata": {},
   "source": [
    "### 1. İlk 5 satır"
   ]
  },
  {
   "cell_type": "code",
   "execution_count": 18,
   "id": "e7588476-55f8-44a7-968e-8fb1f8811e56",
   "metadata": {},
   "outputs": [
    {
     "data": {
      "text/html": [
       "<div>\n",
       "<style scoped>\n",
       "    .dataframe tbody tr th:only-of-type {\n",
       "        vertical-align: middle;\n",
       "    }\n",
       "\n",
       "    .dataframe tbody tr th {\n",
       "        vertical-align: top;\n",
       "    }\n",
       "\n",
       "    .dataframe thead th {\n",
       "        text-align: right;\n",
       "    }\n",
       "</style>\n",
       "<table border=\"1\" class=\"dataframe\">\n",
       "  <thead>\n",
       "    <tr style=\"text-align: right;\">\n",
       "      <th></th>\n",
       "      <th>Extracurricular_Hours_Per_Day</th>\n",
       "      <th>Social_Hours_Per_Day</th>\n",
       "      <th>Physical_Activity_Hours_Per_Day</th>\n",
       "      <th>GPA</th>\n",
       "      <th>Stress_Level</th>\n",
       "      <th>study_hours</th>\n",
       "      <th>sleep_hours</th>\n",
       "      <th>Academic Pressure</th>\n",
       "      <th>Financial Stress</th>\n",
       "      <th>Depression</th>\n",
       "    </tr>\n",
       "  </thead>\n",
       "  <tbody>\n",
       "    <tr>\n",
       "      <th>0</th>\n",
       "      <td>3.8</td>\n",
       "      <td>2.8</td>\n",
       "      <td>1.8</td>\n",
       "      <td>2.99</td>\n",
       "      <td>Moderate</td>\n",
       "      <td>7</td>\n",
       "      <td>9</td>\n",
       "      <td>3.0</td>\n",
       "      <td>1.0</td>\n",
       "      <td>1</td>\n",
       "    </tr>\n",
       "    <tr>\n",
       "      <th>1</th>\n",
       "      <td>3.8</td>\n",
       "      <td>2.8</td>\n",
       "      <td>1.8</td>\n",
       "      <td>2.99</td>\n",
       "      <td>Moderate</td>\n",
       "      <td>7</td>\n",
       "      <td>9</td>\n",
       "      <td>1.0</td>\n",
       "      <td>4.0</td>\n",
       "      <td>0</td>\n",
       "    </tr>\n",
       "    <tr>\n",
       "      <th>2</th>\n",
       "      <td>3.8</td>\n",
       "      <td>2.8</td>\n",
       "      <td>1.8</td>\n",
       "      <td>2.99</td>\n",
       "      <td>Moderate</td>\n",
       "      <td>7</td>\n",
       "      <td>9</td>\n",
       "      <td>1.0</td>\n",
       "      <td>2.0</td>\n",
       "      <td>0</td>\n",
       "    </tr>\n",
       "    <tr>\n",
       "      <th>3</th>\n",
       "      <td>0.6</td>\n",
       "      <td>2.2</td>\n",
       "      <td>6.6</td>\n",
       "      <td>3.51</td>\n",
       "      <td>High</td>\n",
       "      <td>8</td>\n",
       "      <td>6</td>\n",
       "      <td>3.0</td>\n",
       "      <td>4.0</td>\n",
       "      <td>1</td>\n",
       "    </tr>\n",
       "    <tr>\n",
       "      <th>4</th>\n",
       "      <td>2.1</td>\n",
       "      <td>0.3</td>\n",
       "      <td>7.6</td>\n",
       "      <td>2.85</td>\n",
       "      <td>Moderate</td>\n",
       "      <td>6</td>\n",
       "      <td>8</td>\n",
       "      <td>1.0</td>\n",
       "      <td>3.0</td>\n",
       "      <td>1</td>\n",
       "    </tr>\n",
       "  </tbody>\n",
       "</table>\n",
       "</div>"
      ],
      "text/plain": [
       "   Extracurricular_Hours_Per_Day  Social_Hours_Per_Day  \\\n",
       "0                            3.8                   2.8   \n",
       "1                            3.8                   2.8   \n",
       "2                            3.8                   2.8   \n",
       "3                            0.6                   2.2   \n",
       "4                            2.1                   0.3   \n",
       "\n",
       "   Physical_Activity_Hours_Per_Day   GPA Stress_Level  study_hours  \\\n",
       "0                              1.8  2.99     Moderate            7   \n",
       "1                              1.8  2.99     Moderate            7   \n",
       "2                              1.8  2.99     Moderate            7   \n",
       "3                              6.6  3.51         High            8   \n",
       "4                              7.6  2.85     Moderate            6   \n",
       "\n",
       "   sleep_hours  Academic Pressure Financial Stress  Depression  \n",
       "0            9                3.0              1.0           1  \n",
       "1            9                1.0              4.0           0  \n",
       "2            9                1.0              2.0           0  \n",
       "3            6                3.0              4.0           1  \n",
       "4            8                1.0              3.0           1  "
      ]
     },
     "execution_count": 18,
     "metadata": {},
     "output_type": "execute_result"
    }
   ],
   "source": [
    "merged_df.head()"
   ]
  },
  {
   "cell_type": "markdown",
   "id": "a27919c9-594b-452e-8c35-f3b5e54571b2",
   "metadata": {},
   "source": [
    "### 1.2 Boyut ve sütun tipleri"
   ]
  },
  {
   "cell_type": "code",
   "execution_count": 19,
   "id": "d2eca23d-9565-4c15-9af8-d0408dc7a677",
   "metadata": {},
   "outputs": [
    {
     "name": "stdout",
     "output_type": "stream",
     "text": [
      "Shape: (3443, 10)\n",
      "\n",
      " Extracurricular_Hours_Per_Day      float64\n",
      "Social_Hours_Per_Day               float64\n",
      "Physical_Activity_Hours_Per_Day    float64\n",
      "GPA                                float64\n",
      "Stress_Level                        object\n",
      "study_hours                          int64\n",
      "sleep_hours                          int64\n",
      "Academic Pressure                  float64\n",
      "Financial Stress                    object\n",
      "Depression                           int64\n",
      "dtype: object\n"
     ]
    }
   ],
   "source": [
    "print(\"Shape:\", merged_df.shape)\n",
    "print(\"\\n\",merged_df.dtypes)"
   ]
  },
  {
   "cell_type": "markdown",
   "id": "aefeedad-b661-4442-9f4e-e4e67d6f3411",
   "metadata": {},
   "source": [
    "### 1.3 Özet istatistik (sayısal)\n"
   ]
  },
  {
   "cell_type": "code",
   "execution_count": 20,
   "id": "a859cfd1-fedb-4bda-b87c-e2c12f3c7120",
   "metadata": {},
   "outputs": [
    {
     "data": {
      "text/html": [
       "<div>\n",
       "<style scoped>\n",
       "    .dataframe tbody tr th:only-of-type {\n",
       "        vertical-align: middle;\n",
       "    }\n",
       "\n",
       "    .dataframe tbody tr th {\n",
       "        vertical-align: top;\n",
       "    }\n",
       "\n",
       "    .dataframe thead th {\n",
       "        text-align: right;\n",
       "    }\n",
       "</style>\n",
       "<table border=\"1\" class=\"dataframe\">\n",
       "  <thead>\n",
       "    <tr style=\"text-align: right;\">\n",
       "      <th></th>\n",
       "      <th>count</th>\n",
       "      <th>mean</th>\n",
       "      <th>std</th>\n",
       "      <th>min</th>\n",
       "      <th>25%</th>\n",
       "      <th>50%</th>\n",
       "      <th>75%</th>\n",
       "      <th>max</th>\n",
       "    </tr>\n",
       "  </thead>\n",
       "  <tbody>\n",
       "    <tr>\n",
       "      <th>Extracurricular_Hours_Per_Day</th>\n",
       "      <td>3443.0</td>\n",
       "      <td>1.968603</td>\n",
       "      <td>1.172825</td>\n",
       "      <td>0.00</td>\n",
       "      <td>1.00</td>\n",
       "      <td>1.90</td>\n",
       "      <td>3.00</td>\n",
       "      <td>4.0</td>\n",
       "    </tr>\n",
       "    <tr>\n",
       "      <th>Social_Hours_Per_Day</th>\n",
       "      <td>3443.0</td>\n",
       "      <td>2.733488</td>\n",
       "      <td>1.668889</td>\n",
       "      <td>0.00</td>\n",
       "      <td>1.30</td>\n",
       "      <td>2.60</td>\n",
       "      <td>4.10</td>\n",
       "      <td>6.0</td>\n",
       "    </tr>\n",
       "    <tr>\n",
       "      <th>Physical_Activity_Hours_Per_Day</th>\n",
       "      <td>3443.0</td>\n",
       "      <td>3.835957</td>\n",
       "      <td>2.347281</td>\n",
       "      <td>0.00</td>\n",
       "      <td>1.90</td>\n",
       "      <td>3.70</td>\n",
       "      <td>5.50</td>\n",
       "      <td>12.4</td>\n",
       "    </tr>\n",
       "    <tr>\n",
       "      <th>GPA</th>\n",
       "      <td>3443.0</td>\n",
       "      <td>3.183082</td>\n",
       "      <td>0.294389</td>\n",
       "      <td>2.28</td>\n",
       "      <td>2.95</td>\n",
       "      <td>3.18</td>\n",
       "      <td>3.42</td>\n",
       "      <td>4.0</td>\n",
       "    </tr>\n",
       "    <tr>\n",
       "      <th>study_hours</th>\n",
       "      <td>3443.0</td>\n",
       "      <td>7.895730</td>\n",
       "      <td>1.545510</td>\n",
       "      <td>5.00</td>\n",
       "      <td>6.00</td>\n",
       "      <td>8.00</td>\n",
       "      <td>9.00</td>\n",
       "      <td>10.0</td>\n",
       "    </tr>\n",
       "    <tr>\n",
       "      <th>sleep_hours</th>\n",
       "      <td>3443.0</td>\n",
       "      <td>7.622713</td>\n",
       "      <td>1.183720</td>\n",
       "      <td>6.00</td>\n",
       "      <td>6.00</td>\n",
       "      <td>8.00</td>\n",
       "      <td>9.00</td>\n",
       "      <td>9.0</td>\n",
       "    </tr>\n",
       "    <tr>\n",
       "      <th>Academic Pressure</th>\n",
       "      <td>3443.0</td>\n",
       "      <td>3.106303</td>\n",
       "      <td>1.375587</td>\n",
       "      <td>0.00</td>\n",
       "      <td>2.00</td>\n",
       "      <td>3.00</td>\n",
       "      <td>4.00</td>\n",
       "      <td>5.0</td>\n",
       "    </tr>\n",
       "  </tbody>\n",
       "</table>\n",
       "</div>"
      ],
      "text/plain": [
       "                                  count      mean       std   min   25%   50%  \\\n",
       "Extracurricular_Hours_Per_Day    3443.0  1.968603  1.172825  0.00  1.00  1.90   \n",
       "Social_Hours_Per_Day             3443.0  2.733488  1.668889  0.00  1.30  2.60   \n",
       "Physical_Activity_Hours_Per_Day  3443.0  3.835957  2.347281  0.00  1.90  3.70   \n",
       "GPA                              3443.0  3.183082  0.294389  2.28  2.95  3.18   \n",
       "study_hours                      3443.0  7.895730  1.545510  5.00  6.00  8.00   \n",
       "sleep_hours                      3443.0  7.622713  1.183720  6.00  6.00  8.00   \n",
       "Academic Pressure                3443.0  3.106303  1.375587  0.00  2.00  3.00   \n",
       "\n",
       "                                  75%   max  \n",
       "Extracurricular_Hours_Per_Day    3.00   4.0  \n",
       "Social_Hours_Per_Day             4.10   6.0  \n",
       "Physical_Activity_Hours_Per_Day  5.50  12.4  \n",
       "GPA                              3.42   4.0  \n",
       "study_hours                      9.00  10.0  \n",
       "sleep_hours                      9.00   9.0  \n",
       "Academic Pressure                4.00   5.0  "
      ]
     },
     "execution_count": 20,
     "metadata": {},
     "output_type": "execute_result"
    }
   ],
   "source": [
    "merged_df.drop(['Depression'],axis=1).describe().T"
   ]
  },
  {
   "cell_type": "markdown",
   "id": "30a5b989-e960-4df2-962a-a865dc579e74",
   "metadata": {},
   "source": [
    "- **Ders dışı aktiviteler:** Ortalama 2 saat civarında.\n",
    "\n",
    "- **Sosyal aktiviteler:** Ortalama 2.7 saat, minimum 0 maksimum 6 saat.\n",
    "\n",
    "- **Fiziksel aktivite:** Ortalama 3.8 saat, öğrenciler arasında farklar var.\n",
    "\n",
    "- **GPA:** Ortalama 3.18,akademik başarı düzeyini gösteriyor.\n",
    "\n",
    "- **Çalışma saati:** Ortalama 7.9 saat.\n",
    "\n",
    "- **Uyku süresi:** Ortalama 7.6 saat.\n",
    "\n",
    "- **Akademik baskı:** 5 üzerinden ortalama 3,yani çoğu öğrenci orta düzey stres hissediyor."
   ]
  },
  {
   "cell_type": "markdown",
   "id": "b234c837-e536-4c62-8490-ff0e8b0b8a14",
   "metadata": {},
   "source": [
    "Tabloya baktığımızda, öğrencilerin genel olarak dengeli bir yaşam tarzına sahip olduklarını, ancak bazı öğrencilerde aşırı çalışma, düşük sosyal aktivite veya yüksek akademik baskı gibi dengesizliklerin görüldüğünü söyleyebiliriz.\n",
    "Bu farklılıklar, depresyon riskini etkileyebilecek önemli göstergeler olabilir."
   ]
  },
  {
   "cell_type": "markdown",
   "id": "09fca4f9-6ad7-4374-83ad-81732cfce7b3",
   "metadata": {},
   "source": [
    "### 1.5 Kategorik değişkenlerin frekansları"
   ]
  },
  {
   "cell_type": "code",
   "execution_count": 21,
   "id": "6616381c-21b6-4c5a-a65f-85759a26b880",
   "metadata": {},
   "outputs": [
    {
     "name": "stdout",
     "output_type": "stream",
     "text": [
      "\n",
      "--- Stress_Level ---\n",
      "Stress_Level\n",
      "High        1982\n",
      "Moderate    1054\n",
      "Low          407\n",
      "Name: count, dtype: int64\n",
      "\n",
      "--- Financial Stress ---\n",
      "Financial Stress\n",
      "5.0    853\n",
      "4.0    776\n",
      "3.0    648\n",
      "2.0    621\n",
      "1.0    545\n",
      "Name: count, dtype: int64\n"
     ]
    }
   ],
   "source": [
    "for col in merged_df.select_dtypes(include='object').columns:\n",
    "    print(f\"\\n--- {col} ---\")\n",
    "    print(merged_df[col].value_counts(dropna=False).head(20))"
   ]
  },
  {
   "cell_type": "markdown",
   "id": "2bf6c204-181e-4a02-a0ed-1a8f45356233",
   "metadata": {},
   "source": [
    "- ## Eksik veriler (Missing values)"
   ]
  },
  {
   "cell_type": "markdown",
   "id": "3cec0af6-356f-4ae7-8690-5cc38cc4bc8a",
   "metadata": {},
   "source": [
    "### **Amaç:** Hangi sütunlarda kaç tane eksik var, eksiklerin yapısına göre strateji seçecektir."
   ]
  },
  {
   "cell_type": "markdown",
   "id": "1fefe866-8551-49bb-8644-b4f92aaad26a",
   "metadata": {},
   "source": [
    "### 2.1 Eksik değer sayısı ve oranı"
   ]
  },
  {
   "cell_type": "code",
   "execution_count": 22,
   "id": "b175506d-bb49-48a1-9ae4-eedfeb62ca4f",
   "metadata": {},
   "outputs": [
    {
     "data": {
      "text/html": [
       "<div>\n",
       "<style scoped>\n",
       "    .dataframe tbody tr th:only-of-type {\n",
       "        vertical-align: middle;\n",
       "    }\n",
       "\n",
       "    .dataframe tbody tr th {\n",
       "        vertical-align: top;\n",
       "    }\n",
       "\n",
       "    .dataframe thead th {\n",
       "        text-align: right;\n",
       "    }\n",
       "</style>\n",
       "<table border=\"1\" class=\"dataframe\">\n",
       "  <thead>\n",
       "    <tr style=\"text-align: right;\">\n",
       "      <th></th>\n",
       "      <th>count</th>\n",
       "      <th>percent</th>\n",
       "    </tr>\n",
       "  </thead>\n",
       "  <tbody>\n",
       "    <tr>\n",
       "      <th>Extracurricular_Hours_Per_Day</th>\n",
       "      <td>0</td>\n",
       "      <td>0.0</td>\n",
       "    </tr>\n",
       "    <tr>\n",
       "      <th>Social_Hours_Per_Day</th>\n",
       "      <td>0</td>\n",
       "      <td>0.0</td>\n",
       "    </tr>\n",
       "    <tr>\n",
       "      <th>Physical_Activity_Hours_Per_Day</th>\n",
       "      <td>0</td>\n",
       "      <td>0.0</td>\n",
       "    </tr>\n",
       "    <tr>\n",
       "      <th>GPA</th>\n",
       "      <td>0</td>\n",
       "      <td>0.0</td>\n",
       "    </tr>\n",
       "    <tr>\n",
       "      <th>Stress_Level</th>\n",
       "      <td>0</td>\n",
       "      <td>0.0</td>\n",
       "    </tr>\n",
       "    <tr>\n",
       "      <th>study_hours</th>\n",
       "      <td>0</td>\n",
       "      <td>0.0</td>\n",
       "    </tr>\n",
       "    <tr>\n",
       "      <th>sleep_hours</th>\n",
       "      <td>0</td>\n",
       "      <td>0.0</td>\n",
       "    </tr>\n",
       "    <tr>\n",
       "      <th>Academic Pressure</th>\n",
       "      <td>0</td>\n",
       "      <td>0.0</td>\n",
       "    </tr>\n",
       "    <tr>\n",
       "      <th>Financial Stress</th>\n",
       "      <td>0</td>\n",
       "      <td>0.0</td>\n",
       "    </tr>\n",
       "    <tr>\n",
       "      <th>Depression</th>\n",
       "      <td>0</td>\n",
       "      <td>0.0</td>\n",
       "    </tr>\n",
       "  </tbody>\n",
       "</table>\n",
       "</div>"
      ],
      "text/plain": [
       "                                 count  percent\n",
       "Extracurricular_Hours_Per_Day        0      0.0\n",
       "Social_Hours_Per_Day                 0      0.0\n",
       "Physical_Activity_Hours_Per_Day      0      0.0\n",
       "GPA                                  0      0.0\n",
       "Stress_Level                         0      0.0\n",
       "study_hours                          0      0.0\n",
       "sleep_hours                          0      0.0\n",
       "Academic Pressure                    0      0.0\n",
       "Financial Stress                     0      0.0\n",
       "Depression                           0      0.0"
      ]
     },
     "execution_count": 22,
     "metadata": {},
     "output_type": "execute_result"
    }
   ],
   "source": [
    "miss = merged_df.isnull().sum().sort_values(ascending=False)\n",
    "miss_percent = (miss / len(merged_df) * 100).round(2)\n",
    "pd.concat([miss, miss_percent], axis=1, keys=['count', 'percent']).head(30)"
   ]
  },
  {
   "cell_type": "code",
   "execution_count": 23,
   "id": "e10d3be0-33ed-41c4-aa55-435926b134a9",
   "metadata": {},
   "outputs": [
    {
     "name": "stdout",
     "output_type": "stream",
     "text": [
      "<class 'pandas.core.frame.DataFrame'>\n",
      "RangeIndex: 3443 entries, 0 to 3442\n",
      "Data columns (total 10 columns):\n",
      " #   Column                           Non-Null Count  Dtype  \n",
      "---  ------                           --------------  -----  \n",
      " 0   Extracurricular_Hours_Per_Day    3443 non-null   float64\n",
      " 1   Social_Hours_Per_Day             3443 non-null   float64\n",
      " 2   Physical_Activity_Hours_Per_Day  3443 non-null   float64\n",
      " 3   GPA                              3443 non-null   float64\n",
      " 4   Stress_Level                     3443 non-null   object \n",
      " 5   study_hours                      3443 non-null   int64  \n",
      " 6   sleep_hours                      3443 non-null   int64  \n",
      " 7   Academic Pressure                3443 non-null   float64\n",
      " 8   Financial Stress                 3443 non-null   object \n",
      " 9   Depression                       3443 non-null   int64  \n",
      "dtypes: float64(5), int64(3), object(2)\n",
      "memory usage: 269.1+ KB\n"
     ]
    }
   ],
   "source": [
    "merged_df.info()"
   ]
  },
  {
   "cell_type": "markdown",
   "id": "de3ed0a9-9788-4d81-94dd-11846c960fb6",
   "metadata": {},
   "source": [
    "# Stres Düzeyi için Etiket Kodlaması (Label Encoding)"
   ]
  },
  {
   "cell_type": "code",
   "execution_count": 24,
   "id": "d56b23b2-5484-4e25-ad30-a0e46da08092",
   "metadata": {},
   "outputs": [],
   "source": [
    "merged_df['Stress_Level'] = merged_df['Stress_Level'].map({\n",
    "    'Low': 0,\n",
    "    'Moderate': 1,\n",
    "    'High': 2\n",
    "})"
   ]
  },
  {
   "cell_type": "code",
   "execution_count": 25,
   "id": "9dc386e9-01f8-4ac9-841e-2aee7f7fbc63",
   "metadata": {},
   "outputs": [
    {
     "data": {
      "text/html": [
       "<div>\n",
       "<style scoped>\n",
       "    .dataframe tbody tr th:only-of-type {\n",
       "        vertical-align: middle;\n",
       "    }\n",
       "\n",
       "    .dataframe tbody tr th {\n",
       "        vertical-align: top;\n",
       "    }\n",
       "\n",
       "    .dataframe thead th {\n",
       "        text-align: right;\n",
       "    }\n",
       "</style>\n",
       "<table border=\"1\" class=\"dataframe\">\n",
       "  <thead>\n",
       "    <tr style=\"text-align: right;\">\n",
       "      <th></th>\n",
       "      <th>Extracurricular_Hours_Per_Day</th>\n",
       "      <th>Social_Hours_Per_Day</th>\n",
       "      <th>Physical_Activity_Hours_Per_Day</th>\n",
       "      <th>GPA</th>\n",
       "      <th>Stress_Level</th>\n",
       "      <th>study_hours</th>\n",
       "      <th>sleep_hours</th>\n",
       "      <th>Academic Pressure</th>\n",
       "      <th>Financial Stress</th>\n",
       "      <th>Depression</th>\n",
       "    </tr>\n",
       "  </thead>\n",
       "  <tbody>\n",
       "    <tr>\n",
       "      <th>1697</th>\n",
       "      <td>0.0</td>\n",
       "      <td>4.4</td>\n",
       "      <td>2.2</td>\n",
       "      <td>3.38</td>\n",
       "      <td>2</td>\n",
       "      <td>10</td>\n",
       "      <td>8</td>\n",
       "      <td>5.0</td>\n",
       "      <td>4.0</td>\n",
       "      <td>1</td>\n",
       "    </tr>\n",
       "    <tr>\n",
       "      <th>1623</th>\n",
       "      <td>0.8</td>\n",
       "      <td>5.6</td>\n",
       "      <td>3.8</td>\n",
       "      <td>3.45</td>\n",
       "      <td>2</td>\n",
       "      <td>8</td>\n",
       "      <td>6</td>\n",
       "      <td>3.0</td>\n",
       "      <td>2.0</td>\n",
       "      <td>0</td>\n",
       "    </tr>\n",
       "    <tr>\n",
       "      <th>3295</th>\n",
       "      <td>4.0</td>\n",
       "      <td>3.2</td>\n",
       "      <td>0.4</td>\n",
       "      <td>2.95</td>\n",
       "      <td>1</td>\n",
       "      <td>7</td>\n",
       "      <td>9</td>\n",
       "      <td>3.0</td>\n",
       "      <td>4.0</td>\n",
       "      <td>0</td>\n",
       "    </tr>\n",
       "    <tr>\n",
       "      <th>1646</th>\n",
       "      <td>0.6</td>\n",
       "      <td>3.6</td>\n",
       "      <td>3.4</td>\n",
       "      <td>3.26</td>\n",
       "      <td>1</td>\n",
       "      <td>8</td>\n",
       "      <td>9</td>\n",
       "      <td>2.0</td>\n",
       "      <td>5.0</td>\n",
       "      <td>0</td>\n",
       "    </tr>\n",
       "    <tr>\n",
       "      <th>1021</th>\n",
       "      <td>2.6</td>\n",
       "      <td>2.1</td>\n",
       "      <td>1.2</td>\n",
       "      <td>3.38</td>\n",
       "      <td>2</td>\n",
       "      <td>10</td>\n",
       "      <td>8</td>\n",
       "      <td>2.0</td>\n",
       "      <td>4.0</td>\n",
       "      <td>1</td>\n",
       "    </tr>\n",
       "    <tr>\n",
       "      <th>2012</th>\n",
       "      <td>2.7</td>\n",
       "      <td>2.9</td>\n",
       "      <td>2.1</td>\n",
       "      <td>3.49</td>\n",
       "      <td>2</td>\n",
       "      <td>10</td>\n",
       "      <td>6</td>\n",
       "      <td>1.0</td>\n",
       "      <td>4.0</td>\n",
       "      <td>0</td>\n",
       "    </tr>\n",
       "  </tbody>\n",
       "</table>\n",
       "</div>"
      ],
      "text/plain": [
       "      Extracurricular_Hours_Per_Day  Social_Hours_Per_Day  \\\n",
       "1697                            0.0                   4.4   \n",
       "1623                            0.8                   5.6   \n",
       "3295                            4.0                   3.2   \n",
       "1646                            0.6                   3.6   \n",
       "1021                            2.6                   2.1   \n",
       "2012                            2.7                   2.9   \n",
       "\n",
       "      Physical_Activity_Hours_Per_Day   GPA  Stress_Level  study_hours  \\\n",
       "1697                              2.2  3.38             2           10   \n",
       "1623                              3.8  3.45             2            8   \n",
       "3295                              0.4  2.95             1            7   \n",
       "1646                              3.4  3.26             1            8   \n",
       "1021                              1.2  3.38             2           10   \n",
       "2012                              2.1  3.49             2           10   \n",
       "\n",
       "      sleep_hours  Academic Pressure Financial Stress  Depression  \n",
       "1697            8                5.0              4.0           1  \n",
       "1623            6                3.0              2.0           0  \n",
       "3295            9                3.0              4.0           0  \n",
       "1646            9                2.0              5.0           0  \n",
       "1021            8                2.0              4.0           1  \n",
       "2012            6                1.0              4.0           0  "
      ]
     },
     "execution_count": 25,
     "metadata": {},
     "output_type": "execute_result"
    }
   ],
   "source": [
    "merged_df.sample(6)"
   ]
  },
  {
   "cell_type": "markdown",
   "id": "d35c2ef5-b48c-4b83-ab5e-db4c5de6d024",
   "metadata": {},
   "source": [
    "- ### Histogramlar / yoğunluk"
   ]
  },
  {
   "cell_type": "code",
   "execution_count": 26,
   "id": "f2939288-0da0-4e82-934e-d5172c07e6ca",
   "metadata": {},
   "outputs": [
    {
     "data": {
      "image/png": "[encoded data removed]",
      "text/plain": [
       "<Figure size 1200x800 with 9 Axes>"
      ]
     },
     "metadata": {},
     "output_type": "display_data"
    }
   ],
   "source": [
    "num_cols = merged_df.select_dtypes(include=[np.number]).columns.tolist()\n",
    "\n",
    "plt.figure(figsize=(12, 8))\n",
    "for i, col in enumerate(num_cols):\n",
    "    plt.subplot(3, 4, i+1)\n",
    "    plt.hist(merged_df[col].dropna(), bins=30)\n",
    "    plt.title(col)\n",
    "plt.tight_layout()\n",
    "plt.show()"
   ]
  },
  {
   "cell_type": "markdown",
   "id": "441d5608-6187-4e25-8a7c-70694298388d",
   "metadata": {},
   "source": [
    "- ### Aykırı görselleştirme"
   ]
  },
  {
   "cell_type": "code",
   "execution_count": 27,
   "id": "ee0137be-c8d0-41e8-8c81-cdfc61625f06",
   "metadata": {},
   "outputs": [
    {
     "data": {
      "image/png": "[encoded data removed]",
      "text/plain": [
       "<Figure size 1000x600 with 1 Axes>"
      ]
     },
     "metadata": {},
     "output_type": "display_data"
    }
   ],
   "source": [
    "plt.figure(figsize=(10, 6))\n",
    "merged_df.boxplot(column=['study_hours','sleep_hours','Physical_Activity_Hours_Per_Day','Social_Hours_Per_Day','Extracurricular_Hours_Per_Day'])\n",
    "plt.show()"
   ]
  },
  {
   "cell_type": "code",
   "execution_count": 28,
   "id": "a9e06b97-b0a0-48c3-8ab2-099b16c87ce0",
   "metadata": {},
   "outputs": [
    {
     "data": {
      "image/png": "[encoded data removed]",
      "text/plain": [
       "<Figure size 1000x800 with 2 Axes>"
      ]
     },
     "metadata": {},
     "output_type": "display_data"
    }
   ],
   "source": [
    "corr = merged_df[num_cols].corr()\n",
    "plt.figure(figsize=(10, 8))\n",
    "sns.heatmap(\n",
    "    corr, \n",
    "    annot=True,        \n",
    "    fmt=\".2f\",         \n",
    "    cmap='coolwarm',  \n",
    "    vmin=-1, vmax=1    \n",
    ")\n",
    "plt.title(\"Numerical Features Correlation Matrix\")\n",
    "plt.show()"
   ]
  },
  {
   "cell_type": "markdown",
   "id": "64f4dbd0-fb26-433f-b144-dbd3a60b8dc6",
   "metadata": {},
   "source": [
    "- Yapılan korelasyon analizi sonucunda, depresyon değişkeniyle en yüksek pozitif ilişkiye sahip değişkenin **Academic Pressure** olduğu görülmüştür **(r ≈ 0.42)**.\n",
    "Bu, öğrencilerin akademik baskı düzeyi arttıkça depresyon olasılığının da belirgin şekilde yükseldiğini göstermektedir.\n",
    "\n",
    "- **Study Hours** değişkeni düşük düzeyde pozitif bir ilişki **(r ≈ 0.12)** göstermiştir. Bu durum, aşırı ders çalışma süresinin depresyon riskini hafifçe artırabileceğini düşündürmektedir.\n",
    "\n",
    "- Buna karşılık, **Physical Activity Hours Per Day** ve **Extracurricular Hours Per Day** değişkenleri depresyonla zayıf negatif ilişki göstermektedir. Yani öğrenciler daha fazla fiziksel aktivite veya sosyal etkinliklere katıldıkça depresyon riskinin az da olsa düştüğü söylenebilir.\n",
    "\n",
    "Genel olarak, akademik baskı depresyonu artıran en önemli faktör,\n",
    "fiziksel ve sosyal aktiviteler ise koruyucu faktörler olarak öne çıkmaktadır."
   ]
  },
  {
   "cell_type": "markdown",
   "id": "27322df2-5204-49a0-81ab-92240533b58e",
   "metadata": {},
   "source": [
    "- ## Sayısal Verilerin Ölçeklendirilmesi"
   ]
  },
  {
   "cell_type": "markdown",
   "id": "49eae576-ac2e-4d93-9e1c-dc801e74ae4f",
   "metadata": {},
   "source": [
    "#### Veri setinde yer alan sayısal değişkenler farklı ölçeklerde olduğundan, modelin ağırlık öğrenmesini zorlaştırabilir. Bu nedenle tüm sayısal değerler benzer aralıklara dönüştürülür."
   ]
  },
  {
   "cell_type": "markdown",
   "id": "9841afe1-90c8-49c9-9228-8804d153786e",
   "metadata": {},
   "source": [
    "<div style=\"border-radius: 15px 0 15px 0px; border: 2px solid #f1c40f; padding: 10px; background-color: #90e0ef; text-align: center; box-shadow: 0px 2px 4px rgba(0, 0, 0, 0.2);\">\n",
    "    <h1 style=\"color: #38040e; text-shadow: 2px 2px 4px rgba(0, 0, 0, 0.5); font-weight: bold; margin-bottom: 10px; font-size: 24px;\">Modelleme</h1>\n",
    "</div>"
   ]
  },
  {
   "cell_type": "markdown",
   "id": "8b529199-319d-4d2c-9636-938b95c1745b",
   "metadata": {},
   "source": [
    "## 1) Veri/Hedef Hazırlığı"
   ]
  },
  {
   "cell_type": "markdown",
   "id": "acb071e0-3653-46d7-94ae-a2cd9f15a438",
   "metadata": {},
   "source": [
    "**Amaç:** Modeli eğitmek için X (özellikler) ve y (target=Depression) hazırlama"
   ]
  },
  {
   "cell_type": "code",
   "execution_count": 29,
   "id": "0f998ce6-11a7-494b-b352-e1331eb15367",
   "metadata": {},
   "outputs": [],
   "source": [
    "y = merged_df['Depression']\n",
    "X = merged_df.drop(columns=['Depression'])"
   ]
  },
  {
   "cell_type": "markdown",
   "id": "21178149-3a09-4e36-bec9-4ee1464fe6c5",
   "metadata": {},
   "source": [
    "## 2) Train/Test Veri Ayırma"
   ]
  },
  {
   "cell_type": "markdown",
   "id": "1c3f014f-3a57-4f0d-bf06-92d2c1b88f52",
   "metadata": {},
   "source": [
    "**Amaç:** Veri setini eğitim ve test olarak ayırılmaktadır. stratify=y sınıf dağılımını korumaktadır."
   ]
  },
  {
   "cell_type": "code",
   "execution_count": 30,
   "id": "b40ae8c2-fd01-40d2-8b00-1272f13ee100",
   "metadata": {},
   "outputs": [],
   "source": [
    "X_train, X_test, y_train, y_test = train_test_split(\n",
    "    X, y, test_size=0.2, random_state=42, stratify=y\n",
    ")"
   ]
  },
  {
   "cell_type": "markdown",
   "id": "26a97316-2e9d-48d3-821c-c7ed1133c478",
   "metadata": {},
   "source": [
    "## 3) Ölçeklendirme (Model Bazlı)"
   ]
  },
  {
   "cell_type": "markdown",
   "id": "0120a3d1-c23c-4597-a84c-aab030d6bd57",
   "metadata": {},
   "source": [
    "**Amaç:** SVM ve KNN için MinMaxScaler uygulayacağız; RandomForest ölçeklendirme gerektirmez."
   ]
  },
  {
   "cell_type": "markdown",
   "id": "a3149559-f287-4eb3-9311-5c68cab112a4",
   "metadata": {},
   "source": [
    "- #### SVM/KNN için scale"
   ]
  },
  {
   "cell_type": "code",
   "execution_count": 31,
   "id": "f70ba0c6-8fa7-4492-b05c-925e9291fc4f",
   "metadata": {},
   "outputs": [],
   "source": [
    "scaler = MinMaxScaler()\n",
    "X_train_scaled = scaler.fit_transform(X_train)\n",
    "X_test_scaled = scaler.transform(X_test)"
   ]
  },
  {
   "cell_type": "markdown",
   "id": "16a47d54-27ee-4b23-9a74-88445b4f3351",
   "metadata": {},
   "source": [
    "## 4) Modellerin tanımlanması ve temel eğitim"
   ]
  },
  {
   "cell_type": "markdown",
   "id": "c9423078-007e-4b76-b0d9-2b1b31a10888",
   "metadata": {},
   "source": [
    "**Amaç:** Her model için basit parametrelerle baseline sonuçlarını almak."
   ]
  },
  {
   "cell_type": "code",
   "execution_count": 32,
   "id": "6c1410ad-483f-4441-98aa-29890e40385c",
   "metadata": {},
   "outputs": [],
   "source": [
    "# 1) Random Forest (no scaling, kullan X_train_sm)\n",
    "rf = RandomForestClassifier(    n_estimators=300,\n",
    "    max_depth=8,\n",
    "    min_samples_split=5,\n",
    "    min_samples_leaf=2,\n",
    "    max_features='sqrt',\n",
    "    class_weight='balanced',\n",
    "    random_state=42)\n",
    "rf.fit(X_train, y_train)\n",
    "y_pred_rf = rf.predict(X_test)\n",
    "\n",
    "# 2) SVM (RBF) (scaler kullanılmış X_train_scaled)\n",
    "svm = SVC(kernel='rbf', C=1.0, gamma='scale', probability=True, random_state=42)\n",
    "svm.fit(X_train_scaled, y_train)  # dikkat: X_train_scaled ile train resample edilmiş hali kullanıldıysa aynı index ve shape olmalı\n",
    "\n",
    "# Eğer X_train_sm kullanıldıysa, scale on it:\n",
    "scaler = MinMaxScaler()\n",
    "X_train_scaled = scaler.fit_transform(X_train)\n",
    "svm.fit(X_train_scaled, y_train)\n",
    "X_test_scaled = scaler.transform(X_test)\n",
    "y_pred_svm = svm.predict(X_test_scaled)\n",
    "\n",
    "# 3) KNN (k=5 baseline)\n",
    "knn = KNeighborsClassifier(n_neighbors=5)\n",
    "knn.fit(X_train_scaled, y_train)\n",
    "y_pred_knn = knn.predict(X_test_scaled)"
   ]
  },
  {
   "cell_type": "markdown",
   "id": "e414df77-75de-4a95-9053-f8542d6ae794",
   "metadata": {},
   "source": [
    "## 5) Değerlendirme metrikleri fonksiyonu"
   ]
  },
  {
   "cell_type": "markdown",
   "id": "37c752fb-167e-4ae5-8144-a4b5cea3237d",
   "metadata": {},
   "source": [
    "**Amaç:** Tek kod bloğuyla tüm metrikleri hesaplayıp raporlayalım."
   ]
  },
  {
   "cell_type": "code",
   "execution_count": 33,
   "id": "14b8b91b-3a74-40dc-ac40-211a81e73bf0",
   "metadata": {},
   "outputs": [],
   "source": [
    "def evaluate_model(name, y_true, y_pred, y_proba=None):\n",
    "    acc = accuracy_score(y_true, y_pred)\n",
    "    prec = precision_score(y_true, y_pred, zero_division=0)\n",
    "    rec = recall_score(y_true, y_pred, zero_division=0)\n",
    "    f1 = f1_score(y_true, y_pred, zero_division=0)\n",
    "\n",
    "    print(f\"--- {name} ---\")\n",
    "    print(\"Accuracy:\", round(acc, 4))\n",
    "    print(\"Precision:\", round(prec, 4))\n",
    "    print(\"Recall:\", round(rec, 4))\n",
    "    print(\"F1-score:\", round(f1, 4))\n",
    "\n",
    "    if y_proba is not None:\n",
    "        roc = roc_auc_score(y_true, y_proba)\n",
    "        print(\"ROC AUC:\", round(roc, 4))\n",
    "\n",
    "    print(\"\\nClassification Report:\\n\", classification_report(y_true, y_pred))\n",
    "\n",
    "    # Confusion Matrix\n",
    "    cm = confusion_matrix(y_true, y_pred)\n",
    "    print('confusion matrix',cm)\n",
    "\n",
    "    # Görsel olarak göster\n",
    "    plt.figure(figsize=(5, 4))\n",
    "    sns.heatmap(cm, annot=True, fmt='d', cmap='Blues', cbar=False)\n",
    "    plt.title(f\"{name} - Confusion Matrix\")\n",
    "    plt.xlabel('Predicted')\n",
    "    plt.ylabel('Actual')\n",
    "    plt.show()"
   ]
  },
  {
   "cell_type": "code",
   "execution_count": 34,
   "id": "f4d69883-cf2a-42c9-a397-d23a68e52519",
   "metadata": {},
   "outputs": [
    {
     "name": "stdout",
     "output_type": "stream",
     "text": [
      "--- Random Forest ---\n",
      "Accuracy: 0.7605\n",
      "Precision: 0.798\n",
      "Recall: 0.7961\n",
      "F1-score: 0.797\n",
      "ROC AUC: 0.8175\n",
      "\n",
      "Classification Report:\n",
      "               precision    recall  f1-score   support\n",
      "\n",
      "           0       0.71      0.71      0.71       282\n",
      "           1       0.80      0.80      0.80       407\n",
      "\n",
      "    accuracy                           0.76       689\n",
      "   macro avg       0.75      0.75      0.75       689\n",
      "weighted avg       0.76      0.76      0.76       689\n",
      "\n",
      "confusion matrix [[200  82]\n",
      " [ 83 324]]\n"
     ]
    },
    {
     "data": {
      "image/png": "[encoded data removed]",
      "text/plain": [
       "<Figure size 500x400 with 1 Axes>"
      ]
     },
     "metadata": {},
     "output_type": "display_data"
    },
    {
     "name": "stdout",
     "output_type": "stream",
     "text": [
      "--- SVM (RBF) ---\n",
      "Accuracy: 0.7562\n",
      "Precision: 0.7559\n",
      "Recall: 0.8673\n",
      "F1-score: 0.8078\n",
      "ROC AUC: 0.808\n",
      "\n",
      "Classification Report:\n",
      "               precision    recall  f1-score   support\n",
      "\n",
      "           0       0.76      0.60      0.67       282\n",
      "           1       0.76      0.87      0.81       407\n",
      "\n",
      "    accuracy                           0.76       689\n",
      "   macro avg       0.76      0.73      0.74       689\n",
      "weighted avg       0.76      0.76      0.75       689\n",
      "\n",
      "confusion matrix [[168 114]\n",
      " [ 54 353]]\n"
     ]
    },
    {
     "data": {
      "image/png": "[encoded data removed]",
      "text/plain": [
       "<Figure size 500x400 with 1 Axes>"
      ]
     },
     "metadata": {},
     "output_type": "display_data"
    },
    {
     "name": "stdout",
     "output_type": "stream",
     "text": [
      "--- KNN ---\n",
      "Accuracy: 0.7141\n",
      "Precision: 0.7408\n",
      "Recall: 0.7936\n",
      "F1-score: 0.7663\n",
      "ROC AUC: 0.7625\n",
      "\n",
      "Classification Report:\n",
      "               precision    recall  f1-score   support\n",
      "\n",
      "           0       0.67      0.60      0.63       282\n",
      "           1       0.74      0.79      0.77       407\n",
      "\n",
      "    accuracy                           0.71       689\n",
      "   macro avg       0.70      0.70      0.70       689\n",
      "weighted avg       0.71      0.71      0.71       689\n",
      "\n",
      "confusion matrix [[169 113]\n",
      " [ 84 323]]\n"
     ]
    },
    {
     "data": {
      "image/png": "[encoded data removed]",
      "text/plain": [
       "<Figure size 500x400 with 1 Axes>"
      ]
     },
     "metadata": {},
     "output_type": "display_data"
    }
   ],
   "source": [
    "# RF\n",
    "evaluate_model(\"Random Forest\", y_test, y_pred_rf, y_proba=rf.predict_proba(X_test)[:,1])\n",
    "\n",
    "# SVM\n",
    "evaluate_model(\"SVM (RBF)\", y_test, y_pred_svm, y_proba=svm.predict_proba(X_test_scaled)[:,1])\n",
    "\n",
    "# KNN\n",
    "evaluate_model(\"KNN\", y_test, y_pred_knn, y_proba=knn.predict_proba(X_test_scaled)[:,1])\n"
   ]
  },
  {
   "cell_type": "markdown",
   "id": "9ffa1a83-3025-462d-9068-a53e1fc1e5b2",
   "metadata": {},
   "source": [
    "- ### Model Karşılaştırması ve Sonuç Analizi"
   ]
  },
  {
   "cell_type": "markdown",
   "id": "0d4f8490-fb5f-4b03-b61d-e4e5f4c4ecd6",
   "metadata": {},
   "source": [
    "Bu çalışmada üç farklı non-lineer makine öğrenmesi algoritması (Random Forest, SVM (RBF), KNN) uygulanmıştır.\n",
    "Amaç, öğrencilerin depresyon durumunu tahmin etmek ve hangi modelin bu görevi daha başarılı şekilde gerçekleştirdiğini analiz etmektir."
   ]
  },
  {
   "cell_type": "markdown",
   "id": "af1a2dd8-1dd7-4465-b35b-d16e02cbbf07",
   "metadata": {},
   "source": [
    "| Model             |  Accuracy  |  Precision |   Recall   |  F1-Score  |   ROC AUC  |\n",
    "| :---------------- | :--------: | :--------: | :--------: | :--------: | :--------: |\n",
    "| **Random Forest** | **0.7605** | **0.7980** |   0.7961   | **0.7970** | **0.8175** |\n",
    "| **SVM (RBF)**     |   0.7562   |   0.7559   | **0.8673** | **0.8078** |   0.8080   |\n",
    "| **KNN**           |   0.7100   |   0.7408   |   0.7936   |   0.7663   |   0.7625   |\n"
   ]
  },
  {
   "cell_type": "markdown",
   "id": "0f17467e-d7e7-4c9a-9b26-d41fb8aecb52",
   "metadata": {},
   "source": [
    "## **Yorumlar:**\n",
    "\n",
    "- Random Forest modeli, genel olarak en yüksek accuracy (0.76) ve ROC AUC (0.82) değerlerine ulaşmıştır.\n",
    "Bu sonuç, modelin hem doğru sınıflandırma oranının hem de sınıflar arasındaki ayrım gücünün oldukça iyi olduğunu göstermektedir.\n",
    "Ayrıca precision ve recall değerlerinin dengeli olması, modelin kararlı bir performans sergilediğini gösterir.\n",
    "\n",
    "- SVM (RBF) modeli, en yüksek recall (0.87) değerine sahiptir.\n",
    "Bu, depresyon yaşayan öğrencileri daha iyi tespit ettiğini, yani pozitif sınıfı yakalama konusunda daha başarılı olduğunu gösterir.\n",
    "Ancak precision değerinin biraz daha düşük olması, bazı yanlış pozitif tahminlerin bulunduğunu göstermektedir.\n",
    "\n",
    "- KNN modeli ise diğer iki modele kıyasla daha düşük performans göstermiştir.\n",
    "Bu durum, veri setindeki karmaşık ilişkilerin KNN algoritması tarafından yeterince öğrenilememesiyle açıklanabilir.\n",
    "Yine de KNN modeli makul düzeyde bir doğruluk sağlamaktadır."
   ]
  },
  {
   "cell_type": "markdown",
   "id": "973a8a15-c9e0-4d2d-9ebc-b585462477df",
   "metadata": {},
   "source": [
    "# 6) İyileştirmeler"
   ]
  },
  {
   "cell_type": "markdown",
   "id": "7631d27e-50c0-48f7-8318-5e59c9cc2be3",
   "metadata": {},
   "source": [
    "Aşağıdaki iyileştirme adımlarını sırayla uygulayıp tekrar değerlendirecktir"
   ]
  },
  {
   "cell_type": "markdown",
   "id": "5d93a95a-31e3-4ebb-9041-27c73b1062e3",
   "metadata": {},
   "source": [
    "- ### 6.1 GridSearchCV / RandomizedSearchCV (Hyperparameter tuning)"
   ]
  },
  {
   "cell_type": "markdown",
   "id": "f928c65e-9c51-49be-b029-2fdd66af75a7",
   "metadata": {},
   "source": [
    "## Random Forest"
   ]
  },
  {
   "cell_type": "code",
   "execution_count": 35,
   "id": "21b15fbc-70dd-4fc4-b404-b7cd5b80f549",
   "metadata": {},
   "outputs": [
    {
     "name": "stdout",
     "output_type": "stream",
     "text": [
      "Best Parameters: {'n_estimators': 100, 'min_samples_split': 5, 'min_samples_leaf': 2, 'max_features': 'log2', 'max_depth': 5, 'bootstrap': True}\n",
      "Best F1 Score: 0.7957942305466847\n",
      "--- Random Forest (tuned) ---\n",
      "Accuracy: 0.7591\n",
      "Precision: 0.7537\n",
      "Recall: 0.8796\n",
      "F1-score: 0.8118\n",
      "ROC AUC: 0.8188\n",
      "\n",
      "Classification Report:\n",
      "               precision    recall  f1-score   support\n",
      "\n",
      "           0       0.77      0.59      0.67       282\n",
      "           1       0.75      0.88      0.81       407\n",
      "\n",
      "    accuracy                           0.76       689\n",
      "   macro avg       0.76      0.73      0.74       689\n",
      "weighted avg       0.76      0.76      0.75       689\n",
      "\n",
      "confusion matrix [[165 117]\n",
      " [ 49 358]]\n"
     ]
    },
    {
     "data": {
      "image/png": "[encoded data removed]",
      "text/plain": [
       "<Figure size 500x400 with 1 Axes>"
      ]
     },
     "metadata": {},
     "output_type": "display_data"
    }
   ],
   "source": [
    "from sklearn.model_selection import RandomizedSearchCV\n",
    "from sklearn.ensemble import RandomForestClassifier\n",
    "\n",
    "param_grid = {\n",
    "    'n_estimators': [100, 200, 300],\n",
    "    'max_depth': [5, 10, 20, None],\n",
    "    'min_samples_split': [2, 5, 10],\n",
    "    'min_samples_leaf': [1, 2, 4],\n",
    "    'max_features': ['sqrt', 'log2'],\n",
    "    'bootstrap': [True, False]\n",
    "}\n",
    "cv = StratifiedKFold(n_splits=5, shuffle=True, random_state=42)\n",
    "rf = RandomForestClassifier(random_state=42)\n",
    "rf_search = RandomizedSearchCV(\n",
    "    rf, param_grid, n_iter=20, scoring='f1', cv=5, n_jobs=-1, random_state=42\n",
    ")\n",
    "rf_search.fit(X_train, y_train)\n",
    "\n",
    "print(\"Best Parameters:\", rf_search.best_params_)\n",
    "print(\"Best F1 Score:\", rf_search.best_score_)\n",
    "\n",
    "best_rf = rf_search.best_estimator_\n",
    "y_pred_best_rf = best_rf.predict(X_test)\n",
    "evaluate_model(\"Random Forest (tuned)\", y_test, y_pred_best_rf, y_proba=best_rf.predict_proba(X_test)[:,1])"
   ]
  },
  {
   "cell_type": "markdown",
   "id": "08fc146b-a569-4add-974c-d5ec800e303f",
   "metadata": {},
   "source": [
    "## SVM"
   ]
  },
  {
   "cell_type": "code",
   "execution_count": 36,
   "id": "1b83cf91-7677-4d2e-b025-345f2bd7968b",
   "metadata": {},
   "outputs": [
    {
     "name": "stdout",
     "output_type": "stream",
     "text": [
      "--- SVM (tuned) ---\n",
      "Accuracy: 0.7518\n",
      "Precision: 0.7489\n",
      "Recall: 0.8722\n",
      "F1-score: 0.8059\n",
      "ROC AUC: 0.8134\n",
      "\n",
      "Classification Report:\n",
      "               precision    recall  f1-score   support\n",
      "\n",
      "           0       0.76      0.58      0.66       282\n",
      "           1       0.75      0.87      0.81       407\n",
      "\n",
      "    accuracy                           0.75       689\n",
      "   macro avg       0.75      0.73      0.73       689\n",
      "weighted avg       0.75      0.75      0.74       689\n",
      "\n",
      "confusion matrix [[163 119]\n",
      " [ 52 355]]\n"
     ]
    },
    {
     "data": {
      "image/png": "[encoded data removed]",
      "text/plain": [
       "<Figure size 500x400 with 1 Axes>"
      ]
     },
     "metadata": {},
     "output_type": "display_data"
    }
   ],
   "source": [
    "param_grid_svm = {'C':[0.1,1,10], 'gamma':[1,0.1,0.01], 'kernel':['rbf']}\n",
    "gs_svm = GridSearchCV(SVC(probability=True, random_state=42), param_grid_svm, cv=cv, scoring='f1', n_jobs=-1)\n",
    "gs_svm.fit(X_train_scaled, y_train)\n",
    "best_svm = gs_svm.best_estimator_\n",
    "y_pred_best_svm = best_svm.predict(X_test_scaled)\n",
    "evaluate_model(\"SVM (tuned)\", y_test, y_pred_best_svm, y_proba=best_svm.predict_proba(X_test_scaled)[:,1])"
   ]
  },
  {
   "cell_type": "markdown",
   "id": "5956241c-9320-4c8c-b9d9-ba8993d1866a",
   "metadata": {},
   "source": [
    "## KNN"
   ]
  },
  {
   "cell_type": "code",
   "execution_count": 37,
   "id": "fd643690-656f-4754-acf6-b5dfc244257c",
   "metadata": {},
   "outputs": [
    {
     "name": "stdout",
     "output_type": "stream",
     "text": [
      "--- KNN (tuned) ---\n",
      "Accuracy: 0.7489\n",
      "Precision: 0.7623\n",
      "Recall: 0.8354\n",
      "F1-score: 0.7972\n",
      "ROC AUC: 0.778\n",
      "\n",
      "Classification Report:\n",
      "               precision    recall  f1-score   support\n",
      "\n",
      "           0       0.72      0.62      0.67       282\n",
      "           1       0.76      0.84      0.80       407\n",
      "\n",
      "    accuracy                           0.75       689\n",
      "   macro avg       0.74      0.73      0.73       689\n",
      "weighted avg       0.75      0.75      0.75       689\n",
      "\n",
      "confusion matrix [[176 106]\n",
      " [ 67 340]]\n"
     ]
    },
    {
     "data": {
      "image/png": "[encoded data removed]",
      "text/plain": [
       "<Figure size 500x400 with 1 Axes>"
      ]
     },
     "metadata": {},
     "output_type": "display_data"
    }
   ],
   "source": [
    "param_grid_knn = {'n_neighbors':[3,5,7,9], 'weights':['uniform','distance']}\n",
    "gs_knn = GridSearchCV(KNeighborsClassifier(), param_grid_knn, cv=cv, scoring='f1', n_jobs=-1)\n",
    "gs_knn.fit(X_train_scaled, y_train)\n",
    "best_knn = gs_knn.best_estimator_\n",
    "y_pred_best_knn = best_knn.predict(X_test_scaled)\n",
    "evaluate_model(\"KNN (tuned)\", y_test, y_pred_best_knn, y_proba=best_knn.predict_proba(X_test_scaled)[:,1])\n"
   ]
  },
  {
   "cell_type": "markdown",
   "id": "79b2c7f2-721d-4e47-9301-93cf6135f9cf",
   "metadata": {},
   "source": [
    "#### Bu aşamada her model için uygun hiperparametre kombinasyonları GridSearchCV yöntemi ile aranmıştır. Amaç, modellerin performansını artırmak ve aşırı/eksik öğrenme riskini azaltmaktır."
   ]
  },
  {
   "cell_type": "markdown",
   "id": "ffa60cc8-4441-4b8f-a5cf-e0b32139e2ce",
   "metadata": {},
   "source": [
    "| Model                     |  Accuracy  |  Precision |   Recall   |  F1-Score  |   ROC AUC  |\n",
    "| :------------------------ | :--------: | :--------: | :--------: | :--------: | :--------: |\n",
    "| **Random Forest (Tuned)** | **0.7591** |   0.7537   | **0.8796** | **0.8118** | **0.8188** |\n",
    "| **SVM (Tuned)**           |   0.7518   |   0.7489   |   0.8722   |   0.8059   |   0.8134   |\n",
    "| **KNN (Tuned)**           |   0.7489   | **0.7623** |   0.8354   |   0.7972   |   0.7780   |\n"
   ]
  },
  {
   "cell_type": "markdown",
   "id": "84cd8e6f-0044-47ce-ad24-af75f006a034",
   "metadata": {},
   "source": [
    "# **Yorumlar:**\n",
    "\n",
    "  - **Random Forest (Tuned)** modeli, genel olarak en yüksek **F1-score (0.81)** ve **ROC AUC (0.82)** değerlerine ulaşmıştır. Bu, modelin hem sınıflar arası ayırma gücünün hem de genel denge performansının en iyi seviyede olduğunu göstermektedir. Ayrıca recall değerinin yüksek çıkması **(0.88)**, modelin depresyon yaşayan öğrencileri yakalama konusunda oldukça başarılı olduğunu ortaya koymaktadır.\n",
    "\n",
    "  - **SVM (Tuned)** modeli, yüksek **recall (0.87)** değeriyle depresyon yaşayan öğrencileri tespit etmede güçlü bir performans sergilemiştir. Ancak precision değerinin biraz daha düşük olması, bazı öğrencilerin yanlış şekilde depresyonlu olarak sınıflandırıldığını göstermektedir. Bu nedenle, pozitif sınıfı kaçırmamak için uygun, fakat yanlış pozitifleri azaltmak için dikkatli ayarlama gerektiren bir modeldir.\n",
    "\n",
    "  - **KNN (Tuned)** modeli, hiperparametre optimizasyonu sonrasında belirgin bir gelişme göstermiştir. **F1-score** değeri **0.79**’a ulaşmış ve recall değeri 0.83 olmuştur. Ancak diğer iki modele kıyasla **ROC AUC** değeri biraz daha düşük **(0.78)** kaldığı için, verideki karmaşık ilişkileri tam olarak yakalayamamaktadır.\n",
    "\n",
    "# **Genel Değerlendirme:**\n",
    "\n",
    "  - Tüm modellerde hiperparametre optimizasyonu sonrasında özellikle recall değerlerinde artış gözlemlenmiştir. Bu durum, sistemin depresyon riski taşıyan öğrencileri kaçırmama konusunda daha duyarlı hale geldiğini göstermektedir.\n",
    "\n",
    "  - **Random Forest (Tuned)** modeli genel denge açısından en başarılı sonuçları vermiştir.\n",
    "\n",
    "  - **SVM (Tuned)** modeli depresyon tespitinde hassas, ancak yanlış pozitif oranı biraz daha yüksektir.\n",
    "\n",
    "  - **KNN (Tuned)** modeli anlamlı bir gelişim göstermiş olsa da, karmaşık veri yapılarında sınırlı kalmıştır.\n",
    "\n",
    "# **Sonuç:**\n",
    "\n",
    "Hiperparametre optimizasyonu sonrasında, **Random Forest (Tuned)** modeli bu problem için **en dengeli, güvenilir ve tutarlı model** olarak öne çıkmaktadır. Özellikle ROC AUC ve F1 değerlerinin yüksek olması, modelin hem doğruluk hem de genel sınıflandırma başarısı açısından **en uygun tercih** olduğunu göstermektedir. Bu sonuçlar, makine öğrenmesiyle öğrencilerin yaşam alışkanlıkları ve akademik durumlarına göre depresyon riskinin tahmininde **Random Forest algoritmasının güçlü bir performans sunduğunu** doğrulamaktadır."
   ]
  },
  {
   "cell_type": "markdown",
   "id": "7c70e8c6-302d-4f24-b4d7-bc5b07cd78f3",
   "metadata": {},
   "source": [
    "- #### Eğitim ve Test Performansı"
   ]
  },
  {
   "cell_type": "code",
   "execution_count": 38,
   "id": "70eae8f5-461d-4c03-b9a7-097ab6021e68",
   "metadata": {},
   "outputs": [
    {
     "name": "stdout",
     "output_type": "stream",
     "text": [
      "Training Accuracy: 0.7760\n",
      "Training F1: 0.8236\n",
      "Test Accuracy: 0.7605\n",
      "Test F1: 0.7970\n"
     ]
    }
   ],
   "source": [
    "# Training performance\n",
    "y_train_pred = best_rf.predict(X_train)\n",
    "train_acc = accuracy_score(y_train, y_train_pred)\n",
    "train_f1 = f1_score(y_train, y_train_pred)\n",
    "print(f\"Training Accuracy: {train_acc:.4f}\")\n",
    "print(f\"Training F1: {train_f1:.4f}\")\n",
    "\n",
    "# Test performance\n",
    "print(f\"Test Accuracy: {accuracy_score(y_test, y_pred_rf):.4f}\")\n",
    "print(f\"Test F1: {f1_score(y_test, y_pred_rf):.4f}\")\n"
   ]
  },
  {
   "cell_type": "markdown",
   "id": "5097e24e-ff99-45db-9a89-b12bfa9f1d6e",
   "metadata": {},
   "source": [
    "- ### Öğrenme Eğrisi (Random Forest)"
   ]
  },
  {
   "cell_type": "code",
   "execution_count": 39,
   "id": "fe948ad1-7440-4e1a-8c5b-848d3408f44b",
   "metadata": {},
   "outputs": [
    {
     "data": {
      "image/png": "[encoded data removed]",
      "text/plain": [
       "<Figure size 640x480 with 1 Axes>"
      ]
     },
     "metadata": {},
     "output_type": "display_data"
    }
   ],
   "source": [
    "from sklearn.model_selection import learning_curve\n",
    "\n",
    "train_sizes, train_scores, test_scores = learning_curve(\n",
    "    best_rf, X_train, y_train, cv=5, scoring='f1', n_jobs=-1\n",
    ")\n",
    "\n",
    "train_mean = train_scores.mean(axis=1)\n",
    "test_mean = test_scores.mean(axis=1)\n",
    "\n",
    "plt.plot(train_sizes, train_mean, label='Training F1')\n",
    "plt.plot(train_sizes, test_mean, label='Validation F1')\n",
    "plt.xlabel('Training Size')\n",
    "plt.ylabel('F1-score')\n",
    "plt.title('Learning Curve (Random Forest)')\n",
    "plt.legend()\n",
    "plt.show()"
   ]
  },
  {
   "cell_type": "markdown",
   "id": "9257e8e0-65d3-4ada-8feb-803c6e790770",
   "metadata": {},
   "source": [
    "Bu öğrenme eğrisinde, eğitim verisi arttıkça **eğitim F1 skorunun kademeli olarak azaldığı**, doğrulama F1 skorunun ise **hafif şekilde yükselip daha sonra sabitlendiği görülüyor**. Bu durum, modelin başlangıçta veriye biraz fazla uyum sağladığını ancak veri miktarı arttıkça **daha dengeli bir öğrenme sürecine geçtiğini** gösterir.\n",
    "Sonuç olarak model kısmen overfitting eğilimi gösterse de, eğrilerin birbirine yaklaşmaya başlaması, modelin **genelleme yeteneğinin makul düzeyde** olduğunu ve daha fazla veriyle performansın iyileştirilebileceğini göstermektedir."
   ]
  },
  {
   "cell_type": "markdown",
   "id": "6d807fe9-c8ef-4044-ab91-264547b04365",
   "metadata": {},
   "source": [
    "- #### En iyi modelin (Random Forest) F1 Cross Validation Skoru "
   ]
  },
  {
   "cell_type": "code",
   "execution_count": 40,
   "id": "8436a816-8048-4b7d-9ba5-d3409b1ca9ae",
   "metadata": {},
   "outputs": [
    {
     "name": "stdout",
     "output_type": "stream",
     "text": [
      "Cross-validated F1: 0.7993598425811006\n"
     ]
    }
   ],
   "source": [
    "from sklearn.model_selection import cross_val_score\n",
    "\n",
    "scores = cross_val_score(best_rf, X_train, y_train, cv=10, scoring='f1')\n",
    "print(\"Cross-validated F1:\", scores.mean())"
   ]
  },
  {
   "cell_type": "markdown",
   "id": "6ead9973-c4ba-4f05-8b0f-0c4a90b47bfe",
   "metadata": {},
   "source": [
    "- ### Yüksek Performanslı Modelin kaydetmesi"
   ]
  },
  {
   "cell_type": "code",
   "execution_count": 43,
   "id": "2a8945f1-627c-4e2d-ae5e-dfd6c340c85f",
   "metadata": {},
   "outputs": [
    {
     "name": "stdout",
     "output_type": "stream",
     "text": [
      "Model saved successfully!\n"
     ]
    }
   ],
   "source": [
    "# Save the model to a file\n",
    "joblib.dump(best_rf, \"./models/student_depression_model.joblib\")\n",
    "print(\"Model saved successfully!\")"
   ]
  },
  {
   "cell_type": "markdown",
   "id": "eb26fb20-8e6d-4550-9e8f-586be7db9d20",
   "metadata": {},
   "source": [
    "- ### Kaydeden Modelin Yüklenmesi"
   ]
  },
  {
   "cell_type": "code",
   "execution_count": 44,
   "id": "20378882-8329-4f8f-a9b0-5ef86ad272b8",
   "metadata": {},
   "outputs": [
    {
     "name": "stdout",
     "output_type": "stream",
     "text": [
      "Model loaded successfully!\n"
     ]
    }
   ],
   "source": [
    "# Load the model\n",
    "loaded_model = joblib.load(\"./models/student_depression_model.joblib\")\n",
    "print(\"Model loaded successfully!\")"
   ]
  },
  {
   "cell_type": "markdown",
   "id": "a584f9d0-6c0a-4b6f-b0af-171843ad2b48",
   "metadata": {},
   "source": [
    "- ### Tahmin için hazırlanan veri örnekleri"
   ]
  },
  {
   "cell_type": "code",
   "execution_count": 45,
   "id": "57822791-4cab-4238-98c8-a8ca19c53fb8",
   "metadata": {},
   "outputs": [],
   "source": [
    "# Example data\n",
    "example_data = pd.DataFrame({\n",
    "    \"Extracurricular_Hours_Per_Day\": [3.52, 5.63, 16.21, 1.51, 3.90, 19.94],\n",
    "    \"Social_Hours_Per_Day\": [0.0, 1.1, 0.8, 0.6, 5.5, 0.2],\n",
    "    \"Physical_Activity_Hours_Per_Day\": [5.4, 4.7, 5.6, 2.1, 6.8, 3.5],\n",
    "    \"GPA\": [6.9, 3.2, 3.8, 3.4, 3.5, 9.3],\n",
    "    \"Stress_Level\": [2, 1, 2, 2, 1, 2],\n",
    "    \"study_hours\": [6, 7, 8, 10, 8, 5],\n",
    "    \"sleep_hours\": [6, 6, 6, 8, 8, 6],\n",
    "    \"Academic Pressure\": [4.0, 4.0, 1.0, 4.0, 3.0, 5.0],\n",
    "    \"Financial Stress\": [3.0, 5.0, 1.0, 4.0, 2.0, 3.0]\n",
    "})\n"
   ]
  },
  {
   "cell_type": "markdown",
   "id": "1f83f819-3dde-41b3-9053-fb3bf9cb9b54",
   "metadata": {},
   "source": [
    "- ### Tahmin etme"
   ]
  },
  {
   "cell_type": "code",
   "execution_count": 46,
   "id": "cdf6a491-5a24-4195-9ad5-b4cebf4388fe",
   "metadata": {},
   "outputs": [
    {
     "name": "stdout",
     "output_type": "stream",
     "text": [
      "Predictions: [1 1 0 1 0 1]\n"
     ]
    }
   ],
   "source": [
    "# Predict Depression (0 = not depressed, 1 = depressed)\n",
    "predictions = loaded_model.predict(example_data)\n",
    "print(\"Predictions:\", predictions)"
   ]
  },
  {
   "cell_type": "markdown",
   "id": "197dc24c-d52b-481f-bfa1-dace0b8a912a",
   "metadata": {},
   "source": [
    "- ### Seçilen modelin Avantajları ve dezavantajları (Random Forest)"
   ]
  },
  {
   "cell_type": "markdown",
   "id": "73a85d78-2168-4d40-ad95-f86a8eafa064",
   "metadata": {},
   "source": [
    "### Random Forest (Tuned) — Avantajlar:\n",
    "\n",
    "- Yüksek F1-score ve ROC AUC ile dengeli performans sergiliyor.\n",
    "\n",
    "- Özellikle pozitif sınıfı yakalamada (recall ~0.88) başarılı, yani depresyonlu öğrencileri tespit etme konusunda güçlü.\n",
    "\n",
    "- Gürültüye ve aşırtıya karşı dayanıklı (bagging sayesinde).\n",
    "\n",
    "### Random Forest (Tuned) — Dezavantajlar:\n",
    "\n",
    "- Eğitim skorunun çok yüksek ve doğrulama skoru daha düşük olduğu durumlarda (öğrenme eğrisine göre) bir miktar overfitting gösterebilir.\n",
    "\n",
    "- Gerçek zamanlı veya çok düşük gecikme gerektiren uygulamalarda daha yavaş olabilir.\n",
    "\n",
    "- Ağaçların sayısı/artması bellek ve hesap maliyeti getirir."
   ]
  },
  {
   "cell_type": "markdown",
   "id": "9f521724-6dbd-4143-80ed-b465dcb75f53",
   "metadata": {},
   "source": [
    "Bu çalışmada, öğrencilerin yaşam alışkanlıkları ve akademik göstergelerine dayanarak depresyon riskini tahmin etmek üzere üç farklı sınıflandırma algoritması (Random Forest, SVM, KNN) uygulanmıştır. Hiperparametre optimizasyonu sonrasında Random Forest (Tuned) en yüksek F1 ve ROC AUC değerlerini göstermiştir (F1 = 0.8118, ROC AUC = 0.8188). Öğrenme eğrileri ve confusion matrix analizleri, modelin depresyonlu öğrencileri tespit etmede yüksek recall sağladığını fakat eğitim-doğrulama farkı nedeniyle hafif overfitting barındırdığını göstermektedir. Bu nedenle, uygulamada modelin genel kullanılabilirliğini artırmak için veri miktarının artırılması, ek regularizasyon veya daha fazla çapraz doğrulama önerilmektedir."
   ]
  },
  {
   "cell_type": "code",
   "execution_count": null,
   "id": "0ff0e62d-1a47-453c-97bb-55245ef48d9e",
   "metadata": {},
   "outputs": [],
   "source": []
  },
  {
   "cell_type": "code",
   "execution_count": null,
   "id": "154e7908-6be4-401f-8749-b62d3b907730",
   "metadata": {},
   "outputs": [],
   "source": []
  }
 ],
 "metadata": {
  "kernelspec": {
   "display_name": "Python (env)",
   "language": "python",
   "name": "env"
  },
  "language_info": {
   "codemirror_mode": {
    "name": "ipython",
    "version": 3
   },
   "file_extension": ".py",
   "mimetype": "text/x-python",
   "name": "python",
   "nbconvert_exporter": "python",
   "pygments_lexer": "ipython3",
   "version": "3.13.7"
  }
 },
 "nbformat": 4,
 "nbformat_minor": 5
}
