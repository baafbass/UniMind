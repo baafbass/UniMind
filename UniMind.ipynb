{
 "cells": [
  {
   "cell_type": "markdown",
   "id": "00578ac3-5ed6-4334-b5b8-149d1c75e3b1",
   "metadata": {},
   "source": [
    "<div style=\"border-radius: 15px 0 15px 0px; border: 2px solid #f1c40f; padding: 10px; background-color: #191970; text-align: center; box-shadow: 0px 2px 4px rgba(0, 0, 0, 0.2);\">\n",
    "    <h1 style=\"color: #f1c40f; text-shadow: 2px 2px 4px rgba(0, 0, 0, 0.5); font-weight: bold; margin-bottom: 10px; font-size: 24px;\">Makine Öğrenmesiyle Öğrencilerin Yaşam Alışkanlıkları ve Akademik Durumlarına Göre Depresyon Riskinin Tahmini</h1>\n",
    "</div>"
   ]
  },
  {
   "cell_type": "markdown",
   "id": "4cebf25a-7296-41da-a12f-28c4ac264fd2",
   "metadata": {},
   "source": [
    "# **1) Proje Tanımı**"
   ]
  },
  {
   "cell_type": "markdown",
   "id": "69d26962-7f4c-4ab3-8b80-3c7fb251fb62",
   "metadata": {},
   "source": [
    "        Amaç, öğrencilerin yaşam tarzı alışkanlıkları (uyku, sosyal aktivite, stres, fiziksel aktivite, çalışma saati vb.) ve akademik performans  göstergeleri (CGPA, ders çalışma saatleri, akademik tatmin) kullanılarak depresyon yaşayıp yaşamadıklarını tahmin eden bir makine öğrenmesi modeli geliştirmektir."
   ]
  },
  {
   "cell_type": "markdown",
   "id": "d82b7438-1bd0-472b-a899-35ec59db1c6d",
   "metadata": {},
   "source": [
    "# **2) Veri Kaynakları**"
   ]
  },
  {
   "cell_type": "markdown",
   "id": "1daa5da8-d696-4897-9a3d-c587f27846ce",
   "metadata": {},
   "source": [
    "## **2.1) Dataset 1** : Daily Lifestyle and Academic Performance"
   ]
  },
  {
   "cell_type": "markdown",
   "id": "1d73fd7b-75cc-4e32-a0b4-46c64ba5ecd5",
   "metadata": {},
   "source": [
    "- 2.000 öğrenciden Google Form anketiyle toplanan verileri içerir.\n",
    "\n",
    "- Ders çalışma süresi, sosyal etkinlikler, uyku, sosyalleşme, fiziksel aktivite, stres düzeyi ve not ortalaması bilgilerini kapsar.\n",
    "\n",
    "- Veriler, Ağustos 2023 - Mayıs 2024 akademik yılına aittir.\n",
    "\n",
    "- Katılımcıların çoğu Hindistan’daki öğrencilerden oluşmaktadır.\n",
    "\n",
    "- **Amaç:** Günlük alışkanlıkların akademik başarı ve öğrenci refahı üzerindeki etkisini incelemek."
   ]
  },
  {
   "cell_type": "markdown",
   "id": "9951e30d-2005-4d9b-9d40-8b09ebac0b2a",
   "metadata": {},
   "source": [
    "## 2.2) Dataset 2 : Student Mental Health"
   ]
  },
  {
   "cell_type": "markdown",
   "id": "edf38632-e87d-47e9-9320-9f7246144341",
   "metadata": {},
   "source": [
    "- Öğrencilerin ruh sağlığı ve depresyon riskini etkileyen faktörleri kapsamlı şekilde içerir.\n",
    "\n",
    "- Demografik bilgiler, akademik ve iş baskıları, yaşam tarzı alışkanlıkları ve ruh sağlığı göstergelerini kapsar.\n",
    "\n",
    "- **Amaç:** Depresyon eğilimlerini ve risk faktörlerini analiz etmek."
   ]
  },
  {
   "cell_type": "markdown",
   "id": "c8fe879b-e9ce-42ab-bfb7-7910d1e2ea3e",
   "metadata": {},
   "source": [
    "# **3) Yüklemeler ve İlk Kontroller**"
   ]
  },
  {
   "cell_type": "markdown",
   "id": "d9e2f7ea-4b23-448c-a14b-83f67f8305bd",
   "metadata": {},
   "source": [
    "### Paketlerin Yüklenmesi"
   ]
  },
  {
   "cell_type": "code",
   "execution_count": 1,
   "id": "fa999b6c-cc00-4055-89c9-b11feec05466",
   "metadata": {},
   "outputs": [],
   "source": [
    "import pandas as pd\n",
    "import numpy as np\n",
    "import matplotlib.pyplot as plt\n",
    "import seaborn as sns\n",
    "from sklearn.model_selection import train_test_split,GridSearchCV, cross_val_score, StratifiedKFold\n",
    "from sklearn.preprocessing import StandardScaler, MinMaxScaler\n",
    "from sklearn.impute import SimpleImputer\n",
    "from sklearn.pipeline import Pipeline\n",
    "from sklearn.compose import ColumnTransformer\n",
    "from sklearn.ensemble import RandomForestRegressor\n",
    "from sklearn.preprocessing import MinMaxScaler, StandardScaler\n",
    "from sklearn.metrics import (accuracy_score, precision_score, recall_score, f1_score, confusion_matrix,\n",
    "                             classification_report, roc_auc_score, roc_curve, PrecisionRecallDisplay)\n",
    "from sklearn.ensemble import RandomForestClassifier\n",
    "from sklearn.svm import SVC\n",
    "from sklearn.neighbors import KNeighborsClassifier\n",
    "\n",
    "from imblearn.over_sampling import SMOTE\n",
    "import joblib"
   ]
  },
  {
   "cell_type": "markdown",
   "id": "c3dc157c-6deb-4f8a-90d0-4ff88f2a2eea",
   "metadata": {},
   "source": [
    "### Veri Yükleme"
   ]
  },
  {
   "cell_type": "code",
   "execution_count": 2,
   "id": "db429134-32fd-4881-bb21-97f6fa887150",
   "metadata": {},
   "outputs": [],
   "source": [
    "df1 = pd.read_csv(\"./datasets/student_lifestyle_dataset.csv\")\n",
    "df2 = pd.read_csv(\"./datasets/student_depression_dataset.csv\")"
   ]
  },
  {
   "cell_type": "markdown",
   "id": "9f53ab05-d91e-48f0-ac1c-5136dee0ff80",
   "metadata": {},
   "source": [
    "### Temel Veri Bilgileri"
   ]
  },
  {
   "cell_type": "code",
   "execution_count": 3,
   "id": "00e8357c-16d3-44de-be81-fec47121a453",
   "metadata": {},
   "outputs": [
    {
     "name": "stdout",
     "output_type": "stream",
     "text": [
      "\n",
      "Dataset 1\n",
      "Shape (rows, columns): (2000, 8)\n",
      "\n",
      "First 5 rows:\n"
     ]
    },
    {
     "data": {
      "text/html": [
       "<div>\n",
       "<style scoped>\n",
       "    .dataframe tbody tr th:only-of-type {\n",
       "        vertical-align: middle;\n",
       "    }\n",
       "\n",
       "    .dataframe tbody tr th {\n",
       "        vertical-align: top;\n",
       "    }\n",
       "\n",
       "    .dataframe thead th {\n",
       "        text-align: right;\n",
       "    }\n",
       "</style>\n",
       "<table border=\"1\" class=\"dataframe\">\n",
       "  <thead>\n",
       "    <tr style=\"text-align: right;\">\n",
       "      <th></th>\n",
       "      <th>Student_ID</th>\n",
       "      <th>Study_Hours_Per_Day</th>\n",
       "      <th>Extracurricular_Hours_Per_Day</th>\n",
       "      <th>Sleep_Hours_Per_Day</th>\n",
       "      <th>Social_Hours_Per_Day</th>\n",
       "      <th>Physical_Activity_Hours_Per_Day</th>\n",
       "      <th>GPA</th>\n",
       "      <th>Stress_Level</th>\n",
       "    </tr>\n",
       "  </thead>\n",
       "  <tbody>\n",
       "    <tr>\n",
       "      <th>0</th>\n",
       "      <td>1</td>\n",
       "      <td>6.9</td>\n",
       "      <td>3.8</td>\n",
       "      <td>8.7</td>\n",
       "      <td>2.8</td>\n",
       "      <td>1.8</td>\n",
       "      <td>2.99</td>\n",
       "      <td>Moderate</td>\n",
       "    </tr>\n",
       "    <tr>\n",
       "      <th>1</th>\n",
       "      <td>2</td>\n",
       "      <td>5.3</td>\n",
       "      <td>3.5</td>\n",
       "      <td>8.0</td>\n",
       "      <td>4.2</td>\n",
       "      <td>3.0</td>\n",
       "      <td>2.75</td>\n",
       "      <td>Low</td>\n",
       "    </tr>\n",
       "    <tr>\n",
       "      <th>2</th>\n",
       "      <td>3</td>\n",
       "      <td>5.1</td>\n",
       "      <td>3.9</td>\n",
       "      <td>9.2</td>\n",
       "      <td>1.2</td>\n",
       "      <td>4.6</td>\n",
       "      <td>2.67</td>\n",
       "      <td>Low</td>\n",
       "    </tr>\n",
       "    <tr>\n",
       "      <th>3</th>\n",
       "      <td>4</td>\n",
       "      <td>6.5</td>\n",
       "      <td>2.1</td>\n",
       "      <td>7.2</td>\n",
       "      <td>1.7</td>\n",
       "      <td>6.5</td>\n",
       "      <td>2.88</td>\n",
       "      <td>Moderate</td>\n",
       "    </tr>\n",
       "    <tr>\n",
       "      <th>4</th>\n",
       "      <td>5</td>\n",
       "      <td>8.1</td>\n",
       "      <td>0.6</td>\n",
       "      <td>6.5</td>\n",
       "      <td>2.2</td>\n",
       "      <td>6.6</td>\n",
       "      <td>3.51</td>\n",
       "      <td>High</td>\n",
       "    </tr>\n",
       "  </tbody>\n",
       "</table>\n",
       "</div>"
      ],
      "text/plain": [
       "   Student_ID  Study_Hours_Per_Day  Extracurricular_Hours_Per_Day  \\\n",
       "0           1                  6.9                            3.8   \n",
       "1           2                  5.3                            3.5   \n",
       "2           3                  5.1                            3.9   \n",
       "3           4                  6.5                            2.1   \n",
       "4           5                  8.1                            0.6   \n",
       "\n",
       "   Sleep_Hours_Per_Day  Social_Hours_Per_Day  Physical_Activity_Hours_Per_Day  \\\n",
       "0                  8.7                   2.8                              1.8   \n",
       "1                  8.0                   4.2                              3.0   \n",
       "2                  9.2                   1.2                              4.6   \n",
       "3                  7.2                   1.7                              6.5   \n",
       "4                  6.5                   2.2                              6.6   \n",
       "\n",
       "    GPA Stress_Level  \n",
       "0  2.99     Moderate  \n",
       "1  2.75          Low  \n",
       "2  2.67          Low  \n",
       "3  2.88     Moderate  \n",
       "4  3.51         High  "
      ]
     },
     "metadata": {},
     "output_type": "display_data"
    },
    {
     "name": "stdout",
     "output_type": "stream",
     "text": [
      "\n",
      "\n",
      "\n",
      "\n",
      "Dataset 2\n",
      "Shape (rows, columns): (27901, 18)\n",
      "\n",
      "First 5 rows:\n"
     ]
    },
    {
     "data": {
      "text/html": [
       "<div>\n",
       "<style scoped>\n",
       "    .dataframe tbody tr th:only-of-type {\n",
       "        vertical-align: middle;\n",
       "    }\n",
       "\n",
       "    .dataframe tbody tr th {\n",
       "        vertical-align: top;\n",
       "    }\n",
       "\n",
       "    .dataframe thead th {\n",
       "        text-align: right;\n",
       "    }\n",
       "</style>\n",
       "<table border=\"1\" class=\"dataframe\">\n",
       "  <thead>\n",
       "    <tr style=\"text-align: right;\">\n",
       "      <th></th>\n",
       "      <th>id</th>\n",
       "      <th>Gender</th>\n",
       "      <th>Age</th>\n",
       "      <th>City</th>\n",
       "      <th>Profession</th>\n",
       "      <th>Academic Pressure</th>\n",
       "      <th>Work Pressure</th>\n",
       "      <th>CGPA</th>\n",
       "      <th>Study Satisfaction</th>\n",
       "      <th>Job Satisfaction</th>\n",
       "      <th>Sleep Duration</th>\n",
       "      <th>Dietary Habits</th>\n",
       "      <th>Degree</th>\n",
       "      <th>Have you ever had suicidal thoughts ?</th>\n",
       "      <th>Work/Study Hours</th>\n",
       "      <th>Financial Stress</th>\n",
       "      <th>Family History of Mental Illness</th>\n",
       "      <th>Depression</th>\n",
       "    </tr>\n",
       "  </thead>\n",
       "  <tbody>\n",
       "    <tr>\n",
       "      <th>0</th>\n",
       "      <td>2</td>\n",
       "      <td>Male</td>\n",
       "      <td>33.0</td>\n",
       "      <td>Visakhapatnam</td>\n",
       "      <td>Student</td>\n",
       "      <td>5.0</td>\n",
       "      <td>0.0</td>\n",
       "      <td>8.97</td>\n",
       "      <td>2.0</td>\n",
       "      <td>0.0</td>\n",
       "      <td>'5-6 hours'</td>\n",
       "      <td>Healthy</td>\n",
       "      <td>B.Pharm</td>\n",
       "      <td>Yes</td>\n",
       "      <td>3.0</td>\n",
       "      <td>1.0</td>\n",
       "      <td>No</td>\n",
       "      <td>1</td>\n",
       "    </tr>\n",
       "    <tr>\n",
       "      <th>1</th>\n",
       "      <td>8</td>\n",
       "      <td>Female</td>\n",
       "      <td>24.0</td>\n",
       "      <td>Bangalore</td>\n",
       "      <td>Student</td>\n",
       "      <td>2.0</td>\n",
       "      <td>0.0</td>\n",
       "      <td>5.90</td>\n",
       "      <td>5.0</td>\n",
       "      <td>0.0</td>\n",
       "      <td>'5-6 hours'</td>\n",
       "      <td>Moderate</td>\n",
       "      <td>BSc</td>\n",
       "      <td>No</td>\n",
       "      <td>3.0</td>\n",
       "      <td>2.0</td>\n",
       "      <td>Yes</td>\n",
       "      <td>0</td>\n",
       "    </tr>\n",
       "    <tr>\n",
       "      <th>2</th>\n",
       "      <td>26</td>\n",
       "      <td>Male</td>\n",
       "      <td>31.0</td>\n",
       "      <td>Srinagar</td>\n",
       "      <td>Student</td>\n",
       "      <td>3.0</td>\n",
       "      <td>0.0</td>\n",
       "      <td>7.03</td>\n",
       "      <td>5.0</td>\n",
       "      <td>0.0</td>\n",
       "      <td>'Less than 5 hours'</td>\n",
       "      <td>Healthy</td>\n",
       "      <td>BA</td>\n",
       "      <td>No</td>\n",
       "      <td>9.0</td>\n",
       "      <td>1.0</td>\n",
       "      <td>Yes</td>\n",
       "      <td>0</td>\n",
       "    </tr>\n",
       "    <tr>\n",
       "      <th>3</th>\n",
       "      <td>30</td>\n",
       "      <td>Female</td>\n",
       "      <td>28.0</td>\n",
       "      <td>Varanasi</td>\n",
       "      <td>Student</td>\n",
       "      <td>3.0</td>\n",
       "      <td>0.0</td>\n",
       "      <td>5.59</td>\n",
       "      <td>2.0</td>\n",
       "      <td>0.0</td>\n",
       "      <td>'7-8 hours'</td>\n",
       "      <td>Moderate</td>\n",
       "      <td>BCA</td>\n",
       "      <td>Yes</td>\n",
       "      <td>4.0</td>\n",
       "      <td>5.0</td>\n",
       "      <td>Yes</td>\n",
       "      <td>1</td>\n",
       "    </tr>\n",
       "    <tr>\n",
       "      <th>4</th>\n",
       "      <td>32</td>\n",
       "      <td>Female</td>\n",
       "      <td>25.0</td>\n",
       "      <td>Jaipur</td>\n",
       "      <td>Student</td>\n",
       "      <td>4.0</td>\n",
       "      <td>0.0</td>\n",
       "      <td>8.13</td>\n",
       "      <td>3.0</td>\n",
       "      <td>0.0</td>\n",
       "      <td>'5-6 hours'</td>\n",
       "      <td>Moderate</td>\n",
       "      <td>M.Tech</td>\n",
       "      <td>Yes</td>\n",
       "      <td>1.0</td>\n",
       "      <td>1.0</td>\n",
       "      <td>No</td>\n",
       "      <td>0</td>\n",
       "    </tr>\n",
       "  </tbody>\n",
       "</table>\n",
       "</div>"
      ],
      "text/plain": [
       "   id  Gender   Age           City Profession  Academic Pressure  \\\n",
       "0   2    Male  33.0  Visakhapatnam    Student                5.0   \n",
       "1   8  Female  24.0      Bangalore    Student                2.0   \n",
       "2  26    Male  31.0       Srinagar    Student                3.0   \n",
       "3  30  Female  28.0       Varanasi    Student                3.0   \n",
       "4  32  Female  25.0         Jaipur    Student                4.0   \n",
       "\n",
       "   Work Pressure  CGPA  Study Satisfaction  Job Satisfaction  \\\n",
       "0            0.0  8.97                 2.0               0.0   \n",
       "1            0.0  5.90                 5.0               0.0   \n",
       "2            0.0  7.03                 5.0               0.0   \n",
       "3            0.0  5.59                 2.0               0.0   \n",
       "4            0.0  8.13                 3.0               0.0   \n",
       "\n",
       "        Sleep Duration Dietary Habits   Degree  \\\n",
       "0          '5-6 hours'        Healthy  B.Pharm   \n",
       "1          '5-6 hours'       Moderate      BSc   \n",
       "2  'Less than 5 hours'        Healthy       BA   \n",
       "3          '7-8 hours'       Moderate      BCA   \n",
       "4          '5-6 hours'       Moderate   M.Tech   \n",
       "\n",
       "  Have you ever had suicidal thoughts ?  Work/Study Hours Financial Stress  \\\n",
       "0                                   Yes               3.0              1.0   \n",
       "1                                    No               3.0              2.0   \n",
       "2                                    No               9.0              1.0   \n",
       "3                                   Yes               4.0              5.0   \n",
       "4                                   Yes               1.0              1.0   \n",
       "\n",
       "  Family History of Mental Illness  Depression  \n",
       "0                               No           1  \n",
       "1                              Yes           0  \n",
       "2                              Yes           0  \n",
       "3                              Yes           1  \n",
       "4                               No           0  "
      ]
     },
     "metadata": {},
     "output_type": "display_data"
    }
   ],
   "source": [
    "print(\"\\nDataset 1\")\n",
    "print(f\"Shape (rows, columns): {df1.shape}\")\n",
    "print(\"\\nFirst 5 rows:\")\n",
    "display(df1.head())\n",
    "\n",
    "print(\"\\n\\n\")\n",
    "\n",
    "print(\"\\nDataset 2\")\n",
    "print(f\"Shape (rows, columns): {df2.shape}\")\n",
    "print(\"\\nFirst 5 rows:\")\n",
    "display(df2.head())"
   ]
  },
  {
   "cell_type": "markdown",
   "id": "e60948ce-b5fa-46ab-881f-6709da3b35d3",
   "metadata": {},
   "source": [
    "### Genel Bilgi"
   ]
  },
  {
   "cell_type": "code",
   "execution_count": 4,
   "id": "16aef9f2-c426-482e-9e86-28c739523189",
   "metadata": {},
   "outputs": [
    {
     "name": "stdout",
     "output_type": "stream",
     "text": [
      "\n",
      "Dataset 1\n",
      "<class 'pandas.core.frame.DataFrame'>\n",
      "RangeIndex: 2000 entries, 0 to 1999\n",
      "Data columns (total 8 columns):\n",
      " #   Column                           Non-Null Count  Dtype  \n",
      "---  ------                           --------------  -----  \n",
      " 0   Student_ID                       2000 non-null   int64  \n",
      " 1   Study_Hours_Per_Day              2000 non-null   float64\n",
      " 2   Extracurricular_Hours_Per_Day    2000 non-null   float64\n",
      " 3   Sleep_Hours_Per_Day              2000 non-null   float64\n",
      " 4   Social_Hours_Per_Day             2000 non-null   float64\n",
      " 5   Physical_Activity_Hours_Per_Day  2000 non-null   float64\n",
      " 6   GPA                              2000 non-null   float64\n",
      " 7   Stress_Level                     2000 non-null   object \n",
      "dtypes: float64(6), int64(1), object(1)\n",
      "memory usage: 125.1+ KB\n"
     ]
    },
    {
     "data": {
      "text/plain": [
       "None"
      ]
     },
     "metadata": {},
     "output_type": "display_data"
    },
    {
     "name": "stdout",
     "output_type": "stream",
     "text": [
      "\n",
      "\n",
      "\n",
      "\n",
      "Dataset 2\n",
      "<class 'pandas.core.frame.DataFrame'>\n",
      "RangeIndex: 27901 entries, 0 to 27900\n",
      "Data columns (total 18 columns):\n",
      " #   Column                                 Non-Null Count  Dtype  \n",
      "---  ------                                 --------------  -----  \n",
      " 0   id                                     27901 non-null  int64  \n",
      " 1   Gender                                 27901 non-null  object \n",
      " 2   Age                                    27901 non-null  float64\n",
      " 3   City                                   27901 non-null  object \n",
      " 4   Profession                             27901 non-null  object \n",
      " 5   Academic Pressure                      27901 non-null  float64\n",
      " 6   Work Pressure                          27901 non-null  float64\n",
      " 7   CGPA                                   27901 non-null  float64\n",
      " 8   Study Satisfaction                     27901 non-null  float64\n",
      " 9   Job Satisfaction                       27901 non-null  float64\n",
      " 10  Sleep Duration                         27901 non-null  object \n",
      " 11  Dietary Habits                         27901 non-null  object \n",
      " 12  Degree                                 27901 non-null  object \n",
      " 13  Have you ever had suicidal thoughts ?  27901 non-null  object \n",
      " 14  Work/Study Hours                       27901 non-null  float64\n",
      " 15  Financial Stress                       27901 non-null  object \n",
      " 16  Family History of Mental Illness       27901 non-null  object \n",
      " 17  Depression                             27901 non-null  int64  \n",
      "dtypes: float64(7), int64(2), object(9)\n",
      "memory usage: 3.8+ MB\n"
     ]
    },
    {
     "data": {
      "text/plain": [
       "None"
      ]
     },
     "metadata": {},
     "output_type": "display_data"
    }
   ],
   "source": [
    "print(\"\\nDataset 1\")\n",
    "display(df1.info())\n",
    "\n",
    "print(\"\\n\\n\")\n",
    "\n",
    "print(\"\\nDataset 2\")\n",
    "display(df2.info())"
   ]
  },
  {
   "cell_type": "markdown",
   "id": "32bcba33-30c2-4864-b507-02fb01e2bce9",
   "metadata": {},
   "source": [
    "### İstatiksel Özeti"
   ]
  },
  {
   "cell_type": "markdown",
   "id": "6788f334-56ff-4ab8-8dbb-c4bfc0f5ef94",
   "metadata": {},
   "source": [
    "#### Dataset 1"
   ]
  },
  {
   "cell_type": "code",
   "execution_count": 5,
   "id": "5b1178eb-f696-48d4-ad6d-8de9fb1dd05d",
   "metadata": {},
   "outputs": [
    {
     "data": {
      "text/html": [
       "<div>\n",
       "<style scoped>\n",
       "    .dataframe tbody tr th:only-of-type {\n",
       "        vertical-align: middle;\n",
       "    }\n",
       "\n",
       "    .dataframe tbody tr th {\n",
       "        vertical-align: top;\n",
       "    }\n",
       "\n",
       "    .dataframe thead th {\n",
       "        text-align: right;\n",
       "    }\n",
       "</style>\n",
       "<table border=\"1\" class=\"dataframe\">\n",
       "  <thead>\n",
       "    <tr style=\"text-align: right;\">\n",
       "      <th></th>\n",
       "      <th>count</th>\n",
       "      <th>mean</th>\n",
       "      <th>std</th>\n",
       "      <th>min</th>\n",
       "      <th>25%</th>\n",
       "      <th>50%</th>\n",
       "      <th>75%</th>\n",
       "      <th>max</th>\n",
       "    </tr>\n",
       "  </thead>\n",
       "  <tbody>\n",
       "    <tr>\n",
       "      <th>Study_Hours_Per_Day</th>\n",
       "      <td>2000.0</td>\n",
       "      <td>7.47580</td>\n",
       "      <td>1.423888</td>\n",
       "      <td>5.00</td>\n",
       "      <td>6.3</td>\n",
       "      <td>7.40</td>\n",
       "      <td>8.70</td>\n",
       "      <td>10.0</td>\n",
       "    </tr>\n",
       "    <tr>\n",
       "      <th>Extracurricular_Hours_Per_Day</th>\n",
       "      <td>2000.0</td>\n",
       "      <td>1.99010</td>\n",
       "      <td>1.155855</td>\n",
       "      <td>0.00</td>\n",
       "      <td>1.0</td>\n",
       "      <td>2.00</td>\n",
       "      <td>3.00</td>\n",
       "      <td>4.0</td>\n",
       "    </tr>\n",
       "    <tr>\n",
       "      <th>Sleep_Hours_Per_Day</th>\n",
       "      <td>2000.0</td>\n",
       "      <td>7.50125</td>\n",
       "      <td>1.460949</td>\n",
       "      <td>5.00</td>\n",
       "      <td>6.2</td>\n",
       "      <td>7.50</td>\n",
       "      <td>8.80</td>\n",
       "      <td>10.0</td>\n",
       "    </tr>\n",
       "    <tr>\n",
       "      <th>Social_Hours_Per_Day</th>\n",
       "      <td>2000.0</td>\n",
       "      <td>2.70455</td>\n",
       "      <td>1.688514</td>\n",
       "      <td>0.00</td>\n",
       "      <td>1.2</td>\n",
       "      <td>2.60</td>\n",
       "      <td>4.10</td>\n",
       "      <td>6.0</td>\n",
       "    </tr>\n",
       "    <tr>\n",
       "      <th>Physical_Activity_Hours_Per_Day</th>\n",
       "      <td>2000.0</td>\n",
       "      <td>4.32830</td>\n",
       "      <td>2.514110</td>\n",
       "      <td>0.00</td>\n",
       "      <td>2.4</td>\n",
       "      <td>4.10</td>\n",
       "      <td>6.10</td>\n",
       "      <td>13.0</td>\n",
       "    </tr>\n",
       "    <tr>\n",
       "      <th>GPA</th>\n",
       "      <td>2000.0</td>\n",
       "      <td>3.11596</td>\n",
       "      <td>0.298674</td>\n",
       "      <td>2.24</td>\n",
       "      <td>2.9</td>\n",
       "      <td>3.11</td>\n",
       "      <td>3.33</td>\n",
       "      <td>4.0</td>\n",
       "    </tr>\n",
       "  </tbody>\n",
       "</table>\n",
       "</div>"
      ],
      "text/plain": [
       "                                  count     mean       std   min  25%   50%  \\\n",
       "Study_Hours_Per_Day              2000.0  7.47580  1.423888  5.00  6.3  7.40   \n",
       "Extracurricular_Hours_Per_Day    2000.0  1.99010  1.155855  0.00  1.0  2.00   \n",
       "Sleep_Hours_Per_Day              2000.0  7.50125  1.460949  5.00  6.2  7.50   \n",
       "Social_Hours_Per_Day             2000.0  2.70455  1.688514  0.00  1.2  2.60   \n",
       "Physical_Activity_Hours_Per_Day  2000.0  4.32830  2.514110  0.00  2.4  4.10   \n",
       "GPA                              2000.0  3.11596  0.298674  2.24  2.9  3.11   \n",
       "\n",
       "                                  75%   max  \n",
       "Study_Hours_Per_Day              8.70  10.0  \n",
       "Extracurricular_Hours_Per_Day    3.00   4.0  \n",
       "Sleep_Hours_Per_Day              8.80  10.0  \n",
       "Social_Hours_Per_Day             4.10   6.0  \n",
       "Physical_Activity_Hours_Per_Day  6.10  13.0  \n",
       "GPA                              3.33   4.0  "
      ]
     },
     "metadata": {},
     "output_type": "display_data"
    }
   ],
   "source": [
    "display(df1.drop(['Student_ID'],axis=1).describe().T)"
   ]
  },
  {
   "cell_type": "markdown",
   "id": "46b45ad0-86c4-42c6-8ede-0a694249544a",
   "metadata": {},
   "source": [
    "1. **Veri Kümesi Boyutları**:\n",
    "   - Satir: 2,000\n",
    "   - Sütun: 8\n",
    "   - Sütunların hiçbirinde eksik değere rastlanmadı.\n",
    "\n",
    "2. **Veri Türleri**:\n",
    "   - Veri kümesi şunları içerir:\n",
    "     - Sayısal sütunlar: 6 (örneğin, aktivitelere harcanan saatler ve not ortalaması).\n",
    "     - Kategorik sütun: 1 (Stres Düzeyi).\n",
    "     - ID Sütunu: 1 (Student_ID).\n",
    "\n",
    "#### **İlk Gözlemler**\n",
    "1. **Dengeli Yaşam Tarzı**:\n",
    "   - Öğrencilerin ders çalışmaya, uykuya ve fiziksel aktiviteye harcadıkları ortalama saatlerin birbirine yakın olması, öğrenciler arasında nispeten dengeli bir yaşam tarzının olduğunu göstermektedir.\n",
    "\n",
    "2. **GPA ve Yaşam Tarzı Korelasyonu**:\n",
    "   - Nispeten yüksek ortalama not ortalaması, dengeli yaşam tarzı alışkanlıkları (örneğin yeterli uyku ve çalışma) ile akademik performans arasında olası pozitif bir ilişki olduğunu düşündürmektedir.\n",
    "\n",
    "3. **Stres Seviyeleri**:\n",
    "   - Kategorik bir özellik olarak, bunun GPA ve diğer değişkenlerle korelasyonları daha detaylı incelenebilir.\n",
    "\n",
    "4. **Aykırı Değerler**:\n",
    "   - Fiziksel aktivite saatleri (maksimum: 13 saat) bazı öğrencilerin olağanüstü derecede aktif olduğunu göstermektedir.\n",
    "   - Sosyalleşme saatleri de değişkendir ve günlük 6 saate kadar çıkabilir, bu da çeşitli sosyal alışkanlıkların göstergesidir."
   ]
  },
  {
   "cell_type": "markdown",
   "id": "bc0cdb66-a5a0-4b51-8ea1-fb500f61df44",
   "metadata": {},
   "source": [
    "#### Dataset 2"
   ]
  },
  {
   "cell_type": "code",
   "execution_count": 6,
   "id": "befef89e-79af-4efd-a479-2652f4e89f93",
   "metadata": {},
   "outputs": [
    {
     "data": {
      "text/html": [
       "<div>\n",
       "<style scoped>\n",
       "    .dataframe tbody tr th:only-of-type {\n",
       "        vertical-align: middle;\n",
       "    }\n",
       "\n",
       "    .dataframe tbody tr th {\n",
       "        vertical-align: top;\n",
       "    }\n",
       "\n",
       "    .dataframe thead th {\n",
       "        text-align: right;\n",
       "    }\n",
       "</style>\n",
       "<table border=\"1\" class=\"dataframe\">\n",
       "  <thead>\n",
       "    <tr style=\"text-align: right;\">\n",
       "      <th></th>\n",
       "      <th>count</th>\n",
       "      <th>mean</th>\n",
       "      <th>std</th>\n",
       "      <th>min</th>\n",
       "      <th>25%</th>\n",
       "      <th>50%</th>\n",
       "      <th>75%</th>\n",
       "      <th>max</th>\n",
       "    </tr>\n",
       "  </thead>\n",
       "  <tbody>\n",
       "    <tr>\n",
       "      <th>Age</th>\n",
       "      <td>27901.0</td>\n",
       "      <td>25.822300</td>\n",
       "      <td>4.905687</td>\n",
       "      <td>18.0</td>\n",
       "      <td>21.00</td>\n",
       "      <td>25.00</td>\n",
       "      <td>30.00</td>\n",
       "      <td>59.0</td>\n",
       "    </tr>\n",
       "    <tr>\n",
       "      <th>Academic Pressure</th>\n",
       "      <td>27901.0</td>\n",
       "      <td>3.141214</td>\n",
       "      <td>1.381465</td>\n",
       "      <td>0.0</td>\n",
       "      <td>2.00</td>\n",
       "      <td>3.00</td>\n",
       "      <td>4.00</td>\n",
       "      <td>5.0</td>\n",
       "    </tr>\n",
       "    <tr>\n",
       "      <th>Work Pressure</th>\n",
       "      <td>27901.0</td>\n",
       "      <td>0.000430</td>\n",
       "      <td>0.043992</td>\n",
       "      <td>0.0</td>\n",
       "      <td>0.00</td>\n",
       "      <td>0.00</td>\n",
       "      <td>0.00</td>\n",
       "      <td>5.0</td>\n",
       "    </tr>\n",
       "    <tr>\n",
       "      <th>CGPA</th>\n",
       "      <td>27901.0</td>\n",
       "      <td>7.656104</td>\n",
       "      <td>1.470707</td>\n",
       "      <td>0.0</td>\n",
       "      <td>6.29</td>\n",
       "      <td>7.77</td>\n",
       "      <td>8.92</td>\n",
       "      <td>10.0</td>\n",
       "    </tr>\n",
       "    <tr>\n",
       "      <th>Study Satisfaction</th>\n",
       "      <td>27901.0</td>\n",
       "      <td>2.943837</td>\n",
       "      <td>1.361148</td>\n",
       "      <td>0.0</td>\n",
       "      <td>2.00</td>\n",
       "      <td>3.00</td>\n",
       "      <td>4.00</td>\n",
       "      <td>5.0</td>\n",
       "    </tr>\n",
       "    <tr>\n",
       "      <th>Job Satisfaction</th>\n",
       "      <td>27901.0</td>\n",
       "      <td>0.000681</td>\n",
       "      <td>0.044394</td>\n",
       "      <td>0.0</td>\n",
       "      <td>0.00</td>\n",
       "      <td>0.00</td>\n",
       "      <td>0.00</td>\n",
       "      <td>4.0</td>\n",
       "    </tr>\n",
       "    <tr>\n",
       "      <th>Work/Study Hours</th>\n",
       "      <td>27901.0</td>\n",
       "      <td>7.156984</td>\n",
       "      <td>3.707642</td>\n",
       "      <td>0.0</td>\n",
       "      <td>4.00</td>\n",
       "      <td>8.00</td>\n",
       "      <td>10.00</td>\n",
       "      <td>12.0</td>\n",
       "    </tr>\n",
       "  </tbody>\n",
       "</table>\n",
       "</div>"
      ],
      "text/plain": [
       "                      count       mean       std   min    25%    50%    75%  \\\n",
       "Age                 27901.0  25.822300  4.905687  18.0  21.00  25.00  30.00   \n",
       "Academic Pressure   27901.0   3.141214  1.381465   0.0   2.00   3.00   4.00   \n",
       "Work Pressure       27901.0   0.000430  0.043992   0.0   0.00   0.00   0.00   \n",
       "CGPA                27901.0   7.656104  1.470707   0.0   6.29   7.77   8.92   \n",
       "Study Satisfaction  27901.0   2.943837  1.361148   0.0   2.00   3.00   4.00   \n",
       "Job Satisfaction    27901.0   0.000681  0.044394   0.0   0.00   0.00   0.00   \n",
       "Work/Study Hours    27901.0   7.156984  3.707642   0.0   4.00   8.00  10.00   \n",
       "\n",
       "                     max  \n",
       "Age                 59.0  \n",
       "Academic Pressure    5.0  \n",
       "Work Pressure        5.0  \n",
       "CGPA                10.0  \n",
       "Study Satisfaction   5.0  \n",
       "Job Satisfaction     4.0  \n",
       "Work/Study Hours    12.0  "
      ]
     },
     "metadata": {},
     "output_type": "display_data"
    }
   ],
   "source": [
    "display(df2.drop(['id','Depression'],axis=1).describe().T)"
   ]
  },
  {
   "cell_type": "markdown",
   "id": "71284fd4-c7e8-477a-961c-446250665fab",
   "metadata": {},
   "source": [
    "1. **Veri Kümesi Boyutları**\n",
    "    - Satır: 27,901\n",
    "    - Sütun: 18\n",
    "    - Eksik Değer: Hiçbir sütunda eksik değer bulunmamaktadır.\n",
    "\n",
    "2. **Veri Türleri**\n",
    "   - Sayısal sütunlar: 9 (yaş, akademik baskı, iş baskısı, CGPA, çalışma memnuniyeti, iş memnuniyeti, çalışma/öğrenim saatleri vb.)\n",
    "   - Kategorik sütunlar: 8 (cinsiyet,şehir,beslenme alışkanlıkları, family history vb.)\n",
    "   - ID Sütunu: 1 (ID)\n",
    "\n",
    "#### **İlk Gözlemler**\n",
    "\n",
    "1. **Demografik Dağılım (Age)**\n",
    "   - Ortalama yaş 25.82, minimum 18, maksimum 59 olarak gözlenmiştir.\n",
    "   - Bu, veri kümesinde hem üniversite öğrencilerini hem de mezun/çalışan bireyleri içeren geniş bir yaş aralığına işaret etmektedir.\n",
    "\n",
    "2. **Akademik Baskı ve CGPA**\n",
    "   - Akademik Baskı (mean = 3.14) orta seviyededir.\n",
    "   - CGPA ortalaması 7.65 olup, bu değer oldukça iyi bir akademik performansa işaret eder.\n",
    "   - Bu iki değişkenin birlikte incelenmesi, akademik baskının başarı üzerindeki etkisini anlamada kritik olacaktır.\n",
    "\n",
    "3. **Çalışma Memnuniyeti (Study Satisfaction)**\n",
    "   - Ortalama 2.94, medyan 3.0, bu da memnuniyetin orta düzeyde olduğunu gösterir.\n",
    "   - Akademik baskı ve çalışma memnuniyeti birlikte analiz edildiğinde, baskı arttıkça memnuniyetin azalıp azalmadığı değerlendirilebilir.\n",
    "\n",
    "4. **Aykırı Değerler**\n",
    "   - Work Pressure ve Job Satisfaction değişkenlerinde 5 ve 4 değerlerine kadar çıkan seyrek yüksek değerler, aykırı gözlemler olabilir.\n",
    "   - Age değişkeninde 59 yaşa kadar çıkılması da, bazı katılımcıların öğrenci dışı profilde olabileceğini düşündürmektedir. "
   ]
  },
  {
   "cell_type": "markdown",
   "id": "f8991ddf-b0c1-4a48-951d-37a8a963b28e",
   "metadata": {},
   "source": [
    "#  **4) Birleştirme Stratejisi**"
   ]
  },
  {
   "cell_type": "markdown",
   "id": "0e72e4ad-36ff-4656-a1a6-deed88c67219",
   "metadata": {},
   "source": [
    "**Amaç:** Birleştirme sonucunda, öğrencilerin günlük yaşam alışkanlıklarının (uyku, çalışma süresi, sosyal aktivite vb.) depresyon riski üzerindeki etkisini analiz etmek."
   ]
  },
  {
   "cell_type": "markdown",
   "id": "853bfade-ba01-48ca-8447-3f5a898790d1",
   "metadata": {},
   "source": [
    "## 4.1. Ortak ID Anahtar Üzerinden\n"
   ]
  },
  {
   "cell_type": "markdown",
   "id": "30f357e4-d39c-4cb8-a919-fb84a5801ea4",
   "metadata": {},
   "source": [
    "   - ### Sütun İsimlerini Kontrol Etme"
   ]
  },
  {
   "cell_type": "code",
   "execution_count": 7,
   "id": "ada97a28-d667-4ed3-8031-460248d7d169",
   "metadata": {},
   "outputs": [
    {
     "name": "stdout",
     "output_type": "stream",
     "text": [
      "Dataset 1:  Index(['Student_ID', 'Study_Hours_Per_Day', 'Extracurricular_Hours_Per_Day',\n",
      "       'Sleep_Hours_Per_Day', 'Social_Hours_Per_Day',\n",
      "       'Physical_Activity_Hours_Per_Day', 'GPA', 'Stress_Level'],\n",
      "      dtype='object')\n",
      "\n",
      "\n",
      "Dataset 2:  Index(['id', 'Gender', 'Age', 'City', 'Profession', 'Academic Pressure',\n",
      "       'Work Pressure', 'CGPA', 'Study Satisfaction', 'Job Satisfaction',\n",
      "       'Sleep Duration', 'Dietary Habits', 'Degree',\n",
      "       'Have you ever had suicidal thoughts ?', 'Work/Study Hours',\n",
      "       'Financial Stress', 'Family History of Mental Illness', 'Depression'],\n",
      "      dtype='object')\n"
     ]
    }
   ],
   "source": [
    "print(\"Dataset 1: \",df1.columns)\n",
    "\n",
    "print(\"\\n\")\n",
    "\n",
    "print(\"Dataset 2: \",df2.columns)"
   ]
  },
  {
   "cell_type": "markdown",
   "id": "ce6e54a7-9d6d-4b19-9dcf-64dc636327ac",
   "metadata": {},
   "source": [
    "  #### Her iki veri setinde de bir benzersiz kimlik var. Bu, bir “anahtar” gibi kullanılacaktır."
   ]
  },
  {
   "cell_type": "markdown",
   "id": "14fea90f-ab4a-4c5f-b639-caedc8793c60",
   "metadata": {},
   "source": [
    "- ### Sütun İsimlerini Düzenle\n",
    "     Kolaylık için id sütununu Student_ID olarak yeniden adlandıralım"
   ]
  },
  {
   "cell_type": "code",
   "execution_count": 8,
   "id": "102071ed-4ef2-4066-be46-9cd566564d9d",
   "metadata": {},
   "outputs": [],
   "source": [
    "df2.rename(columns={'id': 'Student_ID'}, inplace=True)"
   ]
  },
  {
   "cell_type": "markdown",
   "id": "70ab4dad-7811-4330-9a02-5d1861a01910",
   "metadata": {},
   "source": [
    "- ### Ortak Anahtar Üzerinden Birleştirme\n",
    "      df1’deki tüm öğrenciler, df2’de varsa mental sağlık bilgisiyle eşleşir."
   ]
  },
  {
   "cell_type": "code",
   "execution_count": 9,
   "id": "841095dc-4319-4693-98da-1aeb638f4786",
   "metadata": {},
   "outputs": [],
   "source": [
    "merged_df = pd.merge(df1, df2, on='Student_ID', how='left')"
   ]
  },
  {
   "cell_type": "code",
   "execution_count": 10,
   "id": "d7365c51-0aff-4b77-9dc8-3ad0d5434d1d",
   "metadata": {},
   "outputs": [
    {
     "name": "stdout",
     "output_type": "stream",
     "text": [
      "\n",
      "Birleştirilmiş veri seti boyutu: (2000, 25)\n"
     ]
    }
   ],
   "source": [
    "print(\"\\nBirleştirilmiş veri seti boyutu:\", merged_df.shape)"
   ]
  },
  {
   "cell_type": "markdown",
   "id": "08aea03c-1bc2-4e11-83cc-181da8d0ae7c",
   "metadata": {},
   "source": [
    "- ### Nihai veri seti kaydetme"
   ]
  },
  {
   "cell_type": "code",
   "execution_count": 11,
   "id": "0846c158-30f3-49a9-8eb4-993979cef147",
   "metadata": {},
   "outputs": [],
   "source": [
    "merged_df.to_csv(\"./datasets/Merged_Student_Lifestyle_MentalHealth.csv\", index=False)"
   ]
  },
  {
   "cell_type": "markdown",
   "id": "b2e4ced3-607d-4a77-936c-6ad2a6796ab1",
   "metadata": {},
   "source": [
    "<div style=\"border-radius: 15px 0 15px 0px; border: 2px solid #f1c40f; padding: 10px; background-color: #90e0ef; text-align: center; box-shadow: 0px 2px 4px rgba(0, 0, 0, 0.2);\">\n",
    "    <h1 style=\"color: #38040e; text-shadow: 2px 2px 4px rgba(0, 0, 0, 0.5); font-weight: bold; margin-bottom: 10px; font-size: 24px;\">Keşifsel Veri Analizi (EDA)</h1>\n",
    "</div>"
   ]
  },
  {
   "cell_type": "markdown",
   "id": "2c3e660f-7723-42b4-9378-7a9a023130cf",
   "metadata": {},
   "source": [
    "- ## **Amaç:** Verinin yapısını anlamak, türleri, eksik değerleri, çift kayıtları görmek vb."
   ]
  },
  {
   "cell_type": "markdown",
   "id": "bb7d50ac-3347-4d7a-87b9-2481abe3055b",
   "metadata": {},
   "source": [
    "### 1. İlk 5 satır"
   ]
  },
  {
   "cell_type": "code",
   "execution_count": 12,
   "id": "e7588476-55f8-44a7-968e-8fb1f8811e56",
   "metadata": {},
   "outputs": [
    {
     "data": {
      "text/html": [
       "<div>\n",
       "<style scoped>\n",
       "    .dataframe tbody tr th:only-of-type {\n",
       "        vertical-align: middle;\n",
       "    }\n",
       "\n",
       "    .dataframe tbody tr th {\n",
       "        vertical-align: top;\n",
       "    }\n",
       "\n",
       "    .dataframe thead th {\n",
       "        text-align: right;\n",
       "    }\n",
       "</style>\n",
       "<table border=\"1\" class=\"dataframe\">\n",
       "  <thead>\n",
       "    <tr style=\"text-align: right;\">\n",
       "      <th></th>\n",
       "      <th>Student_ID</th>\n",
       "      <th>Study_Hours_Per_Day</th>\n",
       "      <th>Extracurricular_Hours_Per_Day</th>\n",
       "      <th>Sleep_Hours_Per_Day</th>\n",
       "      <th>Social_Hours_Per_Day</th>\n",
       "      <th>Physical_Activity_Hours_Per_Day</th>\n",
       "      <th>GPA</th>\n",
       "      <th>Stress_Level</th>\n",
       "      <th>Gender</th>\n",
       "      <th>Age</th>\n",
       "      <th>...</th>\n",
       "      <th>Study Satisfaction</th>\n",
       "      <th>Job Satisfaction</th>\n",
       "      <th>Sleep Duration</th>\n",
       "      <th>Dietary Habits</th>\n",
       "      <th>Degree</th>\n",
       "      <th>Have you ever had suicidal thoughts ?</th>\n",
       "      <th>Work/Study Hours</th>\n",
       "      <th>Financial Stress</th>\n",
       "      <th>Family History of Mental Illness</th>\n",
       "      <th>Depression</th>\n",
       "    </tr>\n",
       "  </thead>\n",
       "  <tbody>\n",
       "    <tr>\n",
       "      <th>0</th>\n",
       "      <td>1</td>\n",
       "      <td>6.9</td>\n",
       "      <td>3.8</td>\n",
       "      <td>8.7</td>\n",
       "      <td>2.8</td>\n",
       "      <td>1.8</td>\n",
       "      <td>2.99</td>\n",
       "      <td>Moderate</td>\n",
       "      <td>NaN</td>\n",
       "      <td>NaN</td>\n",
       "      <td>...</td>\n",
       "      <td>NaN</td>\n",
       "      <td>NaN</td>\n",
       "      <td>NaN</td>\n",
       "      <td>NaN</td>\n",
       "      <td>NaN</td>\n",
       "      <td>NaN</td>\n",
       "      <td>NaN</td>\n",
       "      <td>NaN</td>\n",
       "      <td>NaN</td>\n",
       "      <td>NaN</td>\n",
       "    </tr>\n",
       "    <tr>\n",
       "      <th>1</th>\n",
       "      <td>2</td>\n",
       "      <td>5.3</td>\n",
       "      <td>3.5</td>\n",
       "      <td>8.0</td>\n",
       "      <td>4.2</td>\n",
       "      <td>3.0</td>\n",
       "      <td>2.75</td>\n",
       "      <td>Low</td>\n",
       "      <td>Male</td>\n",
       "      <td>33.0</td>\n",
       "      <td>...</td>\n",
       "      <td>2.0</td>\n",
       "      <td>0.0</td>\n",
       "      <td>'5-6 hours'</td>\n",
       "      <td>Healthy</td>\n",
       "      <td>B.Pharm</td>\n",
       "      <td>Yes</td>\n",
       "      <td>3.0</td>\n",
       "      <td>1.0</td>\n",
       "      <td>No</td>\n",
       "      <td>1.0</td>\n",
       "    </tr>\n",
       "    <tr>\n",
       "      <th>2</th>\n",
       "      <td>3</td>\n",
       "      <td>5.1</td>\n",
       "      <td>3.9</td>\n",
       "      <td>9.2</td>\n",
       "      <td>1.2</td>\n",
       "      <td>4.6</td>\n",
       "      <td>2.67</td>\n",
       "      <td>Low</td>\n",
       "      <td>NaN</td>\n",
       "      <td>NaN</td>\n",
       "      <td>...</td>\n",
       "      <td>NaN</td>\n",
       "      <td>NaN</td>\n",
       "      <td>NaN</td>\n",
       "      <td>NaN</td>\n",
       "      <td>NaN</td>\n",
       "      <td>NaN</td>\n",
       "      <td>NaN</td>\n",
       "      <td>NaN</td>\n",
       "      <td>NaN</td>\n",
       "      <td>NaN</td>\n",
       "    </tr>\n",
       "    <tr>\n",
       "      <th>3</th>\n",
       "      <td>4</td>\n",
       "      <td>6.5</td>\n",
       "      <td>2.1</td>\n",
       "      <td>7.2</td>\n",
       "      <td>1.7</td>\n",
       "      <td>6.5</td>\n",
       "      <td>2.88</td>\n",
       "      <td>Moderate</td>\n",
       "      <td>NaN</td>\n",
       "      <td>NaN</td>\n",
       "      <td>...</td>\n",
       "      <td>NaN</td>\n",
       "      <td>NaN</td>\n",
       "      <td>NaN</td>\n",
       "      <td>NaN</td>\n",
       "      <td>NaN</td>\n",
       "      <td>NaN</td>\n",
       "      <td>NaN</td>\n",
       "      <td>NaN</td>\n",
       "      <td>NaN</td>\n",
       "      <td>NaN</td>\n",
       "    </tr>\n",
       "    <tr>\n",
       "      <th>4</th>\n",
       "      <td>5</td>\n",
       "      <td>8.1</td>\n",
       "      <td>0.6</td>\n",
       "      <td>6.5</td>\n",
       "      <td>2.2</td>\n",
       "      <td>6.6</td>\n",
       "      <td>3.51</td>\n",
       "      <td>High</td>\n",
       "      <td>NaN</td>\n",
       "      <td>NaN</td>\n",
       "      <td>...</td>\n",
       "      <td>NaN</td>\n",
       "      <td>NaN</td>\n",
       "      <td>NaN</td>\n",
       "      <td>NaN</td>\n",
       "      <td>NaN</td>\n",
       "      <td>NaN</td>\n",
       "      <td>NaN</td>\n",
       "      <td>NaN</td>\n",
       "      <td>NaN</td>\n",
       "      <td>NaN</td>\n",
       "    </tr>\n",
       "  </tbody>\n",
       "</table>\n",
       "<p>5 rows × 25 columns</p>\n",
       "</div>"
      ],
      "text/plain": [
       "   Student_ID  Study_Hours_Per_Day  Extracurricular_Hours_Per_Day  \\\n",
       "0           1                  6.9                            3.8   \n",
       "1           2                  5.3                            3.5   \n",
       "2           3                  5.1                            3.9   \n",
       "3           4                  6.5                            2.1   \n",
       "4           5                  8.1                            0.6   \n",
       "\n",
       "   Sleep_Hours_Per_Day  Social_Hours_Per_Day  Physical_Activity_Hours_Per_Day  \\\n",
       "0                  8.7                   2.8                              1.8   \n",
       "1                  8.0                   4.2                              3.0   \n",
       "2                  9.2                   1.2                              4.6   \n",
       "3                  7.2                   1.7                              6.5   \n",
       "4                  6.5                   2.2                              6.6   \n",
       "\n",
       "    GPA Stress_Level Gender   Age  ... Study Satisfaction Job Satisfaction  \\\n",
       "0  2.99     Moderate    NaN   NaN  ...                NaN              NaN   \n",
       "1  2.75          Low   Male  33.0  ...                2.0              0.0   \n",
       "2  2.67          Low    NaN   NaN  ...                NaN              NaN   \n",
       "3  2.88     Moderate    NaN   NaN  ...                NaN              NaN   \n",
       "4  3.51         High    NaN   NaN  ...                NaN              NaN   \n",
       "\n",
       "   Sleep Duration  Dietary Habits   Degree  \\\n",
       "0             NaN             NaN      NaN   \n",
       "1     '5-6 hours'         Healthy  B.Pharm   \n",
       "2             NaN             NaN      NaN   \n",
       "3             NaN             NaN      NaN   \n",
       "4             NaN             NaN      NaN   \n",
       "\n",
       "   Have you ever had suicidal thoughts ?  Work/Study Hours Financial Stress  \\\n",
       "0                                    NaN               NaN              NaN   \n",
       "1                                    Yes               3.0              1.0   \n",
       "2                                    NaN               NaN              NaN   \n",
       "3                                    NaN               NaN              NaN   \n",
       "4                                    NaN               NaN              NaN   \n",
       "\n",
       "  Family History of Mental Illness Depression  \n",
       "0                              NaN        NaN  \n",
       "1                               No        1.0  \n",
       "2                              NaN        NaN  \n",
       "3                              NaN        NaN  \n",
       "4                              NaN        NaN  \n",
       "\n",
       "[5 rows x 25 columns]"
      ]
     },
     "execution_count": 12,
     "metadata": {},
     "output_type": "execute_result"
    }
   ],
   "source": [
    "merged_df.head()"
   ]
  },
  {
   "cell_type": "markdown",
   "id": "a27919c9-594b-452e-8c35-f3b5e54571b2",
   "metadata": {},
   "source": [
    "### 1.2 Boyut ve sütun tipleri"
   ]
  },
  {
   "cell_type": "code",
   "execution_count": 13,
   "id": "d2eca23d-9565-4c15-9af8-d0408dc7a677",
   "metadata": {},
   "outputs": [
    {
     "name": "stdout",
     "output_type": "stream",
     "text": [
      "Shape: (2000, 25)\n",
      "\n",
      " Student_ID                                 int64\n",
      "Study_Hours_Per_Day                      float64\n",
      "Extracurricular_Hours_Per_Day            float64\n",
      "Sleep_Hours_Per_Day                      float64\n",
      "Social_Hours_Per_Day                     float64\n",
      "Physical_Activity_Hours_Per_Day          float64\n",
      "GPA                                      float64\n",
      "Stress_Level                              object\n",
      "Gender                                    object\n",
      "Age                                      float64\n",
      "City                                      object\n",
      "Profession                                object\n",
      "Academic Pressure                        float64\n",
      "Work Pressure                            float64\n",
      "CGPA                                     float64\n",
      "Study Satisfaction                       float64\n",
      "Job Satisfaction                         float64\n",
      "Sleep Duration                            object\n",
      "Dietary Habits                            object\n",
      "Degree                                    object\n",
      "Have you ever had suicidal thoughts ?     object\n",
      "Work/Study Hours                         float64\n",
      "Financial Stress                          object\n",
      "Family History of Mental Illness          object\n",
      "Depression                               float64\n",
      "dtype: object\n"
     ]
    }
   ],
   "source": [
    "print(\"Shape:\", merged_df.shape)\n",
    "print(\"\\n\",merged_df.dtypes)"
   ]
  },
  {
   "cell_type": "markdown",
   "id": "aefeedad-b661-4442-9f4e-e4e67d6f3411",
   "metadata": {},
   "source": [
    "### 1.3 Özet istatistik (sayısal)\n"
   ]
  },
  {
   "cell_type": "code",
   "execution_count": 14,
   "id": "a859cfd1-fedb-4bda-b87c-e2c12f3c7120",
   "metadata": {},
   "outputs": [
    {
     "data": {
      "text/html": [
       "<div>\n",
       "<style scoped>\n",
       "    .dataframe tbody tr th:only-of-type {\n",
       "        vertical-align: middle;\n",
       "    }\n",
       "\n",
       "    .dataframe tbody tr th {\n",
       "        vertical-align: top;\n",
       "    }\n",
       "\n",
       "    .dataframe thead th {\n",
       "        text-align: right;\n",
       "    }\n",
       "</style>\n",
       "<table border=\"1\" class=\"dataframe\">\n",
       "  <thead>\n",
       "    <tr style=\"text-align: right;\">\n",
       "      <th></th>\n",
       "      <th>count</th>\n",
       "      <th>mean</th>\n",
       "      <th>std</th>\n",
       "      <th>min</th>\n",
       "      <th>25%</th>\n",
       "      <th>50%</th>\n",
       "      <th>75%</th>\n",
       "      <th>max</th>\n",
       "    </tr>\n",
       "  </thead>\n",
       "  <tbody>\n",
       "    <tr>\n",
       "      <th>Study_Hours_Per_Day</th>\n",
       "      <td>2000.0</td>\n",
       "      <td>7.475800</td>\n",
       "      <td>1.423888</td>\n",
       "      <td>5.00</td>\n",
       "      <td>6.300</td>\n",
       "      <td>7.40</td>\n",
       "      <td>8.700</td>\n",
       "      <td>10.00</td>\n",
       "    </tr>\n",
       "    <tr>\n",
       "      <th>Extracurricular_Hours_Per_Day</th>\n",
       "      <td>2000.0</td>\n",
       "      <td>1.990100</td>\n",
       "      <td>1.155855</td>\n",
       "      <td>0.00</td>\n",
       "      <td>1.000</td>\n",
       "      <td>2.00</td>\n",
       "      <td>3.000</td>\n",
       "      <td>4.00</td>\n",
       "    </tr>\n",
       "    <tr>\n",
       "      <th>Sleep_Hours_Per_Day</th>\n",
       "      <td>2000.0</td>\n",
       "      <td>7.501250</td>\n",
       "      <td>1.460949</td>\n",
       "      <td>5.00</td>\n",
       "      <td>6.200</td>\n",
       "      <td>7.50</td>\n",
       "      <td>8.800</td>\n",
       "      <td>10.00</td>\n",
       "    </tr>\n",
       "    <tr>\n",
       "      <th>Social_Hours_Per_Day</th>\n",
       "      <td>2000.0</td>\n",
       "      <td>2.704550</td>\n",
       "      <td>1.688514</td>\n",
       "      <td>0.00</td>\n",
       "      <td>1.200</td>\n",
       "      <td>2.60</td>\n",
       "      <td>4.100</td>\n",
       "      <td>6.00</td>\n",
       "    </tr>\n",
       "    <tr>\n",
       "      <th>Physical_Activity_Hours_Per_Day</th>\n",
       "      <td>2000.0</td>\n",
       "      <td>4.328300</td>\n",
       "      <td>2.514110</td>\n",
       "      <td>0.00</td>\n",
       "      <td>2.400</td>\n",
       "      <td>4.10</td>\n",
       "      <td>6.100</td>\n",
       "      <td>13.00</td>\n",
       "    </tr>\n",
       "    <tr>\n",
       "      <th>GPA</th>\n",
       "      <td>2000.0</td>\n",
       "      <td>3.115960</td>\n",
       "      <td>0.298674</td>\n",
       "      <td>2.24</td>\n",
       "      <td>2.900</td>\n",
       "      <td>3.11</td>\n",
       "      <td>3.330</td>\n",
       "      <td>4.00</td>\n",
       "    </tr>\n",
       "    <tr>\n",
       "      <th>Age</th>\n",
       "      <td>399.0</td>\n",
       "      <td>25.593985</td>\n",
       "      <td>4.945488</td>\n",
       "      <td>18.00</td>\n",
       "      <td>21.000</td>\n",
       "      <td>25.00</td>\n",
       "      <td>29.500</td>\n",
       "      <td>39.00</td>\n",
       "    </tr>\n",
       "    <tr>\n",
       "      <th>Academic Pressure</th>\n",
       "      <td>399.0</td>\n",
       "      <td>3.087719</td>\n",
       "      <td>1.403450</td>\n",
       "      <td>1.00</td>\n",
       "      <td>2.000</td>\n",
       "      <td>3.00</td>\n",
       "      <td>4.000</td>\n",
       "      <td>5.00</td>\n",
       "    </tr>\n",
       "    <tr>\n",
       "      <th>Work Pressure</th>\n",
       "      <td>399.0</td>\n",
       "      <td>0.000000</td>\n",
       "      <td>0.000000</td>\n",
       "      <td>0.00</td>\n",
       "      <td>0.000</td>\n",
       "      <td>0.00</td>\n",
       "      <td>0.000</td>\n",
       "      <td>0.00</td>\n",
       "    </tr>\n",
       "    <tr>\n",
       "      <th>CGPA</th>\n",
       "      <td>399.0</td>\n",
       "      <td>7.611604</td>\n",
       "      <td>1.462645</td>\n",
       "      <td>5.11</td>\n",
       "      <td>6.165</td>\n",
       "      <td>7.70</td>\n",
       "      <td>8.935</td>\n",
       "      <td>9.97</td>\n",
       "    </tr>\n",
       "    <tr>\n",
       "      <th>Study Satisfaction</th>\n",
       "      <td>399.0</td>\n",
       "      <td>2.994987</td>\n",
       "      <td>1.344998</td>\n",
       "      <td>1.00</td>\n",
       "      <td>2.000</td>\n",
       "      <td>3.00</td>\n",
       "      <td>4.000</td>\n",
       "      <td>5.00</td>\n",
       "    </tr>\n",
       "    <tr>\n",
       "      <th>Job Satisfaction</th>\n",
       "      <td>399.0</td>\n",
       "      <td>0.007519</td>\n",
       "      <td>0.150188</td>\n",
       "      <td>0.00</td>\n",
       "      <td>0.000</td>\n",
       "      <td>0.00</td>\n",
       "      <td>0.000</td>\n",
       "      <td>3.00</td>\n",
       "    </tr>\n",
       "    <tr>\n",
       "      <th>Work/Study Hours</th>\n",
       "      <td>399.0</td>\n",
       "      <td>7.223058</td>\n",
       "      <td>3.666070</td>\n",
       "      <td>0.00</td>\n",
       "      <td>4.000</td>\n",
       "      <td>8.00</td>\n",
       "      <td>10.000</td>\n",
       "      <td>12.00</td>\n",
       "    </tr>\n",
       "  </tbody>\n",
       "</table>\n",
       "</div>"
      ],
      "text/plain": [
       "                                  count       mean       std    min     25%  \\\n",
       "Study_Hours_Per_Day              2000.0   7.475800  1.423888   5.00   6.300   \n",
       "Extracurricular_Hours_Per_Day    2000.0   1.990100  1.155855   0.00   1.000   \n",
       "Sleep_Hours_Per_Day              2000.0   7.501250  1.460949   5.00   6.200   \n",
       "Social_Hours_Per_Day             2000.0   2.704550  1.688514   0.00   1.200   \n",
       "Physical_Activity_Hours_Per_Day  2000.0   4.328300  2.514110   0.00   2.400   \n",
       "GPA                              2000.0   3.115960  0.298674   2.24   2.900   \n",
       "Age                               399.0  25.593985  4.945488  18.00  21.000   \n",
       "Academic Pressure                 399.0   3.087719  1.403450   1.00   2.000   \n",
       "Work Pressure                     399.0   0.000000  0.000000   0.00   0.000   \n",
       "CGPA                              399.0   7.611604  1.462645   5.11   6.165   \n",
       "Study Satisfaction                399.0   2.994987  1.344998   1.00   2.000   \n",
       "Job Satisfaction                  399.0   0.007519  0.150188   0.00   0.000   \n",
       "Work/Study Hours                  399.0   7.223058  3.666070   0.00   4.000   \n",
       "\n",
       "                                   50%     75%    max  \n",
       "Study_Hours_Per_Day               7.40   8.700  10.00  \n",
       "Extracurricular_Hours_Per_Day     2.00   3.000   4.00  \n",
       "Sleep_Hours_Per_Day               7.50   8.800  10.00  \n",
       "Social_Hours_Per_Day              2.60   4.100   6.00  \n",
       "Physical_Activity_Hours_Per_Day   4.10   6.100  13.00  \n",
       "GPA                               3.11   3.330   4.00  \n",
       "Age                              25.00  29.500  39.00  \n",
       "Academic Pressure                 3.00   4.000   5.00  \n",
       "Work Pressure                     0.00   0.000   0.00  \n",
       "CGPA                              7.70   8.935   9.97  \n",
       "Study Satisfaction                3.00   4.000   5.00  \n",
       "Job Satisfaction                  0.00   0.000   3.00  \n",
       "Work/Study Hours                  8.00  10.000  12.00  "
      ]
     },
     "execution_count": 14,
     "metadata": {},
     "output_type": "execute_result"
    }
   ],
   "source": [
    "merged_df.drop(['Student_ID','Depression'],axis=1).describe().T"
   ]
  },
  {
   "cell_type": "markdown",
   "id": "58deb06e-8813-4778-8218-efef3efd788d",
   "metadata": {},
   "source": [
    "### 1.4 Duplicate kontrolü (aynı Student_ID)"
   ]
  },
  {
   "cell_type": "code",
   "execution_count": 15,
   "id": "241428e4-0eb9-4ef3-8b38-b169ff2d9c0f",
   "metadata": {},
   "outputs": [
    {
     "data": {
      "text/plain": [
       "(0, 25)"
      ]
     },
     "execution_count": 15,
     "metadata": {},
     "output_type": "execute_result"
    }
   ],
   "source": [
    "merged_df[merged_df.duplicated(subset='Student_ID', keep=False)].shape"
   ]
  },
  {
   "cell_type": "markdown",
   "id": "09fca4f9-6ad7-4374-83ad-81732cfce7b3",
   "metadata": {},
   "source": [
    "### 1.5 Kategorik değişkenlerin frekansları"
   ]
  },
  {
   "cell_type": "code",
   "execution_count": 16,
   "id": "6616381c-21b6-4c5a-a65f-85759a26b880",
   "metadata": {},
   "outputs": [
    {
     "name": "stdout",
     "output_type": "stream",
     "text": [
      "\n",
      "--- Stress_Level ---\n",
      "Stress_Level\n",
      "High        1029\n",
      "Moderate     674\n",
      "Low          297\n",
      "Name: count, dtype: int64\n",
      "\n",
      "--- Gender ---\n",
      "Gender\n",
      "NaN       1601\n",
      "Male       216\n",
      "Female     183\n",
      "Name: count, dtype: int64\n",
      "\n",
      "--- City ---\n",
      "City\n",
      "NaN            1601\n",
      "Lucknow          24\n",
      "Kalyan           23\n",
      "Srinagar         21\n",
      "Thane            18\n",
      "Kolkata          18\n",
      "Vasai-Virar      18\n",
      "Ludhiana         16\n",
      "Agra             16\n",
      "Hyderabad        15\n",
      "Bhopal           15\n",
      "Surat            15\n",
      "Rajkot           15\n",
      "Pune             14\n",
      "Jaipur           14\n",
      "Mumbai           14\n",
      "Ahmedabad        14\n",
      "Vadodara         13\n",
      "Ghaziabad        12\n",
      "Varanasi         12\n",
      "Name: count, dtype: int64\n",
      "\n",
      "--- Profession ---\n",
      "Profession\n",
      "NaN                 1601\n",
      "Student              398\n",
      "'Civil Engineer'       1\n",
      "Name: count, dtype: int64\n",
      "\n",
      "--- Sleep Duration ---\n",
      "Sleep Duration\n",
      "NaN                    1601\n",
      "'Less than 5 hours'     120\n",
      "'7-8 hours'             106\n",
      "'5-6 hours'              92\n",
      "'More than 8 hours'      81\n",
      "Name: count, dtype: int64\n",
      "\n",
      "--- Dietary Habits ---\n",
      "Dietary Habits\n",
      "NaN          1601\n",
      "Moderate      149\n",
      "Unhealthy     141\n",
      "Healthy       109\n",
      "Name: count, dtype: int64\n",
      "\n",
      "--- Degree ---\n",
      "Degree\n",
      "NaN           1601\n",
      "'Class 12'      97\n",
      "B.Ed            23\n",
      "BSc             23\n",
      "B.Com           19\n",
      "M.Tech          18\n",
      "BCA             17\n",
      "MSc             16\n",
      "B.Arch          16\n",
      "MCA             14\n",
      "BHM             14\n",
      "MBBS            14\n",
      "B.Tech          12\n",
      "M.Ed            11\n",
      "B.Pharm         11\n",
      "LLB             10\n",
      "M.Com           10\n",
      "MD               9\n",
      "BE               9\n",
      "MBA              9\n",
      "Name: count, dtype: int64\n",
      "\n",
      "--- Have you ever had suicidal thoughts ? ---\n",
      "Have you ever had suicidal thoughts ?\n",
      "NaN    1601\n",
      "Yes     246\n",
      "No      153\n",
      "Name: count, dtype: int64\n",
      "\n",
      "--- Financial Stress ---\n",
      "Financial Stress\n",
      "NaN    1601\n",
      "1.0      96\n",
      "5.0      87\n",
      "2.0      76\n",
      "4.0      74\n",
      "3.0      66\n",
      "Name: count, dtype: int64\n",
      "\n",
      "--- Family History of Mental Illness ---\n",
      "Family History of Mental Illness\n",
      "NaN    1601\n",
      "Yes     200\n",
      "No      199\n",
      "Name: count, dtype: int64\n"
     ]
    }
   ],
   "source": [
    "for col in merged_df.select_dtypes(include='object').columns:\n",
    "    print(f\"\\n--- {col} ---\")\n",
    "    print(merged_df[col].value_counts(dropna=False).head(20))"
   ]
  },
  {
   "cell_type": "markdown",
   "id": "2bf6c204-181e-4a02-a0ed-1a8f45356233",
   "metadata": {},
   "source": [
    "- ## Eksik veriler (Missing values)"
   ]
  },
  {
   "cell_type": "markdown",
   "id": "3cec0af6-356f-4ae7-8690-5cc38cc4bc8a",
   "metadata": {},
   "source": [
    "### **Amaç:** Hangi sütunlarda kaç tane eksik var, eksiklerin yapısına göre strateji seçecektir."
   ]
  },
  {
   "cell_type": "markdown",
   "id": "1fefe866-8551-49bb-8644-b4f92aaad26a",
   "metadata": {},
   "source": [
    "### 2.1 Eksik değer sayısı ve oranı"
   ]
  },
  {
   "cell_type": "code",
   "execution_count": 17,
   "id": "b175506d-bb49-48a1-9ae4-eedfeb62ca4f",
   "metadata": {},
   "outputs": [
    {
     "data": {
      "text/html": [
       "<div>\n",
       "<style scoped>\n",
       "    .dataframe tbody tr th:only-of-type {\n",
       "        vertical-align: middle;\n",
       "    }\n",
       "\n",
       "    .dataframe tbody tr th {\n",
       "        vertical-align: top;\n",
       "    }\n",
       "\n",
       "    .dataframe thead th {\n",
       "        text-align: right;\n",
       "    }\n",
       "</style>\n",
       "<table border=\"1\" class=\"dataframe\">\n",
       "  <thead>\n",
       "    <tr style=\"text-align: right;\">\n",
       "      <th></th>\n",
       "      <th>count</th>\n",
       "      <th>percent</th>\n",
       "    </tr>\n",
       "  </thead>\n",
       "  <tbody>\n",
       "    <tr>\n",
       "      <th>Gender</th>\n",
       "      <td>1601</td>\n",
       "      <td>80.05</td>\n",
       "    </tr>\n",
       "    <tr>\n",
       "      <th>Job Satisfaction</th>\n",
       "      <td>1601</td>\n",
       "      <td>80.05</td>\n",
       "    </tr>\n",
       "    <tr>\n",
       "      <th>Study Satisfaction</th>\n",
       "      <td>1601</td>\n",
       "      <td>80.05</td>\n",
       "    </tr>\n",
       "    <tr>\n",
       "      <th>CGPA</th>\n",
       "      <td>1601</td>\n",
       "      <td>80.05</td>\n",
       "    </tr>\n",
       "    <tr>\n",
       "      <th>Work Pressure</th>\n",
       "      <td>1601</td>\n",
       "      <td>80.05</td>\n",
       "    </tr>\n",
       "    <tr>\n",
       "      <th>Academic Pressure</th>\n",
       "      <td>1601</td>\n",
       "      <td>80.05</td>\n",
       "    </tr>\n",
       "    <tr>\n",
       "      <th>Profession</th>\n",
       "      <td>1601</td>\n",
       "      <td>80.05</td>\n",
       "    </tr>\n",
       "    <tr>\n",
       "      <th>City</th>\n",
       "      <td>1601</td>\n",
       "      <td>80.05</td>\n",
       "    </tr>\n",
       "    <tr>\n",
       "      <th>Age</th>\n",
       "      <td>1601</td>\n",
       "      <td>80.05</td>\n",
       "    </tr>\n",
       "    <tr>\n",
       "      <th>Sleep Duration</th>\n",
       "      <td>1601</td>\n",
       "      <td>80.05</td>\n",
       "    </tr>\n",
       "    <tr>\n",
       "      <th>Dietary Habits</th>\n",
       "      <td>1601</td>\n",
       "      <td>80.05</td>\n",
       "    </tr>\n",
       "    <tr>\n",
       "      <th>Degree</th>\n",
       "      <td>1601</td>\n",
       "      <td>80.05</td>\n",
       "    </tr>\n",
       "    <tr>\n",
       "      <th>Have you ever had suicidal thoughts ?</th>\n",
       "      <td>1601</td>\n",
       "      <td>80.05</td>\n",
       "    </tr>\n",
       "    <tr>\n",
       "      <th>Work/Study Hours</th>\n",
       "      <td>1601</td>\n",
       "      <td>80.05</td>\n",
       "    </tr>\n",
       "    <tr>\n",
       "      <th>Financial Stress</th>\n",
       "      <td>1601</td>\n",
       "      <td>80.05</td>\n",
       "    </tr>\n",
       "    <tr>\n",
       "      <th>Family History of Mental Illness</th>\n",
       "      <td>1601</td>\n",
       "      <td>80.05</td>\n",
       "    </tr>\n",
       "    <tr>\n",
       "      <th>Depression</th>\n",
       "      <td>1601</td>\n",
       "      <td>80.05</td>\n",
       "    </tr>\n",
       "    <tr>\n",
       "      <th>Stress_Level</th>\n",
       "      <td>0</td>\n",
       "      <td>0.00</td>\n",
       "    </tr>\n",
       "    <tr>\n",
       "      <th>GPA</th>\n",
       "      <td>0</td>\n",
       "      <td>0.00</td>\n",
       "    </tr>\n",
       "    <tr>\n",
       "      <th>Physical_Activity_Hours_Per_Day</th>\n",
       "      <td>0</td>\n",
       "      <td>0.00</td>\n",
       "    </tr>\n",
       "    <tr>\n",
       "      <th>Social_Hours_Per_Day</th>\n",
       "      <td>0</td>\n",
       "      <td>0.00</td>\n",
       "    </tr>\n",
       "    <tr>\n",
       "      <th>Extracurricular_Hours_Per_Day</th>\n",
       "      <td>0</td>\n",
       "      <td>0.00</td>\n",
       "    </tr>\n",
       "    <tr>\n",
       "      <th>Sleep_Hours_Per_Day</th>\n",
       "      <td>0</td>\n",
       "      <td>0.00</td>\n",
       "    </tr>\n",
       "    <tr>\n",
       "      <th>Study_Hours_Per_Day</th>\n",
       "      <td>0</td>\n",
       "      <td>0.00</td>\n",
       "    </tr>\n",
       "    <tr>\n",
       "      <th>Student_ID</th>\n",
       "      <td>0</td>\n",
       "      <td>0.00</td>\n",
       "    </tr>\n",
       "  </tbody>\n",
       "</table>\n",
       "</div>"
      ],
      "text/plain": [
       "                                       count  percent\n",
       "Gender                                  1601    80.05\n",
       "Job Satisfaction                        1601    80.05\n",
       "Study Satisfaction                      1601    80.05\n",
       "CGPA                                    1601    80.05\n",
       "Work Pressure                           1601    80.05\n",
       "Academic Pressure                       1601    80.05\n",
       "Profession                              1601    80.05\n",
       "City                                    1601    80.05\n",
       "Age                                     1601    80.05\n",
       "Sleep Duration                          1601    80.05\n",
       "Dietary Habits                          1601    80.05\n",
       "Degree                                  1601    80.05\n",
       "Have you ever had suicidal thoughts ?   1601    80.05\n",
       "Work/Study Hours                        1601    80.05\n",
       "Financial Stress                        1601    80.05\n",
       "Family History of Mental Illness        1601    80.05\n",
       "Depression                              1601    80.05\n",
       "Stress_Level                               0     0.00\n",
       "GPA                                        0     0.00\n",
       "Physical_Activity_Hours_Per_Day            0     0.00\n",
       "Social_Hours_Per_Day                       0     0.00\n",
       "Extracurricular_Hours_Per_Day              0     0.00\n",
       "Sleep_Hours_Per_Day                        0     0.00\n",
       "Study_Hours_Per_Day                        0     0.00\n",
       "Student_ID                                 0     0.00"
      ]
     },
     "execution_count": 17,
     "metadata": {},
     "output_type": "execute_result"
    }
   ],
   "source": [
    "miss = merged_df.isnull().sum().sort_values(ascending=False)\n",
    "miss_percent = (miss / len(merged_df) * 100).round(2)\n",
    "pd.concat([miss, miss_percent], axis=1, keys=['count', 'percent']).head(30)"
   ]
  },
  {
   "cell_type": "markdown",
   "id": "52ac6a27-262f-4a28-86aa-4950d7d76bdc",
   "metadata": {},
   "source": [
    "## Eksik oranı %50 den yüksek ve projeye katkısı olmayan tüm sütunlar çıkarılacaktır"
   ]
  },
  {
   "cell_type": "markdown",
   "id": "87586d70-fc24-48c8-aa37-7e8a438f6ca8",
   "metadata": {},
   "source": [
    "### Çıkarılan sütunlar"
   ]
  },
  {
   "cell_type": "code",
   "execution_count": 18,
   "id": "9e71798b-d934-48fe-b7e1-333da9aaa459",
   "metadata": {},
   "outputs": [],
   "source": [
    "merged_df = merged_df.drop(columns=['Gender','Job Satisfaction','CGPA','Profession','Sleep Duration','Age',\n",
    "                                    'Have you ever had suicidal thoughts ?','Degree','City','Work/Study Hours','Dietary Habits',\n",
    "                                   'Family History of Mental Illness','Financial Stress','Work Pressure','Study Satisfaction','Student_ID'])"
   ]
  },
  {
   "cell_type": "code",
   "execution_count": 19,
   "id": "e10d3be0-33ed-41c4-aa55-435926b134a9",
   "metadata": {},
   "outputs": [
    {
     "name": "stdout",
     "output_type": "stream",
     "text": [
      "<class 'pandas.core.frame.DataFrame'>\n",
      "RangeIndex: 2000 entries, 0 to 1999\n",
      "Data columns (total 9 columns):\n",
      " #   Column                           Non-Null Count  Dtype  \n",
      "---  ------                           --------------  -----  \n",
      " 0   Study_Hours_Per_Day              2000 non-null   float64\n",
      " 1   Extracurricular_Hours_Per_Day    2000 non-null   float64\n",
      " 2   Sleep_Hours_Per_Day              2000 non-null   float64\n",
      " 3   Social_Hours_Per_Day             2000 non-null   float64\n",
      " 4   Physical_Activity_Hours_Per_Day  2000 non-null   float64\n",
      " 5   GPA                              2000 non-null   float64\n",
      " 6   Stress_Level                     2000 non-null   object \n",
      " 7   Academic Pressure                399 non-null    float64\n",
      " 8   Depression                       399 non-null    float64\n",
      "dtypes: float64(8), object(1)\n",
      "memory usage: 140.8+ KB\n"
     ]
    }
   ],
   "source": [
    "merged_df.info()"
   ]
  },
  {
   "cell_type": "markdown",
   "id": "8af15e8a-60bc-4416-9830-a737d7438ced",
   "metadata": {},
   "source": [
    "- #### Eksik değer sayısı ve oranı"
   ]
  },
  {
   "cell_type": "code",
   "execution_count": 20,
   "id": "28bb6e10-0336-49f0-9363-6ae875c2c2ff",
   "metadata": {},
   "outputs": [
    {
     "data": {
      "text/html": [
       "<div>\n",
       "<style scoped>\n",
       "    .dataframe tbody tr th:only-of-type {\n",
       "        vertical-align: middle;\n",
       "    }\n",
       "\n",
       "    .dataframe tbody tr th {\n",
       "        vertical-align: top;\n",
       "    }\n",
       "\n",
       "    .dataframe thead th {\n",
       "        text-align: right;\n",
       "    }\n",
       "</style>\n",
       "<table border=\"1\" class=\"dataframe\">\n",
       "  <thead>\n",
       "    <tr style=\"text-align: right;\">\n",
       "      <th></th>\n",
       "      <th>count</th>\n",
       "      <th>percent</th>\n",
       "    </tr>\n",
       "  </thead>\n",
       "  <tbody>\n",
       "    <tr>\n",
       "      <th>Academic Pressure</th>\n",
       "      <td>1601</td>\n",
       "      <td>80.05</td>\n",
       "    </tr>\n",
       "    <tr>\n",
       "      <th>Depression</th>\n",
       "      <td>1601</td>\n",
       "      <td>80.05</td>\n",
       "    </tr>\n",
       "    <tr>\n",
       "      <th>Study_Hours_Per_Day</th>\n",
       "      <td>0</td>\n",
       "      <td>0.00</td>\n",
       "    </tr>\n",
       "    <tr>\n",
       "      <th>Extracurricular_Hours_Per_Day</th>\n",
       "      <td>0</td>\n",
       "      <td>0.00</td>\n",
       "    </tr>\n",
       "    <tr>\n",
       "      <th>Sleep_Hours_Per_Day</th>\n",
       "      <td>0</td>\n",
       "      <td>0.00</td>\n",
       "    </tr>\n",
       "    <tr>\n",
       "      <th>Physical_Activity_Hours_Per_Day</th>\n",
       "      <td>0</td>\n",
       "      <td>0.00</td>\n",
       "    </tr>\n",
       "    <tr>\n",
       "      <th>Social_Hours_Per_Day</th>\n",
       "      <td>0</td>\n",
       "      <td>0.00</td>\n",
       "    </tr>\n",
       "    <tr>\n",
       "      <th>Stress_Level</th>\n",
       "      <td>0</td>\n",
       "      <td>0.00</td>\n",
       "    </tr>\n",
       "    <tr>\n",
       "      <th>GPA</th>\n",
       "      <td>0</td>\n",
       "      <td>0.00</td>\n",
       "    </tr>\n",
       "  </tbody>\n",
       "</table>\n",
       "</div>"
      ],
      "text/plain": [
       "                                 count  percent\n",
       "Academic Pressure                 1601    80.05\n",
       "Depression                        1601    80.05\n",
       "Study_Hours_Per_Day                  0     0.00\n",
       "Extracurricular_Hours_Per_Day        0     0.00\n",
       "Sleep_Hours_Per_Day                  0     0.00\n",
       "Physical_Activity_Hours_Per_Day      0     0.00\n",
       "Social_Hours_Per_Day                 0     0.00\n",
       "Stress_Level                         0     0.00\n",
       "GPA                                  0     0.00"
      ]
     },
     "execution_count": 20,
     "metadata": {},
     "output_type": "execute_result"
    }
   ],
   "source": [
    "miss = merged_df.isnull().sum().sort_values(ascending=False)\n",
    "miss_percent = (miss / len(merged_df) * 100).round(2)\n",
    "pd.concat([miss, miss_percent], axis=1, keys=['count', 'percent']).head(30)"
   ]
  },
  {
   "cell_type": "markdown",
   "id": "76c01cda-8d44-4dba-8b72-55e84daab6ae",
   "metadata": {},
   "source": [
    "### HEM 'Akademik Baskı' HEM de 'Depresyon'un NaN olduğu 995 satırları silme"
   ]
  },
  {
   "cell_type": "code",
   "execution_count": 21,
   "id": "4bd2ce89-2787-4f59-b894-719d895264f6",
   "metadata": {},
   "outputs": [
    {
     "name": "stdout",
     "output_type": "stream",
     "text": [
      "<class 'pandas.core.frame.DataFrame'>\n",
      "Index: 1005 entries, 1 to 1999\n",
      "Data columns (total 9 columns):\n",
      " #   Column                           Non-Null Count  Dtype  \n",
      "---  ------                           --------------  -----  \n",
      " 0   Study_Hours_Per_Day              1005 non-null   float64\n",
      " 1   Extracurricular_Hours_Per_Day    1005 non-null   float64\n",
      " 2   Sleep_Hours_Per_Day              1005 non-null   float64\n",
      " 3   Social_Hours_Per_Day             1005 non-null   float64\n",
      " 4   Physical_Activity_Hours_Per_Day  1005 non-null   float64\n",
      " 5   GPA                              1005 non-null   float64\n",
      " 6   Stress_Level                     1005 non-null   object \n",
      " 7   Academic Pressure                399 non-null    float64\n",
      " 8   Depression                       399 non-null    float64\n",
      "dtypes: float64(8), object(1)\n",
      "memory usage: 78.5+ KB\n",
      "None\n"
     ]
    }
   ],
   "source": [
    "# Her iki sütunun da NaN olduğu satırları belirleme\n",
    "mask = merged_df['Academic Pressure'].isna() & merged_df['Depression'].isna()\n",
    "\n",
    "# Bu satırların indekslerini alma\n",
    "nan_indices = merged_df[mask].index\n",
    "\n",
    "# Bunlardan 700 tanesini rastgele seçin (yeterli değilse daha azını)\n",
    "drop_indices = nan_indices.to_series().sample(995, random_state=42).index\n",
    "\n",
    "# Sadece 700 satırı bırak\n",
    "merged_df = merged_df.drop(index=drop_indices)\n",
    "\n",
    "# sonuç\n",
    "print(merged_df.info())\n"
   ]
  },
  {
   "cell_type": "markdown",
   "id": "66b0c9e5-d8d5-4a2c-964a-0a01f6935d14",
   "metadata": {},
   "source": [
    "- #### Eksik değer sayısı ve oranı"
   ]
  },
  {
   "cell_type": "code",
   "execution_count": 22,
   "id": "128caee3-1a0b-472e-88f3-5210c7c9d7d6",
   "metadata": {},
   "outputs": [
    {
     "data": {
      "text/html": [
       "<div>\n",
       "<style scoped>\n",
       "    .dataframe tbody tr th:only-of-type {\n",
       "        vertical-align: middle;\n",
       "    }\n",
       "\n",
       "    .dataframe tbody tr th {\n",
       "        vertical-align: top;\n",
       "    }\n",
       "\n",
       "    .dataframe thead th {\n",
       "        text-align: right;\n",
       "    }\n",
       "</style>\n",
       "<table border=\"1\" class=\"dataframe\">\n",
       "  <thead>\n",
       "    <tr style=\"text-align: right;\">\n",
       "      <th></th>\n",
       "      <th>count</th>\n",
       "      <th>percent</th>\n",
       "    </tr>\n",
       "  </thead>\n",
       "  <tbody>\n",
       "    <tr>\n",
       "      <th>Academic Pressure</th>\n",
       "      <td>606</td>\n",
       "      <td>60.3</td>\n",
       "    </tr>\n",
       "    <tr>\n",
       "      <th>Depression</th>\n",
       "      <td>606</td>\n",
       "      <td>60.3</td>\n",
       "    </tr>\n",
       "    <tr>\n",
       "      <th>Study_Hours_Per_Day</th>\n",
       "      <td>0</td>\n",
       "      <td>0.0</td>\n",
       "    </tr>\n",
       "    <tr>\n",
       "      <th>Extracurricular_Hours_Per_Day</th>\n",
       "      <td>0</td>\n",
       "      <td>0.0</td>\n",
       "    </tr>\n",
       "    <tr>\n",
       "      <th>Sleep_Hours_Per_Day</th>\n",
       "      <td>0</td>\n",
       "      <td>0.0</td>\n",
       "    </tr>\n",
       "    <tr>\n",
       "      <th>Physical_Activity_Hours_Per_Day</th>\n",
       "      <td>0</td>\n",
       "      <td>0.0</td>\n",
       "    </tr>\n",
       "    <tr>\n",
       "      <th>Social_Hours_Per_Day</th>\n",
       "      <td>0</td>\n",
       "      <td>0.0</td>\n",
       "    </tr>\n",
       "    <tr>\n",
       "      <th>Stress_Level</th>\n",
       "      <td>0</td>\n",
       "      <td>0.0</td>\n",
       "    </tr>\n",
       "    <tr>\n",
       "      <th>GPA</th>\n",
       "      <td>0</td>\n",
       "      <td>0.0</td>\n",
       "    </tr>\n",
       "  </tbody>\n",
       "</table>\n",
       "</div>"
      ],
      "text/plain": [
       "                                 count  percent\n",
       "Academic Pressure                  606     60.3\n",
       "Depression                         606     60.3\n",
       "Study_Hours_Per_Day                  0      0.0\n",
       "Extracurricular_Hours_Per_Day        0      0.0\n",
       "Sleep_Hours_Per_Day                  0      0.0\n",
       "Physical_Activity_Hours_Per_Day      0      0.0\n",
       "Social_Hours_Per_Day                 0      0.0\n",
       "Stress_Level                         0      0.0\n",
       "GPA                                  0      0.0"
      ]
     },
     "execution_count": 22,
     "metadata": {},
     "output_type": "execute_result"
    }
   ],
   "source": [
    "miss = merged_df.isnull().sum().sort_values(ascending=False)\n",
    "miss_percent = (miss / len(merged_df) * 100).round(2)\n",
    "pd.concat([miss, miss_percent], axis=1, keys=['count', 'percent']).head(30)"
   ]
  },
  {
   "cell_type": "markdown",
   "id": "a4f54545-4f2c-43fc-a797-1628d0f92661",
   "metadata": {},
   "source": [
    "### Yeni dataframe'in boyutu"
   ]
  },
  {
   "cell_type": "code",
   "execution_count": 23,
   "id": "3935a07f-e97c-4db6-80fc-588073a3d206",
   "metadata": {},
   "outputs": [
    {
     "data": {
      "text/plain": [
       "(1005, 9)"
      ]
     },
     "execution_count": 23,
     "metadata": {},
     "output_type": "execute_result"
    }
   ],
   "source": [
    "merged_df.shape"
   ]
  },
  {
   "cell_type": "code",
   "execution_count": 24,
   "id": "09597d10-3ce9-4779-9b96-2c9feb7cfecc",
   "metadata": {},
   "outputs": [
    {
     "data": {
      "text/html": [
       "<div>\n",
       "<style scoped>\n",
       "    .dataframe tbody tr th:only-of-type {\n",
       "        vertical-align: middle;\n",
       "    }\n",
       "\n",
       "    .dataframe tbody tr th {\n",
       "        vertical-align: top;\n",
       "    }\n",
       "\n",
       "    .dataframe thead th {\n",
       "        text-align: right;\n",
       "    }\n",
       "</style>\n",
       "<table border=\"1\" class=\"dataframe\">\n",
       "  <thead>\n",
       "    <tr style=\"text-align: right;\">\n",
       "      <th></th>\n",
       "      <th>Study_Hours_Per_Day</th>\n",
       "      <th>Extracurricular_Hours_Per_Day</th>\n",
       "      <th>Sleep_Hours_Per_Day</th>\n",
       "      <th>Social_Hours_Per_Day</th>\n",
       "      <th>Physical_Activity_Hours_Per_Day</th>\n",
       "      <th>GPA</th>\n",
       "      <th>Stress_Level</th>\n",
       "      <th>Academic Pressure</th>\n",
       "      <th>Depression</th>\n",
       "    </tr>\n",
       "  </thead>\n",
       "  <tbody>\n",
       "    <tr>\n",
       "      <th>1040</th>\n",
       "      <td>6.7</td>\n",
       "      <td>2.5</td>\n",
       "      <td>7.7</td>\n",
       "      <td>0.8</td>\n",
       "      <td>6.3</td>\n",
       "      <td>2.81</td>\n",
       "      <td>Moderate</td>\n",
       "      <td>NaN</td>\n",
       "      <td>NaN</td>\n",
       "    </tr>\n",
       "    <tr>\n",
       "      <th>349</th>\n",
       "      <td>7.2</td>\n",
       "      <td>2.5</td>\n",
       "      <td>9.7</td>\n",
       "      <td>1.1</td>\n",
       "      <td>3.5</td>\n",
       "      <td>2.69</td>\n",
       "      <td>Moderate</td>\n",
       "      <td>NaN</td>\n",
       "      <td>NaN</td>\n",
       "    </tr>\n",
       "    <tr>\n",
       "      <th>1376</th>\n",
       "      <td>7.8</td>\n",
       "      <td>2.9</td>\n",
       "      <td>9.7</td>\n",
       "      <td>3.3</td>\n",
       "      <td>0.3</td>\n",
       "      <td>3.09</td>\n",
       "      <td>Moderate</td>\n",
       "      <td>NaN</td>\n",
       "      <td>NaN</td>\n",
       "    </tr>\n",
       "    <tr>\n",
       "      <th>931</th>\n",
       "      <td>6.5</td>\n",
       "      <td>2.6</td>\n",
       "      <td>8.0</td>\n",
       "      <td>4.2</td>\n",
       "      <td>2.7</td>\n",
       "      <td>2.83</td>\n",
       "      <td>Moderate</td>\n",
       "      <td>NaN</td>\n",
       "      <td>NaN</td>\n",
       "    </tr>\n",
       "    <tr>\n",
       "      <th>1492</th>\n",
       "      <td>7.8</td>\n",
       "      <td>0.4</td>\n",
       "      <td>6.0</td>\n",
       "      <td>2.5</td>\n",
       "      <td>7.3</td>\n",
       "      <td>3.24</td>\n",
       "      <td>Moderate</td>\n",
       "      <td>5.0</td>\n",
       "      <td>0.0</td>\n",
       "    </tr>\n",
       "  </tbody>\n",
       "</table>\n",
       "</div>"
      ],
      "text/plain": [
       "      Study_Hours_Per_Day  Extracurricular_Hours_Per_Day  Sleep_Hours_Per_Day  \\\n",
       "1040                  6.7                            2.5                  7.7   \n",
       "349                   7.2                            2.5                  9.7   \n",
       "1376                  7.8                            2.9                  9.7   \n",
       "931                   6.5                            2.6                  8.0   \n",
       "1492                  7.8                            0.4                  6.0   \n",
       "\n",
       "      Social_Hours_Per_Day  Physical_Activity_Hours_Per_Day   GPA  \\\n",
       "1040                   0.8                              6.3  2.81   \n",
       "349                    1.1                              3.5  2.69   \n",
       "1376                   3.3                              0.3  3.09   \n",
       "931                    4.2                              2.7  2.83   \n",
       "1492                   2.5                              7.3  3.24   \n",
       "\n",
       "     Stress_Level  Academic Pressure  Depression  \n",
       "1040     Moderate                NaN         NaN  \n",
       "349      Moderate                NaN         NaN  \n",
       "1376     Moderate                NaN         NaN  \n",
       "931      Moderate                NaN         NaN  \n",
       "1492     Moderate                5.0         0.0  "
      ]
     },
     "execution_count": 24,
     "metadata": {},
     "output_type": "execute_result"
    }
   ],
   "source": [
    "merged_df.sample(5)"
   ]
  },
  {
   "cell_type": "markdown",
   "id": "de3ed0a9-9788-4d81-94dd-11846c960fb6",
   "metadata": {},
   "source": [
    "# Stres Düzeyi için Etiket Kodlaması (Label Encoding)"
   ]
  },
  {
   "cell_type": "code",
   "execution_count": 25,
   "id": "d56b23b2-5484-4e25-ad30-a0e46da08092",
   "metadata": {},
   "outputs": [],
   "source": [
    "merged_df['Stress_Level'] = merged_df['Stress_Level'].map({\n",
    "    'Low': 0,\n",
    "    'Moderate': 1,\n",
    "    'High': 2\n",
    "})"
   ]
  },
  {
   "cell_type": "code",
   "execution_count": 26,
   "id": "9dc386e9-01f8-4ac9-841e-2aee7f7fbc63",
   "metadata": {},
   "outputs": [
    {
     "data": {
      "text/html": [
       "<div>\n",
       "<style scoped>\n",
       "    .dataframe tbody tr th:only-of-type {\n",
       "        vertical-align: middle;\n",
       "    }\n",
       "\n",
       "    .dataframe tbody tr th {\n",
       "        vertical-align: top;\n",
       "    }\n",
       "\n",
       "    .dataframe thead th {\n",
       "        text-align: right;\n",
       "    }\n",
       "</style>\n",
       "<table border=\"1\" class=\"dataframe\">\n",
       "  <thead>\n",
       "    <tr style=\"text-align: right;\">\n",
       "      <th></th>\n",
       "      <th>Study_Hours_Per_Day</th>\n",
       "      <th>Extracurricular_Hours_Per_Day</th>\n",
       "      <th>Sleep_Hours_Per_Day</th>\n",
       "      <th>Social_Hours_Per_Day</th>\n",
       "      <th>Physical_Activity_Hours_Per_Day</th>\n",
       "      <th>GPA</th>\n",
       "      <th>Stress_Level</th>\n",
       "      <th>Academic Pressure</th>\n",
       "      <th>Depression</th>\n",
       "    </tr>\n",
       "  </thead>\n",
       "  <tbody>\n",
       "    <tr>\n",
       "      <th>1641</th>\n",
       "      <td>5.1</td>\n",
       "      <td>2.4</td>\n",
       "      <td>6.4</td>\n",
       "      <td>5.2</td>\n",
       "      <td>4.9</td>\n",
       "      <td>2.77</td>\n",
       "      <td>0</td>\n",
       "      <td>NaN</td>\n",
       "      <td>NaN</td>\n",
       "    </tr>\n",
       "    <tr>\n",
       "      <th>803</th>\n",
       "      <td>8.1</td>\n",
       "      <td>0.7</td>\n",
       "      <td>5.1</td>\n",
       "      <td>1.7</td>\n",
       "      <td>8.4</td>\n",
       "      <td>3.21</td>\n",
       "      <td>2</td>\n",
       "      <td>5.0</td>\n",
       "      <td>1.0</td>\n",
       "    </tr>\n",
       "    <tr>\n",
       "      <th>909</th>\n",
       "      <td>7.4</td>\n",
       "      <td>3.9</td>\n",
       "      <td>8.8</td>\n",
       "      <td>1.0</td>\n",
       "      <td>2.9</td>\n",
       "      <td>3.11</td>\n",
       "      <td>1</td>\n",
       "      <td>1.0</td>\n",
       "      <td>1.0</td>\n",
       "    </tr>\n",
       "    <tr>\n",
       "      <th>1981</th>\n",
       "      <td>5.8</td>\n",
       "      <td>0.8</td>\n",
       "      <td>9.9</td>\n",
       "      <td>0.9</td>\n",
       "      <td>6.6</td>\n",
       "      <td>2.71</td>\n",
       "      <td>0</td>\n",
       "      <td>NaN</td>\n",
       "      <td>NaN</td>\n",
       "    </tr>\n",
       "    <tr>\n",
       "      <th>25</th>\n",
       "      <td>9.7</td>\n",
       "      <td>1.3</td>\n",
       "      <td>7.6</td>\n",
       "      <td>3.8</td>\n",
       "      <td>1.6</td>\n",
       "      <td>3.29</td>\n",
       "      <td>2</td>\n",
       "      <td>3.0</td>\n",
       "      <td>0.0</td>\n",
       "    </tr>\n",
       "    <tr>\n",
       "      <th>309</th>\n",
       "      <td>6.0</td>\n",
       "      <td>2.1</td>\n",
       "      <td>5.5</td>\n",
       "      <td>2.7</td>\n",
       "      <td>7.7</td>\n",
       "      <td>2.72</td>\n",
       "      <td>2</td>\n",
       "      <td>3.0</td>\n",
       "      <td>0.0</td>\n",
       "    </tr>\n",
       "  </tbody>\n",
       "</table>\n",
       "</div>"
      ],
      "text/plain": [
       "      Study_Hours_Per_Day  Extracurricular_Hours_Per_Day  Sleep_Hours_Per_Day  \\\n",
       "1641                  5.1                            2.4                  6.4   \n",
       "803                   8.1                            0.7                  5.1   \n",
       "909                   7.4                            3.9                  8.8   \n",
       "1981                  5.8                            0.8                  9.9   \n",
       "25                    9.7                            1.3                  7.6   \n",
       "309                   6.0                            2.1                  5.5   \n",
       "\n",
       "      Social_Hours_Per_Day  Physical_Activity_Hours_Per_Day   GPA  \\\n",
       "1641                   5.2                              4.9  2.77   \n",
       "803                    1.7                              8.4  3.21   \n",
       "909                    1.0                              2.9  3.11   \n",
       "1981                   0.9                              6.6  2.71   \n",
       "25                     3.8                              1.6  3.29   \n",
       "309                    2.7                              7.7  2.72   \n",
       "\n",
       "      Stress_Level  Academic Pressure  Depression  \n",
       "1641             0                NaN         NaN  \n",
       "803              2                5.0         1.0  \n",
       "909              1                1.0         1.0  \n",
       "1981             0                NaN         NaN  \n",
       "25               2                3.0         0.0  \n",
       "309              2                3.0         0.0  "
      ]
     },
     "execution_count": 26,
     "metadata": {},
     "output_type": "execute_result"
    }
   ],
   "source": [
    "merged_df.sample(6)"
   ]
  },
  {
   "cell_type": "markdown",
   "id": "86e4e7c4-8752-476d-aa86-aa4fc42ae105",
   "metadata": {},
   "source": [
    "# Akademik Baskı sütunundaki eksik değerler tahmin etme"
   ]
  },
  {
   "cell_type": "markdown",
   "id": "64b2eca8-1fac-4688-ab8d-c77d130b8e85",
   "metadata": {},
   "source": [
    "  - # Strateji: Makine Öğrenmesi Tabanlı Tahmini Kullanması\n",
    "       ### Diğer özelliklere dayanarak Akademik Baskıyı tahmin etmek için küçük bir regresyon/sınıflandırma modeli oluşturacağız."
   ]
  },
  {
   "cell_type": "markdown",
   "id": "ef6f1dab-1259-4b4d-b370-963d5650dd80",
   "metadata": {},
   "source": [
    "#### Bilinen ve bilinmeyen Akademik Baskı ayırma"
   ]
  },
  {
   "cell_type": "code",
   "execution_count": 27,
   "id": "d39a5013-17d3-41dd-b908-b31095ec893d",
   "metadata": {},
   "outputs": [],
   "source": [
    "known_ap = merged_df[merged_df['Academic Pressure'].notnull()]\n",
    "unknown_ap = merged_df[merged_df['Academic Pressure'].isnull()]"
   ]
  },
  {
   "cell_type": "markdown",
   "id": "ed760049-16ae-4c9f-8930-acb24153a039",
   "metadata": {},
   "source": [
    "#### Akademik Baskıyı Tahmin Etmeye Yardımcı Özellikler"
   ]
  },
  {
   "cell_type": "code",
   "execution_count": 28,
   "id": "979e38ec-f3b8-4518-9510-488acc99026a",
   "metadata": {},
   "outputs": [],
   "source": [
    "features = ['Study_Hours_Per_Day', 'Extracurricular_Hours_Per_Day',\n",
    "            'Sleep_Hours_Per_Day', 'Social_Hours_Per_Day',\n",
    "            'Physical_Activity_Hours_Per_Day', 'GPA', 'Stress_Level']"
   ]
  },
  {
   "cell_type": "markdown",
   "id": "ec527761-589a-4807-b3e0-44b844d992de",
   "metadata": {},
   "source": [
    "#### Bilinen veriler üzerinde model eğitimi"
   ]
  },
  {
   "cell_type": "code",
   "execution_count": 29,
   "id": "8ce4606f-5c6d-49de-814b-b141015fe533",
   "metadata": {},
   "outputs": [],
   "source": [
    "X_known = known_ap[features]\n",
    "y_known = known_ap['Academic Pressure']"
   ]
  },
  {
   "cell_type": "markdown",
   "id": "ff4eeee8-cc3e-49e9-9259-8e736d581086",
   "metadata": {},
   "source": [
    "#### Küçük eksik boşlukları geçici olarak doldurma (ortalama/medyan)"
   ]
  },
  {
   "cell_type": "code",
   "execution_count": 30,
   "id": "5771a585-d4fd-48b5-802d-cdc1f806bcb0",
   "metadata": {},
   "outputs": [],
   "source": [
    "imputer = SimpleImputer(strategy='median')\n",
    "X_known = imputer.fit_transform(X_known)"
   ]
  },
  {
   "cell_type": "code",
   "execution_count": 31,
   "id": "cc167712-31f7-430a-bbbb-6fee2ae0ecad",
   "metadata": {},
   "outputs": [
    {
     "data": {
      "text/html": [
       "<style>#sk-container-id-1 {\n",
       "  /* Definition of color scheme common for light and dark mode */\n",
       "  --sklearn-color-text: #000;\n",
       "  --sklearn-color-text-muted: #666;\n",
       "  --sklearn-color-line: gray;\n",
       "  /* Definition of color scheme for unfitted estimators */\n",
       "  --sklearn-color-unfitted-level-0: #fff5e6;\n",
       "  --sklearn-color-unfitted-level-1: #f6e4d2;\n",
       "  --sklearn-color-unfitted-level-2: #ffe0b3;\n",
       "  --sklearn-color-unfitted-level-3: chocolate;\n",
       "  /* Definition of color scheme for fitted estimators */\n",
       "  --sklearn-color-fitted-level-0: #f0f8ff;\n",
       "  --sklearn-color-fitted-level-1: #d4ebff;\n",
       "  --sklearn-color-fitted-level-2: #b3dbfd;\n",
       "  --sklearn-color-fitted-level-3: cornflowerblue;\n",
       "\n",
       "  /* Specific color for light theme */\n",
       "  --sklearn-color-text-on-default-background: var(--sg-text-color, var(--theme-code-foreground, var(--jp-content-font-color1, black)));\n",
       "  --sklearn-color-background: var(--sg-background-color, var(--theme-background, var(--jp-layout-color0, white)));\n",
       "  --sklearn-color-border-box: var(--sg-text-color, var(--theme-code-foreground, var(--jp-content-font-color1, black)));\n",
       "  --sklearn-color-icon: #696969;\n",
       "\n",
       "  @media (prefers-color-scheme: dark) {\n",
       "    /* Redefinition of color scheme for dark theme */\n",
       "    --sklearn-color-text-on-default-background: var(--sg-text-color, var(--theme-code-foreground, var(--jp-content-font-color1, white)));\n",
       "    --sklearn-color-background: var(--sg-background-color, var(--theme-background, var(--jp-layout-color0, #111)));\n",
       "    --sklearn-color-border-box: var(--sg-text-color, var(--theme-code-foreground, var(--jp-content-font-color1, white)));\n",
       "    --sklearn-color-icon: #878787;\n",
       "  }\n",
       "}\n",
       "\n",
       "#sk-container-id-1 {\n",
       "  color: var(--sklearn-color-text);\n",
       "}\n",
       "\n",
       "#sk-container-id-1 pre {\n",
       "  padding: 0;\n",
       "}\n",
       "\n",
       "#sk-container-id-1 input.sk-hidden--visually {\n",
       "  border: 0;\n",
       "  clip: rect(1px 1px 1px 1px);\n",
       "  clip: rect(1px, 1px, 1px, 1px);\n",
       "  height: 1px;\n",
       "  margin: -1px;\n",
       "  overflow: hidden;\n",
       "  padding: 0;\n",
       "  position: absolute;\n",
       "  width: 1px;\n",
       "}\n",
       "\n",
       "#sk-container-id-1 div.sk-dashed-wrapped {\n",
       "  border: 1px dashed var(--sklearn-color-line);\n",
       "  margin: 0 0.4em 0.5em 0.4em;\n",
       "  box-sizing: border-box;\n",
       "  padding-bottom: 0.4em;\n",
       "  background-color: var(--sklearn-color-background);\n",
       "}\n",
       "\n",
       "#sk-container-id-1 div.sk-container {\n",
       "  /* jupyter's `normalize.less` sets `[hidden] { display: none; }`\n",
       "     but bootstrap.min.css set `[hidden] { display: none !important; }`\n",
       "     so we also need the `!important` here to be able to override the\n",
       "     default hidden behavior on the sphinx rendered scikit-learn.org.\n",
       "     See: https://github.com/scikit-learn/scikit-learn/issues/21755 */\n",
       "  display: inline-block !important;\n",
       "  position: relative;\n",
       "}\n",
       "\n",
       "#sk-container-id-1 div.sk-text-repr-fallback {\n",
       "  display: none;\n",
       "}\n",
       "\n",
       "div.sk-parallel-item,\n",
       "div.sk-serial,\n",
       "div.sk-item {\n",
       "  /* draw centered vertical line to link estimators */\n",
       "  background-image: linear-gradient(var(--sklearn-color-text-on-default-background), var(--sklearn-color-text-on-default-background));\n",
       "  background-size: 2px 100%;\n",
       "  background-repeat: no-repeat;\n",
       "  background-position: center center;\n",
       "}\n",
       "\n",
       "/* Parallel-specific style estimator block */\n",
       "\n",
       "#sk-container-id-1 div.sk-parallel-item::after {\n",
       "  content: \"\";\n",
       "  width: 100%;\n",
       "  border-bottom: 2px solid var(--sklearn-color-text-on-default-background);\n",
       "  flex-grow: 1;\n",
       "}\n",
       "\n",
       "#sk-container-id-1 div.sk-parallel {\n",
       "  display: flex;\n",
       "  align-items: stretch;\n",
       "  justify-content: center;\n",
       "  background-color: var(--sklearn-color-background);\n",
       "  position: relative;\n",
       "}\n",
       "\n",
       "#sk-container-id-1 div.sk-parallel-item {\n",
       "  display: flex;\n",
       "  flex-direction: column;\n",
       "}\n",
       "\n",
       "#sk-container-id-1 div.sk-parallel-item:first-child::after {\n",
       "  align-self: flex-end;\n",
       "  width: 50%;\n",
       "}\n",
       "\n",
       "#sk-container-id-1 div.sk-parallel-item:last-child::after {\n",
       "  align-self: flex-start;\n",
       "  width: 50%;\n",
       "}\n",
       "\n",
       "#sk-container-id-1 div.sk-parallel-item:only-child::after {\n",
       "  width: 0;\n",
       "}\n",
       "\n",
       "/* Serial-specific style estimator block */\n",
       "\n",
       "#sk-container-id-1 div.sk-serial {\n",
       "  display: flex;\n",
       "  flex-direction: column;\n",
       "  align-items: center;\n",
       "  background-color: var(--sklearn-color-background);\n",
       "  padding-right: 1em;\n",
       "  padding-left: 1em;\n",
       "}\n",
       "\n",
       "\n",
       "/* Toggleable style: style used for estimator/Pipeline/ColumnTransformer box that is\n",
       "clickable and can be expanded/collapsed.\n",
       "- Pipeline and ColumnTransformer use this feature and define the default style\n",
       "- Estimators will overwrite some part of the style using the `sk-estimator` class\n",
       "*/\n",
       "\n",
       "/* Pipeline and ColumnTransformer style (default) */\n",
       "\n",
       "#sk-container-id-1 div.sk-toggleable {\n",
       "  /* Default theme specific background. It is overwritten whether we have a\n",
       "  specific estimator or a Pipeline/ColumnTransformer */\n",
       "  background-color: var(--sklearn-color-background);\n",
       "}\n",
       "\n",
       "/* Toggleable label */\n",
       "#sk-container-id-1 label.sk-toggleable__label {\n",
       "  cursor: pointer;\n",
       "  display: flex;\n",
       "  width: 100%;\n",
       "  margin-bottom: 0;\n",
       "  padding: 0.5em;\n",
       "  box-sizing: border-box;\n",
       "  text-align: center;\n",
       "  align-items: start;\n",
       "  justify-content: space-between;\n",
       "  gap: 0.5em;\n",
       "}\n",
       "\n",
       "#sk-container-id-1 label.sk-toggleable__label .caption {\n",
       "  font-size: 0.6rem;\n",
       "  font-weight: lighter;\n",
       "  color: var(--sklearn-color-text-muted);\n",
       "}\n",
       "\n",
       "#sk-container-id-1 label.sk-toggleable__label-arrow:before {\n",
       "  /* Arrow on the left of the label */\n",
       "  content: \"▸\";\n",
       "  float: left;\n",
       "  margin-right: 0.25em;\n",
       "  color: var(--sklearn-color-icon);\n",
       "}\n",
       "\n",
       "#sk-container-id-1 label.sk-toggleable__label-arrow:hover:before {\n",
       "  color: var(--sklearn-color-text);\n",
       "}\n",
       "\n",
       "/* Toggleable content - dropdown */\n",
       "\n",
       "#sk-container-id-1 div.sk-toggleable__content {\n",
       "  max-height: 0;\n",
       "  max-width: 0;\n",
       "  overflow: hidden;\n",
       "  text-align: left;\n",
       "  /* unfitted */\n",
       "  background-color: var(--sklearn-color-unfitted-level-0);\n",
       "}\n",
       "\n",
       "#sk-container-id-1 div.sk-toggleable__content.fitted {\n",
       "  /* fitted */\n",
       "  background-color: var(--sklearn-color-fitted-level-0);\n",
       "}\n",
       "\n",
       "#sk-container-id-1 div.sk-toggleable__content pre {\n",
       "  margin: 0.2em;\n",
       "  border-radius: 0.25em;\n",
       "  color: var(--sklearn-color-text);\n",
       "  /* unfitted */\n",
       "  background-color: var(--sklearn-color-unfitted-level-0);\n",
       "}\n",
       "\n",
       "#sk-container-id-1 div.sk-toggleable__content.fitted pre {\n",
       "  /* unfitted */\n",
       "  background-color: var(--sklearn-color-fitted-level-0);\n",
       "}\n",
       "\n",
       "#sk-container-id-1 input.sk-toggleable__control:checked~div.sk-toggleable__content {\n",
       "  /* Expand drop-down */\n",
       "  max-height: 200px;\n",
       "  max-width: 100%;\n",
       "  overflow: auto;\n",
       "}\n",
       "\n",
       "#sk-container-id-1 input.sk-toggleable__control:checked~label.sk-toggleable__label-arrow:before {\n",
       "  content: \"▾\";\n",
       "}\n",
       "\n",
       "/* Pipeline/ColumnTransformer-specific style */\n",
       "\n",
       "#sk-container-id-1 div.sk-label input.sk-toggleable__control:checked~label.sk-toggleable__label {\n",
       "  color: var(--sklearn-color-text);\n",
       "  background-color: var(--sklearn-color-unfitted-level-2);\n",
       "}\n",
       "\n",
       "#sk-container-id-1 div.sk-label.fitted input.sk-toggleable__control:checked~label.sk-toggleable__label {\n",
       "  background-color: var(--sklearn-color-fitted-level-2);\n",
       "}\n",
       "\n",
       "/* Estimator-specific style */\n",
       "\n",
       "/* Colorize estimator box */\n",
       "#sk-container-id-1 div.sk-estimator input.sk-toggleable__control:checked~label.sk-toggleable__label {\n",
       "  /* unfitted */\n",
       "  background-color: var(--sklearn-color-unfitted-level-2);\n",
       "}\n",
       "\n",
       "#sk-container-id-1 div.sk-estimator.fitted input.sk-toggleable__control:checked~label.sk-toggleable__label {\n",
       "  /* fitted */\n",
       "  background-color: var(--sklearn-color-fitted-level-2);\n",
       "}\n",
       "\n",
       "#sk-container-id-1 div.sk-label label.sk-toggleable__label,\n",
       "#sk-container-id-1 div.sk-label label {\n",
       "  /* The background is the default theme color */\n",
       "  color: var(--sklearn-color-text-on-default-background);\n",
       "}\n",
       "\n",
       "/* On hover, darken the color of the background */\n",
       "#sk-container-id-1 div.sk-label:hover label.sk-toggleable__label {\n",
       "  color: var(--sklearn-color-text);\n",
       "  background-color: var(--sklearn-color-unfitted-level-2);\n",
       "}\n",
       "\n",
       "/* Label box, darken color on hover, fitted */\n",
       "#sk-container-id-1 div.sk-label.fitted:hover label.sk-toggleable__label.fitted {\n",
       "  color: var(--sklearn-color-text);\n",
       "  background-color: var(--sklearn-color-fitted-level-2);\n",
       "}\n",
       "\n",
       "/* Estimator label */\n",
       "\n",
       "#sk-container-id-1 div.sk-label label {\n",
       "  font-family: monospace;\n",
       "  font-weight: bold;\n",
       "  display: inline-block;\n",
       "  line-height: 1.2em;\n",
       "}\n",
       "\n",
       "#sk-container-id-1 div.sk-label-container {\n",
       "  text-align: center;\n",
       "}\n",
       "\n",
       "/* Estimator-specific */\n",
       "#sk-container-id-1 div.sk-estimator {\n",
       "  font-family: monospace;\n",
       "  border: 1px dotted var(--sklearn-color-border-box);\n",
       "  border-radius: 0.25em;\n",
       "  box-sizing: border-box;\n",
       "  margin-bottom: 0.5em;\n",
       "  /* unfitted */\n",
       "  background-color: var(--sklearn-color-unfitted-level-0);\n",
       "}\n",
       "\n",
       "#sk-container-id-1 div.sk-estimator.fitted {\n",
       "  /* fitted */\n",
       "  background-color: var(--sklearn-color-fitted-level-0);\n",
       "}\n",
       "\n",
       "/* on hover */\n",
       "#sk-container-id-1 div.sk-estimator:hover {\n",
       "  /* unfitted */\n",
       "  background-color: var(--sklearn-color-unfitted-level-2);\n",
       "}\n",
       "\n",
       "#sk-container-id-1 div.sk-estimator.fitted:hover {\n",
       "  /* fitted */\n",
       "  background-color: var(--sklearn-color-fitted-level-2);\n",
       "}\n",
       "\n",
       "/* Specification for estimator info (e.g. \"i\" and \"?\") */\n",
       "\n",
       "/* Common style for \"i\" and \"?\" */\n",
       "\n",
       ".sk-estimator-doc-link,\n",
       "a:link.sk-estimator-doc-link,\n",
       "a:visited.sk-estimator-doc-link {\n",
       "  float: right;\n",
       "  font-size: smaller;\n",
       "  line-height: 1em;\n",
       "  font-family: monospace;\n",
       "  background-color: var(--sklearn-color-background);\n",
       "  border-radius: 1em;\n",
       "  height: 1em;\n",
       "  width: 1em;\n",
       "  text-decoration: none !important;\n",
       "  margin-left: 0.5em;\n",
       "  text-align: center;\n",
       "  /* unfitted */\n",
       "  border: var(--sklearn-color-unfitted-level-1) 1pt solid;\n",
       "  color: var(--sklearn-color-unfitted-level-1);\n",
       "}\n",
       "\n",
       ".sk-estimator-doc-link.fitted,\n",
       "a:link.sk-estimator-doc-link.fitted,\n",
       "a:visited.sk-estimator-doc-link.fitted {\n",
       "  /* fitted */\n",
       "  border: var(--sklearn-color-fitted-level-1) 1pt solid;\n",
       "  color: var(--sklearn-color-fitted-level-1);\n",
       "}\n",
       "\n",
       "/* On hover */\n",
       "div.sk-estimator:hover .sk-estimator-doc-link:hover,\n",
       ".sk-estimator-doc-link:hover,\n",
       "div.sk-label-container:hover .sk-estimator-doc-link:hover,\n",
       ".sk-estimator-doc-link:hover {\n",
       "  /* unfitted */\n",
       "  background-color: var(--sklearn-color-unfitted-level-3);\n",
       "  color: var(--sklearn-color-background);\n",
       "  text-decoration: none;\n",
       "}\n",
       "\n",
       "div.sk-estimator.fitted:hover .sk-estimator-doc-link.fitted:hover,\n",
       ".sk-estimator-doc-link.fitted:hover,\n",
       "div.sk-label-container:hover .sk-estimator-doc-link.fitted:hover,\n",
       ".sk-estimator-doc-link.fitted:hover {\n",
       "  /* fitted */\n",
       "  background-color: var(--sklearn-color-fitted-level-3);\n",
       "  color: var(--sklearn-color-background);\n",
       "  text-decoration: none;\n",
       "}\n",
       "\n",
       "/* Span, style for the box shown on hovering the info icon */\n",
       ".sk-estimator-doc-link span {\n",
       "  display: none;\n",
       "  z-index: 9999;\n",
       "  position: relative;\n",
       "  font-weight: normal;\n",
       "  right: .2ex;\n",
       "  padding: .5ex;\n",
       "  margin: .5ex;\n",
       "  width: min-content;\n",
       "  min-width: 20ex;\n",
       "  max-width: 50ex;\n",
       "  color: var(--sklearn-color-text);\n",
       "  box-shadow: 2pt 2pt 4pt #999;\n",
       "  /* unfitted */\n",
       "  background: var(--sklearn-color-unfitted-level-0);\n",
       "  border: .5pt solid var(--sklearn-color-unfitted-level-3);\n",
       "}\n",
       "\n",
       ".sk-estimator-doc-link.fitted span {\n",
       "  /* fitted */\n",
       "  background: var(--sklearn-color-fitted-level-0);\n",
       "  border: var(--sklearn-color-fitted-level-3);\n",
       "}\n",
       "\n",
       ".sk-estimator-doc-link:hover span {\n",
       "  display: block;\n",
       "}\n",
       "\n",
       "/* \"?\"-specific style due to the `<a>` HTML tag */\n",
       "\n",
       "#sk-container-id-1 a.estimator_doc_link {\n",
       "  float: right;\n",
       "  font-size: 1rem;\n",
       "  line-height: 1em;\n",
       "  font-family: monospace;\n",
       "  background-color: var(--sklearn-color-background);\n",
       "  border-radius: 1rem;\n",
       "  height: 1rem;\n",
       "  width: 1rem;\n",
       "  text-decoration: none;\n",
       "  /* unfitted */\n",
       "  color: var(--sklearn-color-unfitted-level-1);\n",
       "  border: var(--sklearn-color-unfitted-level-1) 1pt solid;\n",
       "}\n",
       "\n",
       "#sk-container-id-1 a.estimator_doc_link.fitted {\n",
       "  /* fitted */\n",
       "  border: var(--sklearn-color-fitted-level-1) 1pt solid;\n",
       "  color: var(--sklearn-color-fitted-level-1);\n",
       "}\n",
       "\n",
       "/* On hover */\n",
       "#sk-container-id-1 a.estimator_doc_link:hover {\n",
       "  /* unfitted */\n",
       "  background-color: var(--sklearn-color-unfitted-level-3);\n",
       "  color: var(--sklearn-color-background);\n",
       "  text-decoration: none;\n",
       "}\n",
       "\n",
       "#sk-container-id-1 a.estimator_doc_link.fitted:hover {\n",
       "  /* fitted */\n",
       "  background-color: var(--sklearn-color-fitted-level-3);\n",
       "}\n",
       "</style><div id=\"sk-container-id-1\" class=\"sk-top-container\"><div class=\"sk-text-repr-fallback\"><pre>RandomForestRegressor(random_state=42)</pre><b>In a Jupyter environment, please rerun this cell to show the HTML representation or trust the notebook. <br />On GitHub, the HTML representation is unable to render, please try loading this page with nbviewer.org.</b></div><div class=\"sk-container\" hidden><div class=\"sk-item\"><div class=\"sk-estimator fitted sk-toggleable\"><input class=\"sk-toggleable__control sk-hidden--visually\" id=\"sk-estimator-id-1\" type=\"checkbox\" checked><label for=\"sk-estimator-id-1\" class=\"sk-toggleable__label fitted sk-toggleable__label-arrow\"><div><div>RandomForestRegressor</div></div><div><a class=\"sk-estimator-doc-link fitted\" rel=\"noreferrer\" target=\"_blank\" href=\"https://scikit-learn.org/1.6/modules/generated/sklearn.ensemble.RandomForestRegressor.html\">?<span>Documentation for RandomForestRegressor</span></a><span class=\"sk-estimator-doc-link fitted\">i<span>Fitted</span></span></div></label><div class=\"sk-toggleable__content fitted\"><pre>RandomForestRegressor(random_state=42)</pre></div> </div></div></div></div>"
      ],
      "text/plain": [
       "RandomForestRegressor(random_state=42)"
      ]
     },
     "execution_count": 31,
     "metadata": {},
     "output_type": "execute_result"
    }
   ],
   "source": [
    "model_ap = RandomForestRegressor(random_state=42)\n",
    "model_ap.fit(X_known, y_known)"
   ]
  },
  {
   "cell_type": "markdown",
   "id": "ff3aff8c-387e-482f-979b-a780aa343b3f",
   "metadata": {},
   "source": [
    "#### Eksik değerleri tahmin etme"
   ]
  },
  {
   "cell_type": "code",
   "execution_count": 32,
   "id": "081d21a4-2349-4d5d-b40c-7c56800bcc6b",
   "metadata": {},
   "outputs": [
    {
     "data": {
      "text/plain": [
       "array([2.95, 3.02, 3.89, 3.23, 3.62, 2.54, 3.48, 3.99, 3.18, 3.37, 3.69,\n",
       "       3.1 , 3.81, 2.34, 3.19, 3.02, 3.46, 2.82, 3.16, 2.81, 3.27, 3.  ,\n",
       "       2.7 , 2.67, 2.91, 2.63, 3.  , 3.09, 3.23, 3.14, 3.13, 2.36, 3.17,\n",
       "       3.45, 3.09, 3.31, 3.96, 3.42, 2.71, 3.32, 3.01, 2.47, 2.81, 3.42,\n",
       "       2.46, 2.83, 2.95, 2.88, 2.42, 3.14, 3.44, 2.41, 2.92, 2.26, 3.13,\n",
       "       2.69, 3.4 , 3.56, 3.1 , 3.04, 2.8 , 3.14, 3.2 , 2.31, 3.45, 3.58,\n",
       "       3.02, 2.85, 2.98, 3.21, 2.76, 3.64, 3.6 , 2.45, 3.26, 3.81, 2.74,\n",
       "       3.3 , 2.89, 3.58, 2.85, 3.53, 3.32, 3.38, 3.36, 3.52, 3.27, 3.47,\n",
       "       3.63, 3.16, 3.58, 2.68, 3.62, 3.59, 3.2 , 3.17, 3.16, 3.15, 3.84,\n",
       "       3.87, 2.48, 3.27, 2.95, 3.05, 3.03, 2.23, 2.49, 2.32, 2.6 , 3.  ,\n",
       "       4.16, 2.82, 3.07, 3.43, 2.99, 2.56, 2.38, 2.39, 3.14, 2.18, 3.27,\n",
       "       3.35, 3.51, 2.87, 3.29, 3.64, 3.16, 3.78, 2.65, 3.4 , 3.28, 3.03,\n",
       "       3.32, 3.07, 3.87, 3.59, 4.44, 3.36, 3.13, 3.24, 3.17, 3.07, 3.65,\n",
       "       2.46, 3.75, 2.9 , 2.96, 4.19, 3.21, 3.29, 3.45, 2.98, 2.61, 2.8 ,\n",
       "       2.89, 3.2 , 3.15, 2.18, 3.25, 2.9 , 2.79, 3.41, 3.58, 2.78, 3.09,\n",
       "       3.09, 2.86, 2.87, 3.16, 2.17, 3.55, 3.09, 3.05, 3.61, 3.26, 3.62,\n",
       "       2.99, 2.87, 3.58, 2.45, 2.69, 2.79, 2.71, 2.86, 3.63, 2.74, 2.93,\n",
       "       2.57, 3.03, 2.46, 3.64, 3.51, 2.6 , 3.39, 3.49, 2.41, 3.38, 3.43,\n",
       "       3.25, 3.43, 2.94, 2.2 , 2.75, 3.26, 2.9 , 2.9 , 3.83, 2.96, 3.82,\n",
       "       2.96, 2.68, 2.52, 3.68, 2.82, 2.96, 2.82, 3.17, 2.86, 2.75, 2.85,\n",
       "       4.01, 3.73, 2.83, 2.97, 3.75, 2.37, 3.72, 3.13, 3.27, 3.06, 3.11,\n",
       "       2.5 , 3.61, 2.98, 2.85, 2.77, 2.94, 2.71, 2.78, 3.64, 3.43, 3.43,\n",
       "       2.4 , 3.35, 3.02, 2.95, 3.79, 2.8 , 2.58, 2.72, 3.46, 3.34, 3.21,\n",
       "       2.77, 4.05, 3.22, 3.16, 3.5 , 3.83, 2.66, 3.36, 3.12, 3.14, 3.49,\n",
       "       3.28, 3.33, 2.95, 3.74, 3.02, 3.88, 2.78, 3.26, 3.42, 3.12, 2.25,\n",
       "       2.81, 3.03, 3.55, 3.75, 2.96, 3.51, 4.  , 2.94, 2.98, 3.75, 2.79,\n",
       "       3.14, 3.06, 3.35, 2.9 , 2.56, 3.33, 2.34, 3.5 , 3.16, 3.71, 3.3 ,\n",
       "       2.63, 3.15, 3.01, 2.95, 2.78, 2.65, 2.93, 2.67, 2.5 , 3.18, 3.36,\n",
       "       2.78, 3.56, 3.23, 3.66, 2.72, 3.5 , 4.12, 3.61, 3.56, 3.79, 2.42,\n",
       "       2.27, 3.76, 2.73, 3.38, 2.83, 3.72, 3.39, 3.5 , 3.09, 3.54, 3.29,\n",
       "       2.01, 3.13, 2.67, 2.67, 2.85, 3.2 , 3.48, 3.11, 3.26, 2.93, 3.1 ,\n",
       "       2.99, 3.47, 2.92, 2.54, 2.6 , 3.49, 3.04, 3.63, 3.26, 3.37, 2.98,\n",
       "       3.3 , 3.71, 3.37, 3.09, 3.1 , 3.3 , 2.44, 3.59, 3.38, 3.19, 3.04,\n",
       "       2.36, 2.92, 2.61, 3.97, 2.63, 3.44, 3.35, 3.21, 2.25, 2.88, 2.3 ,\n",
       "       2.76, 2.67, 2.78, 3.04, 3.27, 2.66, 3.47, 3.82, 2.96, 3.06, 2.91,\n",
       "       2.91, 3.4 , 2.61, 2.91, 3.04, 3.06, 3.24, 2.56, 2.51, 3.43, 3.29,\n",
       "       3.05, 3.07, 3.41, 3.04, 2.86, 3.08, 3.01, 3.13, 3.62, 3.67, 2.57,\n",
       "       3.38, 3.35, 2.42, 2.68, 3.05, 2.75, 3.  , 3.3 , 2.43, 3.65, 3.13,\n",
       "       2.7 , 3.46, 3.06, 4.03, 2.61, 3.08, 2.49, 2.91, 2.31, 3.19, 3.61,\n",
       "       3.29, 2.72, 3.08, 3.08, 3.42, 3.49, 2.7 , 3.14, 3.09, 2.51, 3.35,\n",
       "       2.93, 3.09, 3.5 , 2.53, 3.62, 3.55, 2.72, 3.45, 3.23, 3.86, 3.21,\n",
       "       3.01, 3.07, 3.13, 3.55, 3.32, 2.77, 3.07, 3.13, 2.4 , 3.51, 3.55,\n",
       "       2.67, 3.19, 3.08, 3.06, 3.45, 2.95, 3.78, 3.39, 3.15, 2.74, 3.4 ,\n",
       "       2.6 , 3.66, 3.04, 2.8 , 3.16, 3.17, 3.33, 3.87, 3.18, 2.96, 3.54,\n",
       "       3.27, 3.97, 3.29, 3.58, 3.25, 2.99, 2.99, 2.93, 3.39, 3.07, 2.93,\n",
       "       2.24, 3.34, 3.38, 2.67, 3.05, 2.66, 2.67, 3.27, 3.44, 3.97, 3.81,\n",
       "       3.46, 3.67, 2.87, 3.57, 3.  , 3.47, 2.87, 3.16, 2.61, 3.43, 3.29,\n",
       "       2.45, 3.17, 3.55, 3.29, 2.86, 2.55, 2.45, 3.09, 3.06, 2.65, 3.48,\n",
       "       2.4 , 2.62, 2.91, 3.61, 2.66, 3.36, 3.17, 3.71, 2.73, 3.21, 2.97,\n",
       "       2.7 , 2.94, 3.36, 3.7 , 3.26, 2.74, 2.55, 3.33, 2.92, 2.82, 3.19,\n",
       "       3.17, 2.98, 2.5 , 2.52, 2.83, 3.17, 3.4 , 3.59, 2.54, 3.86, 3.64,\n",
       "       3.3 , 3.18, 3.09, 3.11, 3.42, 3.67, 3.87, 3.25, 2.95, 2.97, 3.31,\n",
       "       3.81, 2.62, 3.18, 3.03, 3.59, 2.56, 3.25, 2.68, 3.48, 3.73, 3.15,\n",
       "       3.27, 3.56, 3.2 , 3.27, 3.05, 3.4 , 4.03, 2.95, 2.72, 2.88, 2.58,\n",
       "       3.46, 2.84, 2.96, 2.47, 2.51, 3.02, 3.46, 2.88, 3.3 , 3.54, 4.  ,\n",
       "       3.21])"
      ]
     },
     "execution_count": 32,
     "metadata": {},
     "output_type": "execute_result"
    }
   ],
   "source": [
    "X_unknown = imputer.transform(unknown_ap[features])\n",
    "predicted_ap = model_ap.predict(X_unknown)\n",
    "predicted_ap"
   ]
  },
  {
   "cell_type": "markdown",
   "id": "ae126811-6e70-42c5-87f2-bebe57ef01f8",
   "metadata": {},
   "source": [
    "#### Tahmin edilen değerleri atama (en yakın Likert ölçeğine yuvarlanmış)"
   ]
  },
  {
   "cell_type": "code",
   "execution_count": 33,
   "id": "f1896c4c-863b-4133-bb99-576055c063c5",
   "metadata": {},
   "outputs": [],
   "source": [
    "merged_df.loc[merged_df['Academic Pressure'].isnull(), 'Academic Pressure'] = predicted_ap.round().clip(1, 5)"
   ]
  },
  {
   "cell_type": "markdown",
   "id": "e1e46e41-d355-412c-9ebd-48dbe05db8f2",
   "metadata": {},
   "source": [
    "### Özet İstatistikler"
   ]
  },
  {
   "cell_type": "code",
   "execution_count": 34,
   "id": "c253c468-68ee-4fe2-a19a-830564e9608c",
   "metadata": {},
   "outputs": [
    {
     "data": {
      "text/html": [
       "<div>\n",
       "<style scoped>\n",
       "    .dataframe tbody tr th:only-of-type {\n",
       "        vertical-align: middle;\n",
       "    }\n",
       "\n",
       "    .dataframe tbody tr th {\n",
       "        vertical-align: top;\n",
       "    }\n",
       "\n",
       "    .dataframe thead th {\n",
       "        text-align: right;\n",
       "    }\n",
       "</style>\n",
       "<table border=\"1\" class=\"dataframe\">\n",
       "  <thead>\n",
       "    <tr style=\"text-align: right;\">\n",
       "      <th></th>\n",
       "      <th>count</th>\n",
       "      <th>mean</th>\n",
       "      <th>std</th>\n",
       "      <th>min</th>\n",
       "      <th>25%</th>\n",
       "      <th>50%</th>\n",
       "      <th>75%</th>\n",
       "      <th>max</th>\n",
       "    </tr>\n",
       "  </thead>\n",
       "  <tbody>\n",
       "    <tr>\n",
       "      <th>Study_Hours_Per_Day</th>\n",
       "      <td>1005.0</td>\n",
       "      <td>7.413035</td>\n",
       "      <td>1.446737</td>\n",
       "      <td>5.00</td>\n",
       "      <td>6.10</td>\n",
       "      <td>7.40</td>\n",
       "      <td>8.60</td>\n",
       "      <td>10.0</td>\n",
       "    </tr>\n",
       "    <tr>\n",
       "      <th>Extracurricular_Hours_Per_Day</th>\n",
       "      <td>1005.0</td>\n",
       "      <td>2.012836</td>\n",
       "      <td>1.150275</td>\n",
       "      <td>0.00</td>\n",
       "      <td>1.00</td>\n",
       "      <td>2.00</td>\n",
       "      <td>3.00</td>\n",
       "      <td>4.0</td>\n",
       "    </tr>\n",
       "    <tr>\n",
       "      <th>Sleep_Hours_Per_Day</th>\n",
       "      <td>1005.0</td>\n",
       "      <td>7.523980</td>\n",
       "      <td>1.464647</td>\n",
       "      <td>5.00</td>\n",
       "      <td>6.30</td>\n",
       "      <td>7.60</td>\n",
       "      <td>8.80</td>\n",
       "      <td>10.0</td>\n",
       "    </tr>\n",
       "    <tr>\n",
       "      <th>Social_Hours_Per_Day</th>\n",
       "      <td>1005.0</td>\n",
       "      <td>2.696119</td>\n",
       "      <td>1.677949</td>\n",
       "      <td>0.00</td>\n",
       "      <td>1.30</td>\n",
       "      <td>2.50</td>\n",
       "      <td>4.10</td>\n",
       "      <td>6.0</td>\n",
       "    </tr>\n",
       "    <tr>\n",
       "      <th>Physical_Activity_Hours_Per_Day</th>\n",
       "      <td>1005.0</td>\n",
       "      <td>4.354030</td>\n",
       "      <td>2.505249</td>\n",
       "      <td>0.00</td>\n",
       "      <td>2.40</td>\n",
       "      <td>4.10</td>\n",
       "      <td>6.20</td>\n",
       "      <td>12.4</td>\n",
       "    </tr>\n",
       "    <tr>\n",
       "      <th>GPA</th>\n",
       "      <td>1005.0</td>\n",
       "      <td>3.109632</td>\n",
       "      <td>0.304782</td>\n",
       "      <td>2.28</td>\n",
       "      <td>2.89</td>\n",
       "      <td>3.11</td>\n",
       "      <td>3.32</td>\n",
       "      <td>4.0</td>\n",
       "    </tr>\n",
       "    <tr>\n",
       "      <th>Stress_Level</th>\n",
       "      <td>1005.0</td>\n",
       "      <td>1.324378</td>\n",
       "      <td>0.748340</td>\n",
       "      <td>0.00</td>\n",
       "      <td>1.00</td>\n",
       "      <td>1.00</td>\n",
       "      <td>2.00</td>\n",
       "      <td>2.0</td>\n",
       "    </tr>\n",
       "    <tr>\n",
       "      <th>Academic Pressure</th>\n",
       "      <td>1005.0</td>\n",
       "      <td>3.101493</td>\n",
       "      <td>0.966391</td>\n",
       "      <td>1.00</td>\n",
       "      <td>3.00</td>\n",
       "      <td>3.00</td>\n",
       "      <td>4.00</td>\n",
       "      <td>5.0</td>\n",
       "    </tr>\n",
       "    <tr>\n",
       "      <th>Depression</th>\n",
       "      <td>399.0</td>\n",
       "      <td>0.566416</td>\n",
       "      <td>0.496191</td>\n",
       "      <td>0.00</td>\n",
       "      <td>0.00</td>\n",
       "      <td>1.00</td>\n",
       "      <td>1.00</td>\n",
       "      <td>1.0</td>\n",
       "    </tr>\n",
       "  </tbody>\n",
       "</table>\n",
       "</div>"
      ],
      "text/plain": [
       "                                  count      mean       std   min   25%   50%  \\\n",
       "Study_Hours_Per_Day              1005.0  7.413035  1.446737  5.00  6.10  7.40   \n",
       "Extracurricular_Hours_Per_Day    1005.0  2.012836  1.150275  0.00  1.00  2.00   \n",
       "Sleep_Hours_Per_Day              1005.0  7.523980  1.464647  5.00  6.30  7.60   \n",
       "Social_Hours_Per_Day             1005.0  2.696119  1.677949  0.00  1.30  2.50   \n",
       "Physical_Activity_Hours_Per_Day  1005.0  4.354030  2.505249  0.00  2.40  4.10   \n",
       "GPA                              1005.0  3.109632  0.304782  2.28  2.89  3.11   \n",
       "Stress_Level                     1005.0  1.324378  0.748340  0.00  1.00  1.00   \n",
       "Academic Pressure                1005.0  3.101493  0.966391  1.00  3.00  3.00   \n",
       "Depression                        399.0  0.566416  0.496191  0.00  0.00  1.00   \n",
       "\n",
       "                                  75%   max  \n",
       "Study_Hours_Per_Day              8.60  10.0  \n",
       "Extracurricular_Hours_Per_Day    3.00   4.0  \n",
       "Sleep_Hours_Per_Day              8.80  10.0  \n",
       "Social_Hours_Per_Day             4.10   6.0  \n",
       "Physical_Activity_Hours_Per_Day  6.20  12.4  \n",
       "GPA                              3.32   4.0  \n",
       "Stress_Level                     2.00   2.0  \n",
       "Academic Pressure                4.00   5.0  \n",
       "Depression                       1.00   1.0  "
      ]
     },
     "execution_count": 34,
     "metadata": {},
     "output_type": "execute_result"
    }
   ],
   "source": [
    "merged_df.describe().T"
   ]
  },
  {
   "cell_type": "markdown",
   "id": "d8bf2291-bcf7-44ab-9dde-c4773dae8af7",
   "metadata": {},
   "source": [
    "## Bu şekilde:\n",
    "\n",
    "   - #### Stres, not ortalaması ve aktivite seviyeleri arasındaki korelasyonları korumaktadır.\n",
    "\n",
    "   - #### Sadece ortalama/medyan tahminini kullanarak oluşabilecek önyargılardan kaçınmaktadır.\n",
    "\n",
    "   - #### Akademik Baskıyı gerçekçi (1-5 arasında) tutmaktadır."
   ]
  },
  {
   "cell_type": "markdown",
   "id": "c8031594-a2d0-4c92-89a3-1bd3d8ee34a9",
   "metadata": {},
   "source": [
    "# Depresyon Sütununun Akıllı Tahmini"
   ]
  },
  {
   "cell_type": "code",
   "execution_count": 35,
   "id": "25a2d298-bbda-4e3a-9e6a-41cd391ae4e0",
   "metadata": {},
   "outputs": [],
   "source": [
    "# Use the 399 labeled rows to train a depression model\n",
    "known_dep = merged_df[merged_df['Depression'].notnull()]\n",
    "unknown_dep = merged_df[merged_df['Depression'].isnull()]\n",
    "\n",
    "X_known = known_dep.drop(columns=['Depression'])\n",
    "y_known = known_dep['Depression']\n",
    "\n",
    "# Simple imputation\n",
    "X_known = imputer.fit_transform(X_known)\n",
    "X_unknown = imputer.transform(unknown_dep.drop(columns=['Depression']))\n",
    "\n",
    "# Train model\n",
    "from sklearn.ensemble import RandomForestClassifier\n",
    "model_dep = RandomForestClassifier(random_state=42)\n",
    "model_dep.fit(X_known, y_known)\n",
    "\n",
    "# Predict depression for unlabeled data\n",
    "predicted_dep = model_dep.predict(X_unknown)\n",
    "\n",
    "# Store predictions in a new column\n",
    "merged_df.loc[merged_df['Depression'].isnull(), 'Predicted_Depression'] = predicted_dep"
   ]
  },
  {
   "cell_type": "markdown",
   "id": "c807f14d-9287-4541-a37e-5648ecda66bb",
   "metadata": {},
   "source": [
    "#### Hedef sütunumuz Depresyon'da bazı eksik değerler var. Önceki bir modelden bir Tahmin Edilen Depresyon sütunumuz zaten mevcut olduğundan, eksik değerleri akıllıca doldurmak için bunu kullanacağız ve ardından önyargıyı önlemek için verileri yeniden dengeleyeceğiz."
   ]
  },
  {
   "cell_type": "markdown",
   "id": "71c9b049-f154-4588-88ef-722bba71ae05",
   "metadata": {},
   "source": [
    "- #### Depression sütunundaki eksik değer sayısı"
   ]
  },
  {
   "cell_type": "code",
   "execution_count": 36,
   "id": "20ff47dd-75fc-41df-9b55-9f033574d9f8",
   "metadata": {},
   "outputs": [
    {
     "name": "stdout",
     "output_type": "stream",
     "text": [
      "Depression Eksik Değerler:  606\n"
     ]
    }
   ],
   "source": [
    "missing_count = merged_df['Depression'].isna().sum()\n",
    "print('Depression Eksik Değerler: ',int(missing_count))"
   ]
  },
  {
   "cell_type": "markdown",
   "id": "274ba0f1-1410-4ac6-8f2a-322a24da547c",
   "metadata": {},
   "source": [
    "- #### Ayrıca, doldurmadan önce mevcut Depresyon sınıflarının oranını da görselleştireceğiz"
   ]
  },
  {
   "cell_type": "code",
   "execution_count": 37,
   "id": "14c8d0cf-b2a0-4894-9702-2a5d6b2bab34",
   "metadata": {},
   "outputs": [
    {
     "data": {
      "image/png": "[encoded data removed]",
      "text/plain": [
       "<Figure size 640x480 with 1 Axes>"
      ]
     },
     "metadata": {},
     "output_type": "display_data"
    },
    {
     "name": "stdout",
     "output_type": "stream",
     "text": [
      "Original distribution:\n",
      "Depression\n",
      "1.0    0.566416\n",
      "0.0    0.433584\n",
      "Name: proportion, dtype: float64\n"
     ]
    }
   ],
   "source": [
    "sns.countplot(x='Depression', hue='Depression', data=merged_df, palette='coolwarm', legend=False)\n",
    "plt.title(\"Original Depression Distribution (Before Filling)\")\n",
    "plt.show()\n",
    "\n",
    "print(\"Original distribution:\")\n",
    "print(merged_df['Depression'].value_counts(normalize=True))"
   ]
  },
  {
   "cell_type": "markdown",
   "id": "32b52beb-1f97-4e17-bdae-65170d3d023a",
   "metadata": {},
   "source": [
    "- #### Tahmin edilen Depression sınıfının oranını görleştirme"
   ]
  },
  {
   "cell_type": "code",
   "execution_count": 38,
   "id": "6ee4fa8f-1f5f-408e-a529-e7068e7ceb63",
   "metadata": {},
   "outputs": [
    {
     "data": {
      "image/png": "[encoded data removed]",
      "text/plain": [
       "<Figure size 640x480 with 1 Axes>"
      ]
     },
     "metadata": {},
     "output_type": "display_data"
    },
    {
     "name": "stdout",
     "output_type": "stream",
     "text": [
      "Predicted distribution:\n",
      "Predicted_Depression\n",
      "1.0    0.760726\n",
      "0.0    0.239274\n",
      "Name: proportion, dtype: float64\n"
     ]
    }
   ],
   "source": [
    "sns.countplot(x='Predicted_Depression', hue='Predicted_Depression', data=merged_df, palette='coolwarm', legend=False)\n",
    "plt.title(\"Predicted Depression Distribution\")\n",
    "plt.show()\n",
    "\n",
    "print(\"Predicted distribution:\")\n",
    "print(merged_df['Predicted_Depression'].value_counts(normalize=True))"
   ]
  },
  {
   "cell_type": "markdown",
   "id": "17960ca0-615d-4257-afe0-6e76d588646b",
   "metadata": {},
   "source": [
    "- #### Şimdi eksik Depresyon değerlerini mevcut Predicted_Depression sütununu kullanarak dolduracağız."
   ]
  },
  {
   "cell_type": "code",
   "execution_count": 39,
   "id": "6d5e6557-c256-4eba-9e4c-87fea3430da4",
   "metadata": {},
   "outputs": [],
   "source": [
    "merged_df['Depression'] = merged_df['Depression'].fillna(merged_df['Predicted_Depression'])"
   ]
  },
  {
   "cell_type": "code",
   "execution_count": 40,
   "id": "b784189e-8ab3-4e6a-9067-4ea15db6a28d",
   "metadata": {},
   "outputs": [
    {
     "name": "stdout",
     "output_type": "stream",
     "text": [
      "After filling missing values:\n",
      "0 missing values remain\n"
     ]
    }
   ],
   "source": [
    "print(\"After filling missing values:\")\n",
    "print(merged_df['Depression'].isna().sum(), \"missing values remain\")"
   ]
  },
  {
   "cell_type": "markdown",
   "id": "926f64e1-c213-486f-a11d-e85f517aacef",
   "metadata": {},
   "source": [
    "- #### Doldurma işleminden sonra dağılımın nasıl değiştiğini artık kontrol edebiliriz."
   ]
  },
  {
   "cell_type": "code",
   "execution_count": 41,
   "id": "abb5ecf4-9410-4454-b66c-233ed1797a67",
   "metadata": {},
   "outputs": [
    {
     "name": "stderr",
     "output_type": "stream",
     "text": [
      "C:\\Users\\Lenovo\\AppData\\Local\\Temp\\ipykernel_17404\\2454793689.py:2: FutureWarning: \n",
      "\n",
      "Passing `palette` without assigning `hue` is deprecated and will be removed in v0.14.0. Assign the `x` variable to `hue` and set `legend=False` for the same effect.\n",
      "\n",
      "  sns.barplot(x=new_dist.index, y=new_dist.values, palette='coolwarm')\n"
     ]
    },
    {
     "data": {
      "image/png": "[encoded data removed]",
      "text/plain": [
       "<Figure size 640x480 with 1 Axes>"
      ]
     },
     "metadata": {},
     "output_type": "display_data"
    },
    {
     "name": "stdout",
     "output_type": "stream",
     "text": [
      "New distribution after filling:\n",
      "Depression\n",
      "1.0    0.683582\n",
      "0.0    0.316418\n",
      "Name: proportion, dtype: float64\n"
     ]
    }
   ],
   "source": [
    "new_dist = merged_df['Depression'].value_counts(normalize=True)\n",
    "sns.barplot(x=new_dist.index, y=new_dist.values, palette='coolwarm')\n",
    "plt.title(\"Depression Distribution (After Filling)\")\n",
    "plt.ylabel(\"Proportion\")\n",
    "plt.xlabel(\"Depression (0 = No, 1 = Yes)\")\n",
    "plt.show()\n",
    "\n",
    "print(\"New distribution after filling:\")\n",
    "print(new_dist)"
   ]
  },
  {
   "cell_type": "markdown",
   "id": "32ad7367-b8bf-438e-9af4-23cd1280ab8e",
   "metadata": {},
   "source": [
    "- #### Depresif öğrencilerin oranı (1.0) çok yüksek oldugundan (0.65'den fazla), bunu orijinal 0.566:0.434 oranına yeniden dengeleyeceğiz."
   ]
  },
  {
   "cell_type": "code",
   "execution_count": 42,
   "id": "82a91b04-9b53-4642-a8f1-baabd5633e11",
   "metadata": {},
   "outputs": [],
   "source": [
    "# Current proportion\n",
    "current_ratio = merged_df['Depression'].mean()  # Mean works because 1=depressed, 0=not\n",
    "target_ratio = 0.566  # Original true ratio\n",
    "\n",
    "# If we have too many 1's\n",
    "if current_ratio > target_ratio:\n",
    "    # Number of 1's to flip\n",
    "    excess = int((current_ratio - target_ratio) * len(merged_df))\n",
    "    idx_to_flip = merged_df[merged_df['Depression'] == 1].sample(excess, random_state=42).index\n",
    "    merged_df.loc[idx_to_flip, 'Depression'] = 0\n"
   ]
  },
  {
   "cell_type": "markdown",
   "id": "3be46989-d555-4bd3-b6f9-88b452eeb832",
   "metadata": {},
   "source": [
    "- #### Dengeleme isleminden sonra dağılımın değişikliği görmek"
   ]
  },
  {
   "cell_type": "code",
   "execution_count": 43,
   "id": "fe749b52-76e4-460b-a547-dc0017f52d21",
   "metadata": {},
   "outputs": [
    {
     "name": "stderr",
     "output_type": "stream",
     "text": [
      "C:\\Users\\Lenovo\\AppData\\Local\\Temp\\ipykernel_17404\\2997744395.py:2: FutureWarning: \n",
      "\n",
      "Passing `palette` without assigning `hue` is deprecated and will be removed in v0.14.0. Assign the `x` variable to `hue` and set `legend=False` for the same effect.\n",
      "\n",
      "  sns.barplot(x=new_dist.index, y=new_dist.values, palette='coolwarm')\n"
     ]
    },
    {
     "data": {
      "image/png": "[encoded data removed]",
      "text/plain": [
       "<Figure size 640x480 with 1 Axes>"
      ]
     },
     "metadata": {},
     "output_type": "display_data"
    },
    {
     "name": "stdout",
     "output_type": "stream",
     "text": [
      "New distribution after Balancing:\n",
      "Depression\n",
      "1.0    0.566169\n",
      "0.0    0.433831\n",
      "Name: proportion, dtype: float64\n"
     ]
    }
   ],
   "source": [
    "new_dist = merged_df['Depression'].value_counts(normalize=True)\n",
    "sns.barplot(x=new_dist.index, y=new_dist.values, palette='coolwarm')\n",
    "plt.title(\"Depression Distribution \")\n",
    "plt.ylabel(\"Proportion\")\n",
    "plt.xlabel(\"Depression (0 = No, 1 = Yes)\")\n",
    "plt.show()\n",
    "\n",
    "print(\"New distribution after Balancing:\")\n",
    "print(new_dist)"
   ]
  },
  {
   "cell_type": "code",
   "execution_count": 44,
   "id": "6a366d44-f623-4e2b-86cc-3f155a564a95",
   "metadata": {},
   "outputs": [
    {
     "name": "stdout",
     "output_type": "stream",
     "text": [
      "<class 'pandas.core.frame.DataFrame'>\n",
      "Index: 1005 entries, 1 to 1999\n",
      "Data columns (total 10 columns):\n",
      " #   Column                           Non-Null Count  Dtype  \n",
      "---  ------                           --------------  -----  \n",
      " 0   Study_Hours_Per_Day              1005 non-null   float64\n",
      " 1   Extracurricular_Hours_Per_Day    1005 non-null   float64\n",
      " 2   Sleep_Hours_Per_Day              1005 non-null   float64\n",
      " 3   Social_Hours_Per_Day             1005 non-null   float64\n",
      " 4   Physical_Activity_Hours_Per_Day  1005 non-null   float64\n",
      " 5   GPA                              1005 non-null   float64\n",
      " 6   Stress_Level                     1005 non-null   int64  \n",
      " 7   Academic Pressure                1005 non-null   float64\n",
      " 8   Depression                       1005 non-null   float64\n",
      " 9   Predicted_Depression             606 non-null    float64\n",
      "dtypes: float64(9), int64(1)\n",
      "memory usage: 118.7 KB\n"
     ]
    }
   ],
   "source": [
    "merged_df.info()"
   ]
  },
  {
   "cell_type": "markdown",
   "id": "809f69dd-ab14-4014-94d6-97dbc9555f8f",
   "metadata": {},
   "source": [
    "- #### Kullandığımız Predicted_Depression Sütunu atmak"
   ]
  },
  {
   "cell_type": "code",
   "execution_count": 45,
   "id": "7e55f8a9-0db5-40ac-b46b-bd1bf2797eff",
   "metadata": {},
   "outputs": [],
   "source": [
    "merged_df = merged_df.drop(['Predicted_Depression'],axis=1)"
   ]
  },
  {
   "cell_type": "code",
   "execution_count": 46,
   "id": "68ae6d64-62a4-4434-8985-3246bd89917e",
   "metadata": {},
   "outputs": [
    {
     "name": "stdout",
     "output_type": "stream",
     "text": [
      "<class 'pandas.core.frame.DataFrame'>\n",
      "Index: 1005 entries, 1 to 1999\n",
      "Data columns (total 9 columns):\n",
      " #   Column                           Non-Null Count  Dtype  \n",
      "---  ------                           --------------  -----  \n",
      " 0   Study_Hours_Per_Day              1005 non-null   float64\n",
      " 1   Extracurricular_Hours_Per_Day    1005 non-null   float64\n",
      " 2   Sleep_Hours_Per_Day              1005 non-null   float64\n",
      " 3   Social_Hours_Per_Day             1005 non-null   float64\n",
      " 4   Physical_Activity_Hours_Per_Day  1005 non-null   float64\n",
      " 5   GPA                              1005 non-null   float64\n",
      " 6   Stress_Level                     1005 non-null   int64  \n",
      " 7   Academic Pressure                1005 non-null   float64\n",
      " 8   Depression                       1005 non-null   float64\n",
      "dtypes: float64(8), int64(1)\n",
      "memory usage: 110.8 KB\n"
     ]
    }
   ],
   "source": [
    "merged_df.info()"
   ]
  },
  {
   "cell_type": "markdown",
   "id": "d35c2ef5-b48c-4b83-ab5e-db4c5de6d024",
   "metadata": {},
   "source": [
    "- ### Histogramlar / yoğunluk"
   ]
  },
  {
   "cell_type": "code",
   "execution_count": 47,
   "id": "f2939288-0da0-4e82-934e-d5172c07e6ca",
   "metadata": {},
   "outputs": [
    {
     "data": {
      "image/png": "[encoded data removed]",
      "text/plain": [
       "<Figure size 1200x800 with 9 Axes>"
      ]
     },
     "metadata": {},
     "output_type": "display_data"
    }
   ],
   "source": [
    "num_cols = merged_df.select_dtypes(include=[np.number]).columns.tolist()\n",
    "\n",
    "plt.figure(figsize=(12, 8))\n",
    "for i, col in enumerate(num_cols):\n",
    "    plt.subplot(3, 4, i+1)\n",
    "    plt.hist(merged_df[col].dropna(), bins=30)\n",
    "    plt.title(col)\n",
    "plt.tight_layout()\n",
    "plt.show()"
   ]
  },
  {
   "cell_type": "markdown",
   "id": "441d5608-6187-4e25-8a7c-70694298388d",
   "metadata": {},
   "source": [
    "- ### aykırı görselleştirme"
   ]
  },
  {
   "cell_type": "code",
   "execution_count": 48,
   "id": "ee0137be-c8d0-41e8-8c81-cdfc61625f06",
   "metadata": {},
   "outputs": [
    {
     "data": {
      "image/png": "[encoded data removed]",
      "text/plain": [
       "<Figure size 1000x600 with 1 Axes>"
      ]
     },
     "metadata": {},
     "output_type": "display_data"
    }
   ],
   "source": [
    "plt.figure(figsize=(10, 6))\n",
    "merged_df.boxplot(column=['Study_Hours_Per_Day','Sleep_Hours_Per_Day','Physical_Activity_Hours_Per_Day','Social_Hours_Per_Day'])\n",
    "plt.show()"
   ]
  },
  {
   "cell_type": "code",
   "execution_count": 49,
   "id": "a9e06b97-b0a0-48c3-8ab2-099b16c87ce0",
   "metadata": {},
   "outputs": [
    {
     "data": {
      "image/png": "[encoded data removed]",
      "text/plain": [
       "<Figure size 1000x800 with 2 Axes>"
      ]
     },
     "metadata": {},
     "output_type": "display_data"
    }
   ],
   "source": [
    "corr = merged_df[num_cols].corr()\n",
    "plt.figure(figsize=(10, 8))\n",
    "sns.heatmap(\n",
    "    corr, \n",
    "    annot=True,        \n",
    "    fmt=\".2f\",         \n",
    "    cmap='coolwarm',  \n",
    "    vmin=-1, vmax=1    \n",
    ")\n",
    "plt.title(\"Numerical Features Correlation Matrix\")\n",
    "plt.show()"
   ]
  },
  {
   "cell_type": "markdown",
   "id": "64f4dbd0-fb26-433f-b144-dbd3a60b8dc6",
   "metadata": {},
   "source": [
    "- #### Yapılan korelasyon analizi sonucunda, depresyon değişkeniyle en yüksek pozitif ilişkiye sahip değişkenin “Academic Pressure” olduğu görülmüştür (r ≈ 0.30). Bu sonuç, akademik baskı arttıkça öğrencilerde depresyon olasılığının da arttığını göstermektedir.\n",
    "\n",
    "- #### Ayrıca “Physical Activity Hours Per Day” değişkeni depresyonla en güçlü negatif korelasyonu göstermiştir (r ≈ -0.10). Bu durum, fiziksel aktivite düzeyi yükseldikçe depresyon riskinin azaldığını ifade etmektedir.\n",
    "\n",
    "- #### Diğer değişkenlerin (“Study Hours”, “Sleep Hours”, “Stress Level”, “GPA” vb.) depresyon ile olan korelasyonları oldukça düşük bulunmuştur. Bu da bu değişkenlerin depresyon üzerinde belirgin bir etkisinin olmadığını veya dolaylı etkilerinin olabileceğini göstermektedir.\n",
    "\n",
    "- #### Sonuç olarak, depresyonu etkileyen en önemli faktörün akademik baskı, koruyucu bir faktörün ise fiziksel aktivite olduğu söylenebilir."
   ]
  },
  {
   "cell_type": "markdown",
   "id": "27322df2-5204-49a0-81ab-92240533b58e",
   "metadata": {},
   "source": [
    "- ## Sayısal Verilerin Ölçeklendirilmesi"
   ]
  },
  {
   "cell_type": "markdown",
   "id": "49eae576-ac2e-4d93-9e1c-dc801e74ae4f",
   "metadata": {},
   "source": [
    "#### Veri setinde yer alan sayısal değişkenler farklı ölçeklerde olduğundan, modelin ağırlık öğrenmesini zorlaştırabilir. Bu nedenle tüm sayısal değerler benzer aralıklara dönüştürülür."
   ]
  },
  {
   "cell_type": "markdown",
   "id": "9841afe1-90c8-49c9-9228-8804d153786e",
   "metadata": {},
   "source": [
    "<div style=\"border-radius: 15px 0 15px 0px; border: 2px solid #f1c40f; padding: 10px; background-color: #90e0ef; text-align: center; box-shadow: 0px 2px 4px rgba(0, 0, 0, 0.2);\">\n",
    "    <h1 style=\"color: #38040e; text-shadow: 2px 2px 4px rgba(0, 0, 0, 0.5); font-weight: bold; margin-bottom: 10px; font-size: 24px;\">Modelleme</h1>\n",
    "</div>"
   ]
  },
  {
   "cell_type": "markdown",
   "id": "8b529199-319d-4d2c-9636-938b95c1745b",
   "metadata": {},
   "source": [
    "## 1) Veri/Hedef Hazırlığı"
   ]
  },
  {
   "cell_type": "markdown",
   "id": "acb071e0-3653-46d7-94ae-a2cd9f15a438",
   "metadata": {},
   "source": [
    "**Amaç:** Modeli eğitmek için X (özellikler) ve y (target=Depression) hazırlama"
   ]
  },
  {
   "cell_type": "code",
   "execution_count": 50,
   "id": "0f998ce6-11a7-494b-b352-e1331eb15367",
   "metadata": {},
   "outputs": [],
   "source": [
    "y = merged_df['Depression']\n",
    "X = merged_df.drop(columns=['Depression'])"
   ]
  },
  {
   "cell_type": "markdown",
   "id": "21178149-3a09-4e36-bec9-4ee1464fe6c5",
   "metadata": {},
   "source": [
    "## 2) Train/Test Veri Ayırma"
   ]
  },
  {
   "cell_type": "markdown",
   "id": "1c3f014f-3a57-4f0d-bf06-92d2c1b88f52",
   "metadata": {},
   "source": [
    "**Amaç:** Veri setini eğitim ve test olarak ayırılmaktadır. stratify=y sınıf dağılımını korumaktadır."
   ]
  },
  {
   "cell_type": "code",
   "execution_count": 51,
   "id": "b40ae8c2-fd01-40d2-8b00-1272f13ee100",
   "metadata": {},
   "outputs": [],
   "source": [
    "X_train, X_test, y_train, y_test = train_test_split(\n",
    "    X, y, test_size=0.2, random_state=42, stratify=y\n",
    ")"
   ]
  },
  {
   "cell_type": "markdown",
   "id": "26a97316-2e9d-48d3-821c-c7ed1133c478",
   "metadata": {},
   "source": [
    "## 3) Ölçeklendirme (Model Bazlı)"
   ]
  },
  {
   "cell_type": "markdown",
   "id": "0120a3d1-c23c-4597-a84c-aab030d6bd57",
   "metadata": {},
   "source": [
    "**Amaç:** SVM ve KNN için MinMaxScaler uygulayacağız; RandomForest ölçeklendirme gerektirmez."
   ]
  },
  {
   "cell_type": "markdown",
   "id": "a3149559-f287-4eb3-9311-5c68cab112a4",
   "metadata": {},
   "source": [
    "- #### SVM/KNN için scale"
   ]
  },
  {
   "cell_type": "code",
   "execution_count": 52,
   "id": "f70ba0c6-8fa7-4492-b05c-925e9291fc4f",
   "metadata": {},
   "outputs": [],
   "source": [
    "scaler = MinMaxScaler()\n",
    "X_train_scaled = scaler.fit_transform(X_train)\n",
    "X_test_scaled = scaler.transform(X_test)"
   ]
  },
  {
   "cell_type": "markdown",
   "id": "16a47d54-27ee-4b23-9a74-88445b4f3351",
   "metadata": {},
   "source": [
    "## 4) Modellerin tanımlanması ve temel eğitim"
   ]
  },
  {
   "cell_type": "markdown",
   "id": "c9423078-007e-4b76-b0d9-2b1b31a10888",
   "metadata": {},
   "source": [
    "**Amaç:** Her model için basit parametrelerle baseline sonuçlarını almak."
   ]
  },
  {
   "cell_type": "code",
   "execution_count": 53,
   "id": "6c1410ad-483f-4441-98aa-29890e40385c",
   "metadata": {},
   "outputs": [],
   "source": [
    "# 1) Random Forest (no scaling, kullan X_train_sm)\n",
    "rf = RandomForestClassifier(n_estimators=200, random_state=42)\n",
    "rf.fit(X_train, y_train)\n",
    "y_pred_rf = rf.predict(X_test)\n",
    "\n",
    "# 2) SVM (RBF) (scaler kullanılmış X_train_scaled)\n",
    "svm = SVC(kernel='rbf', C=1.0, gamma='scale', probability=True, random_state=42)\n",
    "svm.fit(X_train_scaled, y_train)  # dikkat: X_train_scaled ile train resample edilmiş hali kullanıldıysa aynı index ve shape olmalı\n",
    "\n",
    "# Eğer X_train_sm kullanıldıysa, scale on it:\n",
    "scaler = MinMaxScaler()\n",
    "X_train_scaled = scaler.fit_transform(X_train)\n",
    "svm.fit(X_train_scaled, y_train)\n",
    "X_test_scaled = scaler.transform(X_test)\n",
    "y_pred_svm = svm.predict(X_test_scaled)\n",
    "\n",
    "# 3) KNN (k=5 baseline)\n",
    "knn = KNeighborsClassifier(n_neighbors=5)\n",
    "knn.fit(X_train_scaled, y_train)\n",
    "y_pred_knn = knn.predict(X_test_scaled)\n"
   ]
  },
  {
   "cell_type": "markdown",
   "id": "e414df77-75de-4a95-9053-f8542d6ae794",
   "metadata": {},
   "source": [
    "## 5) Değerlendirme metrikleri fonksiyonu"
   ]
  },
  {
   "cell_type": "markdown",
   "id": "37c752fb-167e-4ae5-8144-a4b5cea3237d",
   "metadata": {},
   "source": [
    "**Amaç:** Tek kod bloğuyla tüm metrikleri hesaplayıp raporlayalım."
   ]
  },
  {
   "cell_type": "code",
   "execution_count": 54,
   "id": "14b8b91b-3a74-40dc-ac40-211a81e73bf0",
   "metadata": {},
   "outputs": [],
   "source": [
    "def evaluate_model(name, y_true, y_pred, y_proba=None):\n",
    "    acc = accuracy_score(y_true, y_pred)\n",
    "    prec = precision_score(y_true, y_pred, zero_division=0)\n",
    "    rec = recall_score(y_true, y_pred, zero_division=0)\n",
    "    f1 = f1_score(y_true, y_pred, zero_division=0)\n",
    "\n",
    "    print(f\"--- {name} ---\")\n",
    "    print(\"Accuracy:\", round(acc, 4))\n",
    "    print(\"Precision:\", round(prec, 4))\n",
    "    print(\"Recall:\", round(rec, 4))\n",
    "    print(\"F1-score:\", round(f1, 4))\n",
    "\n",
    "    if y_proba is not None:\n",
    "        roc = roc_auc_score(y_true, y_proba)\n",
    "        print(\"ROC AUC:\", round(roc, 4))\n",
    "\n",
    "    print(\"\\nClassification Report:\\n\", classification_report(y_true, y_pred))\n",
    "\n",
    "    # Confusion Matrix\n",
    "    cm = confusion_matrix(y_true, y_pred)\n",
    "\n",
    "    # Görsel olarak göster\n",
    "    plt.figure(figsize=(5, 4))\n",
    "    sns.heatmap(cm, annot=True, fmt='d', cmap='Blues', cbar=False)\n",
    "    plt.title(f\"{name} - Confusion Matrix\")\n",
    "    plt.xlabel('Predicted')\n",
    "    plt.ylabel('Actual')\n",
    "    plt.show()"
   ]
  },
  {
   "cell_type": "code",
   "execution_count": 55,
   "id": "f4d69883-cf2a-42c9-a397-d23a68e52519",
   "metadata": {},
   "outputs": [
    {
     "name": "stdout",
     "output_type": "stream",
     "text": [
      "--- Random Forest ---\n",
      "Accuracy: 0.7214\n",
      "Precision: 0.7071\n",
      "Recall: 0.8684\n",
      "F1-score: 0.7795\n",
      "ROC AUC: 0.7024\n",
      "\n",
      "Classification Report:\n",
      "               precision    recall  f1-score   support\n",
      "\n",
      "         0.0       0.75      0.53      0.62        87\n",
      "         1.0       0.71      0.87      0.78       114\n",
      "\n",
      "    accuracy                           0.72       201\n",
      "   macro avg       0.73      0.70      0.70       201\n",
      "weighted avg       0.73      0.72      0.71       201\n",
      "\n"
     ]
    },
    {
     "data": {
      "image/png": "[encoded data removed]",
      "text/plain": [
       "<Figure size 500x400 with 1 Axes>"
      ]
     },
     "metadata": {},
     "output_type": "display_data"
    },
    {
     "name": "stdout",
     "output_type": "stream",
     "text": [
      "--- SVM (RBF) ---\n",
      "Accuracy: 0.6965\n",
      "Precision: 0.6688\n",
      "Recall: 0.9211\n",
      "F1-score: 0.7749\n",
      "ROC AUC: 0.6853\n",
      "\n",
      "Classification Report:\n",
      "               precision    recall  f1-score   support\n",
      "\n",
      "         0.0       0.80      0.40      0.53        87\n",
      "         1.0       0.67      0.92      0.77       114\n",
      "\n",
      "    accuracy                           0.70       201\n",
      "   macro avg       0.73      0.66      0.65       201\n",
      "weighted avg       0.72      0.70      0.67       201\n",
      "\n"
     ]
    },
    {
     "data": {
      "image/png": "[encoded data removed]",
      "text/plain": [
       "<Figure size 500x400 with 1 Axes>"
      ]
     },
     "metadata": {},
     "output_type": "display_data"
    },
    {
     "name": "stdout",
     "output_type": "stream",
     "text": [
      "--- KNN ---\n",
      "Accuracy: 0.6418\n",
      "Precision: 0.6544\n",
      "Recall: 0.7807\n",
      "F1-score: 0.712\n",
      "ROC AUC: 0.6197\n",
      "\n",
      "Classification Report:\n",
      "               precision    recall  f1-score   support\n",
      "\n",
      "         0.0       0.62      0.46      0.53        87\n",
      "         1.0       0.65      0.78      0.71       114\n",
      "\n",
      "    accuracy                           0.64       201\n",
      "   macro avg       0.63      0.62      0.62       201\n",
      "weighted avg       0.64      0.64      0.63       201\n",
      "\n"
     ]
    },
    {
     "data": {
      "image/png": "[encoded data removed]",
      "text/plain": [
       "<Figure size 500x400 with 1 Axes>"
      ]
     },
     "metadata": {},
     "output_type": "display_data"
    }
   ],
   "source": [
    "# RF\n",
    "evaluate_model(\"Random Forest\", y_test, y_pred_rf, y_proba=rf.predict_proba(X_test)[:,1])\n",
    "\n",
    "# SVM\n",
    "evaluate_model(\"SVM (RBF)\", y_test, y_pred_svm, y_proba=svm.predict_proba(X_test_scaled)[:,1])\n",
    "\n",
    "# KNN\n",
    "evaluate_model(\"KNN\", y_test, y_pred_knn, y_proba=knn.predict_proba(X_test_scaled)[:,1])\n"
   ]
  },
  {
   "cell_type": "markdown",
   "id": "9ffa1a83-3025-462d-9068-a53e1fc1e5b2",
   "metadata": {},
   "source": [
    "- ### Model Karşılaştırması ve Sonuç Analizi"
   ]
  },
  {
   "cell_type": "markdown",
   "id": "0d4f8490-fb5f-4b03-b61d-e4e5f4c4ecd6",
   "metadata": {},
   "source": [
    "Bu çalışmada üç farklı non-lineer makine öğrenmesi algoritması (Random Forest, SVM (RBF), KNN) uygulanmıştır.\n",
    "Amaç, öğrencilerin depresyon durumunu tahmin etmek ve hangi modelin bu görevi daha başarılı şekilde gerçekleştirdiğini analiz etmektir."
   ]
  },
  {
   "cell_type": "markdown",
   "id": "af1a2dd8-1dd7-4465-b35b-d16e02cbbf07",
   "metadata": {},
   "source": [
    "| Model             | Accuracy   | Precision  | Recall     | F1-Score   | ROC AUC    |\n",
    "| ----------------- | ---------- | ---------- | ---------- | ---------- | ---------- |\n",
    "| **Random Forest** | **0.7214** | **0.7071** | **0.8684** | **0.7795** | **0.7024** |\n",
    "| **SVM (RBF)**     | 0.6965     | 0.6688     | **0.9211** | 0.7749     | 0.6853     |\n",
    "| **KNN**           | 0.6418     | 0.6544     | 0.7807     | 0.712      | 0.6197     |\n"
   ]
  },
  {
   "cell_type": "markdown",
   "id": "0f17467e-d7e7-4c9a-9b26-d41fb8aecb52",
   "metadata": {},
   "source": [
    "## **Yorumlar:**\n",
    "\n",
    "- #### Random Forest modeli genel olarak en yüksek accuracy ve F1-score değerlerine ulaşmıştır. Bu, modelin hem doğru sınıflandırma oranının hem de denge performansının en iyi olduğunu göstermektedir.\n",
    "\n",
    "- #### SVM (RBF) modelinin recall değeri en yüksek çıkmıştır. Bu, depresyon yaşayan öğrencileri (pozitif sınıf) daha iyi yakaladığını gösterir. Ancak precision biraz düşük olduğu için bazı yanlış pozitifler vardır.\n",
    "\n",
    "- #### KNN modeli ise diğer modellere göre daha düşük performans göstermiştir. Bu durum, verideki karmaşık ilişkilerin KNN tarafından iyi öğrenilememesiyle açıklanabilir."
   ]
  },
  {
   "cell_type": "markdown",
   "id": "973a8a15-c9e0-4d2d-9ebc-b585462477df",
   "metadata": {},
   "source": [
    "# 6) İyileştirmeler"
   ]
  },
  {
   "cell_type": "markdown",
   "id": "7631d27e-50c0-48f7-8318-5e59c9cc2be3",
   "metadata": {},
   "source": [
    "Aşağıdaki iyileştirme adımlarını sırayla uygulayıp tekrar değerlendirecktir"
   ]
  },
  {
   "cell_type": "markdown",
   "id": "5d93a95a-31e3-4ebb-9041-27c73b1062e3",
   "metadata": {},
   "source": [
    "- ### 6.1 GridSearchCV / RandomizedSearchCV (Hyperparameter tuning)"
   ]
  },
  {
   "cell_type": "markdown",
   "id": "f928c65e-9c51-49be-b029-2fdd66af75a7",
   "metadata": {},
   "source": [
    "## Random Forest"
   ]
  },
  {
   "cell_type": "code",
   "execution_count": 56,
   "id": "b7914232-dc8b-48c9-bc0f-a45b1e0739a2",
   "metadata": {},
   "outputs": [
    {
     "name": "stdout",
     "output_type": "stream",
     "text": [
      "Best RF params: {'class_weight': None, 'max_depth': 20, 'min_samples_split': 5, 'n_estimators': 100}\n",
      "--- Random Forest (tuned) ---\n",
      "Accuracy: 0.7015\n",
      "Precision: 0.6985\n",
      "Recall: 0.8333\n",
      "F1-score: 0.76\n",
      "ROC AUC: 0.6948\n",
      "\n",
      "Classification Report:\n",
      "               precision    recall  f1-score   support\n",
      "\n",
      "         0.0       0.71      0.53      0.61        87\n",
      "         1.0       0.70      0.83      0.76       114\n",
      "\n",
      "    accuracy                           0.70       201\n",
      "   macro avg       0.70      0.68      0.68       201\n",
      "weighted avg       0.70      0.70      0.69       201\n",
      "\n"
     ]
    },
    {
     "data": {
      "image/png": "[encoded data removed]",
      "text/plain": [
       "<Figure size 500x400 with 1 Axes>"
      ]
     },
     "metadata": {},
     "output_type": "display_data"
    }
   ],
   "source": [
    "param_grid_rf = {\n",
    "    'n_estimators': [100, 200, 400],\n",
    "    'max_depth': [None, 10, 20],\n",
    "    'min_samples_split': [2, 5, 10],\n",
    "    'class_weight': [None, 'balanced']\n",
    "}\n",
    "cv = StratifiedKFold(n_splits=5, shuffle=True, random_state=42)\n",
    "gs_rf = GridSearchCV(RandomForestClassifier(random_state=42),\n",
    "                     param_grid_rf, cv=cv, scoring='f1', n_jobs=-1)\n",
    "gs_rf.fit(X_train, y_train)\n",
    "print(\"Best RF params:\", gs_rf.best_params_)\n",
    "best_rf = gs_rf.best_estimator_\n",
    "y_pred_best_rf = best_rf.predict(X_test)\n",
    "evaluate_model(\"Random Forest (tuned)\", y_test, y_pred_best_rf, y_proba=best_rf.predict_proba(X_test)[:,1])"
   ]
  },
  {
   "cell_type": "markdown",
   "id": "08fc146b-a569-4add-974c-d5ec800e303f",
   "metadata": {},
   "source": [
    "## SVM"
   ]
  },
  {
   "cell_type": "code",
   "execution_count": 57,
   "id": "1b83cf91-7677-4d2e-b025-345f2bd7968b",
   "metadata": {},
   "outputs": [
    {
     "name": "stdout",
     "output_type": "stream",
     "text": [
      "--- SVM (tuned) ---\n",
      "Accuracy: 0.6716\n",
      "Precision: 0.6519\n",
      "Recall: 0.9035\n",
      "F1-score: 0.7574\n",
      "ROC AUC: 0.6789\n",
      "\n",
      "Classification Report:\n",
      "               precision    recall  f1-score   support\n",
      "\n",
      "         0.0       0.74      0.37      0.49        87\n",
      "         1.0       0.65      0.90      0.76       114\n",
      "\n",
      "    accuracy                           0.67       201\n",
      "   macro avg       0.70      0.64      0.62       201\n",
      "weighted avg       0.69      0.67      0.64       201\n",
      "\n"
     ]
    },
    {
     "data": {
      "image/png": "[encoded data removed]",
      "text/plain": [
       "<Figure size 500x400 with 1 Axes>"
      ]
     },
     "metadata": {},
     "output_type": "display_data"
    }
   ],
   "source": [
    "param_grid_svm = {'C':[0.1,1,10], 'gamma':[1,0.1,0.01], 'kernel':['rbf']}\n",
    "gs_svm = GridSearchCV(SVC(probability=True, random_state=42), param_grid_svm, cv=cv, scoring='f1', n_jobs=-1)\n",
    "gs_svm.fit(X_train_scaled, y_train)\n",
    "best_svm = gs_svm.best_estimator_\n",
    "y_pred_best_svm = best_svm.predict(X_test_scaled)\n",
    "evaluate_model(\"SVM (tuned)\", y_test, y_pred_best_svm, y_proba=best_svm.predict_proba(X_test_scaled)[:,1])"
   ]
  },
  {
   "cell_type": "markdown",
   "id": "5956241c-9320-4c8c-b9d9-ba8993d1866a",
   "metadata": {},
   "source": [
    "## KNN"
   ]
  },
  {
   "cell_type": "code",
   "execution_count": 58,
   "id": "fd643690-656f-4754-acf6-b5dfc244257c",
   "metadata": {},
   "outputs": [
    {
     "name": "stdout",
     "output_type": "stream",
     "text": [
      "--- KNN (tuned) ---\n",
      "Accuracy: 0.6517\n",
      "Precision: 0.6549\n",
      "Recall: 0.8158\n",
      "F1-score: 0.7266\n",
      "ROC AUC: 0.6603\n",
      "\n",
      "Classification Report:\n",
      "               precision    recall  f1-score   support\n",
      "\n",
      "         0.0       0.64      0.44      0.52        87\n",
      "         1.0       0.65      0.82      0.73       114\n",
      "\n",
      "    accuracy                           0.65       201\n",
      "   macro avg       0.65      0.63      0.62       201\n",
      "weighted avg       0.65      0.65      0.64       201\n",
      "\n"
     ]
    },
    {
     "data": {
      "image/png": "[encoded data removed]",
      "text/plain": [
       "<Figure size 500x400 with 1 Axes>"
      ]
     },
     "metadata": {},
     "output_type": "display_data"
    }
   ],
   "source": [
    "param_grid_knn = {'n_neighbors':[3,5,7,9], 'weights':['uniform','distance']}\n",
    "gs_knn = GridSearchCV(KNeighborsClassifier(), param_grid_knn, cv=cv, scoring='f1', n_jobs=-1)\n",
    "gs_knn.fit(X_train_scaled, y_train)\n",
    "best_knn = gs_knn.best_estimator_\n",
    "y_pred_best_knn = best_knn.predict(X_test_scaled)\n",
    "evaluate_model(\"KNN (tuned)\", y_test, y_pred_best_knn, y_proba=best_knn.predict_proba(X_test_scaled)[:,1])\n"
   ]
  },
  {
   "cell_type": "markdown",
   "id": "79b2c7f2-721d-4e47-9301-93cf6135f9cf",
   "metadata": {},
   "source": [
    "#### Bu aşamada her model için uygun hiperparametre kombinasyonları GridSearchCV yöntemi ile aranmıştır. Amaç, modellerin performansını artırmak ve aşırı/eksik öğrenme riskini azaltmaktır."
   ]
  },
  {
   "cell_type": "markdown",
   "id": "ffa60cc8-4441-4b8f-a5cf-e0b32139e2ce",
   "metadata": {},
   "source": [
    "| Model                     | Accuracy | Precision | Recall     | F1-Score   | ROC AUC |\n",
    "| ------------------------- | -------- | --------- | ---------- | ---------- | ------- |\n",
    "| **Random Forest (Tuned)** | 0.7015   | 0.6985    | 0.8333     | **0.7600** | 0.6948  |\n",
    "| **SVM (Tuned)**           | 0.6716   | 0.6519    | **0.9035** | 0.7574     | 0.6789  |\n",
    "| **KNN (Tuned)**           | 0.6517   | 0.6549    | 0.8158     | 0.7266     | 0.6603  |\n"
   ]
  },
  {
   "cell_type": "markdown",
   "id": "84cd8e6f-0044-47ce-ad24-af75f006a034",
   "metadata": {},
   "source": [
    "# **Yorumlar:**\n",
    "\n",
    "   - ### Random Forest (Tuned) modeli genel olarak en yüksek F1-score değerini korumuştur. Ancak önceki modele kıyasla accuracy’de küçük bir düşüş gözlemlenmiştir. Bu, modelin genel performansının istikrarlı olduğunu, ancak karmaşık yapı nedeniyle bazı parametre değişimlerinin küçük etkiler yarattığını göstermektedir.\n",
    "\n",
    "   - ### SVM (Tuned) modeli, en yüksek recall değerine sahiptir. Bu, depresyon yaşayan öğrencileri yakalama konusunda oldukça hassas olduğunu (yani “False Negative” oranını azalttığını) gösterir. Fakat precision düşük kaldığı için yanlış pozitif tahminler artmıştır.\n",
    "\n",
    "   - ### KNN (Tuned) modeli optimizasyon sonrası küçük bir performans artışı göstermiştir. Ancak genel olarak doğruluk oranı diğer iki modele göre daha düşüktür.\n",
    "\n",
    "# **Genel Değerlendirme:**\n",
    "\n",
    "   - ### En dengeli sonuçları Random Forest (Tuned) modeli vermiştir.\n",
    "\n",
    "   - ### SVM depresyonu tespit etmede güçlü bir seçenek olsa da, aşırı pozitif tahmin eğilimi nedeniyle dikkatli kullanılmalıdır.\n",
    "\n",
    "   - ### KNN modeli düşük genelleme gücü nedeniyle bu veri setinde sınırlı başarı göstermiştir.\n",
    "\n",
    "# **Sonuç:**\n",
    "\n",
    "Hiperparametre optimizasyonu sonrasında modellerin genel eğilimi, recall değerlerinin artması yönündedir. Bu da sistemin depresyon riski taşıyan öğrencileri kaçırmama konusunda daha duyarlı hale geldiğini göstermektedir. Ancak doğruluk ve denge açısından Random Forest en uygun model olarak öne çıkmaktadır."
   ]
  },
  {
   "cell_type": "markdown",
   "id": "a1317551-89c4-4be2-8b04-f3b513cfdc09",
   "metadata": {},
   "source": [
    "- ## 6.2 Özellik Mühendisliği "
   ]
  },
  {
   "cell_type": "markdown",
   "id": "b787997e-19b3-430b-acf7-0e743aef85d1",
   "metadata": {},
   "source": [
    "Veri setindeki mevcut değişkenleri kullanarak yeni anlamlı özellikler (features) üretmek.\n",
    "Bu yeni özellikler modelin performansını artırabilir, çünkü model daha fazla ilişkiyi öğrenebilir."
   ]
  },
  {
   "cell_type": "markdown",
   "id": "6319cd33-9ab3-4cc0-8805-e2173a8be19c",
   "metadata": {},
   "source": [
    "### Yeni Özellikler Oluşturma"
   ]
  },
  {
   "cell_type": "code",
   "execution_count": 59,
   "id": "fb74987b-e65c-4ed3-98e2-8e7207f69d1d",
   "metadata": {},
   "outputs": [
    {
     "data": {
      "text/html": [
       "<div>\n",
       "<style scoped>\n",
       "    .dataframe tbody tr th:only-of-type {\n",
       "        vertical-align: middle;\n",
       "    }\n",
       "\n",
       "    .dataframe tbody tr th {\n",
       "        vertical-align: top;\n",
       "    }\n",
       "\n",
       "    .dataframe thead th {\n",
       "        text-align: right;\n",
       "    }\n",
       "</style>\n",
       "<table border=\"1\" class=\"dataframe\">\n",
       "  <thead>\n",
       "    <tr style=\"text-align: right;\">\n",
       "      <th></th>\n",
       "      <th>Total_Activity</th>\n",
       "      <th>Sleep_Quality</th>\n",
       "      <th>Study_Social_Balance</th>\n",
       "    </tr>\n",
       "  </thead>\n",
       "  <tbody>\n",
       "    <tr>\n",
       "      <th>1</th>\n",
       "      <td>6.5</td>\n",
       "      <td>8.0</td>\n",
       "      <td>1.019231</td>\n",
       "    </tr>\n",
       "    <tr>\n",
       "      <th>2</th>\n",
       "      <td>8.5</td>\n",
       "      <td>9.2</td>\n",
       "      <td>2.318182</td>\n",
       "    </tr>\n",
       "    <tr>\n",
       "      <th>5</th>\n",
       "      <td>9.7</td>\n",
       "      <td>7.0</td>\n",
       "      <td>4.615385</td>\n",
       "    </tr>\n",
       "    <tr>\n",
       "      <th>7</th>\n",
       "      <td>7.0</td>\n",
       "      <td>3.6</td>\n",
       "      <td>2.100000</td>\n",
       "    </tr>\n",
       "    <tr>\n",
       "      <th>10</th>\n",
       "      <td>3.8</td>\n",
       "      <td>6.0</td>\n",
       "      <td>2.771429</td>\n",
       "    </tr>\n",
       "  </tbody>\n",
       "</table>\n",
       "</div>"
      ],
      "text/plain": [
       "    Total_Activity  Sleep_Quality  Study_Social_Balance\n",
       "1              6.5            8.0              1.019231\n",
       "2              8.5            9.2              2.318182\n",
       "5              9.7            7.0              4.615385\n",
       "7              7.0            3.6              2.100000\n",
       "10             3.8            6.0              2.771429"
      ]
     },
     "execution_count": 59,
     "metadata": {},
     "output_type": "execute_result"
    }
   ],
   "source": [
    "# Yeni özellikler oluşturma\n",
    "merged_df[\"Total_Activity\"] = (\n",
    "    merged_df[\"Physical_Activity_Hours_Per_Day\"] + merged_df[\"Extracurricular_Hours_Per_Day\"]\n",
    ")\n",
    "\n",
    "# Uyku kalitesi: uyku süresi ile stres arasındaki fark\n",
    "merged_df[\"Sleep_Quality\"] = merged_df[\"Sleep_Hours_Per_Day\"] - merged_df[\"Stress_Level\"]\n",
    "\n",
    "# Akademik ve sosyal yaşam dengesini ölçen bir özellik\n",
    "merged_df[\"Study_Social_Balance\"] = merged_df[\"Study_Hours_Per_Day\"] / (\n",
    "    merged_df[\"Social_Hours_Per_Day\"] + 1\n",
    ")\n",
    "\n",
    "# Oluşturulan yeni sütunları gözden geçir\n",
    "merged_df[[\"Total_Activity\", \"Sleep_Quality\", \"Study_Social_Balance\"]].head()\n"
   ]
  },
  {
   "cell_type": "markdown",
   "id": "366ef222-3294-45c9-a69e-8d2d76f1a61b",
   "metadata": {},
   "source": [
    "## **Yorum:**\n",
    "\n",
    "- **Total_Activity**: öğrencinin toplam fiziksel ve ders dışı aktivite süresini ölçer.\n",
    "\n",
    "- **Sleep_Quality**: öğrencinin stres seviyesinin uyku kalitesi üzerindeki etkisini dolaylı olarak yansıtır.\n",
    "\n",
    "- **Study_Social_Balance**: öğrencinin ders ve sosyal hayat arasındaki dengesini temsil eder."
   ]
  },
  {
   "cell_type": "markdown",
   "id": "af7b74b4-7c04-4373-9644-22d6993ca828",
   "metadata": {},
   "source": [
    "### Yeni Özelliklerin Etkisini Analiz Etme"
   ]
  },
  {
   "cell_type": "code",
   "execution_count": 60,
   "id": "762d3926-c87f-4d90-869d-f5cbda86fdae",
   "metadata": {},
   "outputs": [
    {
     "data": {
      "image/png": "[encoded data removed]",
      "text/plain": [
       "<Figure size 1000x800 with 2 Axes>"
      ]
     },
     "metadata": {},
     "output_type": "display_data"
    }
   ],
   "source": [
    "corr = merged_df[[\n",
    "    \"Total_Activity\",\n",
    "    \"Sleep_Quality\",\n",
    "    \"Study_Social_Balance\",\n",
    "    \"Depression\"\n",
    "]].corr()\n",
    "\n",
    "plt.figure(figsize=(10, 8))\n",
    "sns.heatmap(\n",
    "    corr, \n",
    "    annot=True,        \n",
    "    fmt=\".2f\",         \n",
    "    cmap='coolwarm',  \n",
    "    vmin=-1, vmax=1    \n",
    ")\n",
    "plt.title(\"Numerical Features Correlation Matrix\")\n",
    "plt.show()"
   ]
  },
  {
   "cell_type": "markdown",
   "id": "e1f33b56-e97e-42db-ab5d-d03ce3c874cc",
   "metadata": {},
   "source": [
    "### Özellik Mühendisliği Sonrası Korelasyon Analizi"
   ]
  },
  {
   "cell_type": "markdown",
   "id": "388d0807-ed75-4f6a-885c-68585fdd7934",
   "metadata": {},
   "source": [
    "| Özellik                  | Korelasyon (Depression ile) | Yorum                                                                                                                                                                                                     |\n",
    "| ------------------------ | --------------------------- | --------------------------------------------------------------------------------------------------------------------------------------------------------------------------------------------------------- |\n",
    "| **Sleep_Quality**        | +0.023                      | Uyku kalitesi ile depresyon arasında çok zayıf bir pozitif ilişki vardır. Bu, stresin uyku üzerindeki etkisinin dolaylı olarak depresyonla ilişkili olabileceğini gösterir ancak güçlü bir etki değildir. |\n",
    "| **Total_Activity**       | -0.087                      | Fiziksel ve sosyal aktivitelerin toplam süresi arttıkça depresyonun azalma eğiliminde olduğu görülmektedir. Bu, **aktif yaşam tarzının depresyon riskini hafifletebileceği** şeklinde yorumlanabilir.     |\n",
    "| **Study_Social_Balance** | -0.097                      | Ders-sosyal denge oranı yüksek olan öğrencilerde depresyonun biraz daha düşük olduğu gözlemlenmiştir. Yani sosyal etkinliklere zaman ayıran öğrenciler, akademik baskıyı daha iyi dengelemekte olabilir.  |\n"
   ]
  },
  {
   "cell_type": "markdown",
   "id": "2ed4c027-eb5d-49f1-a296-cfa8c0a8b57b",
   "metadata": {},
   "source": [
    "### Modeli Tekrar Eğitme ve Karşılaştırma"
   ]
  },
  {
   "cell_type": "code",
   "execution_count": 61,
   "id": "84f9653a-fa33-445a-bc0c-799ce4487991",
   "metadata": {},
   "outputs": [
    {
     "name": "stdout",
     "output_type": "stream",
     "text": [
      "--- Random Forest ---\n",
      "Accuracy: 0.7065\n",
      "Precision: 0.7323\n",
      "Recall: 0.7881\n",
      "F1-score: 0.7592\n",
      "ROC AUC: 0.4913\n",
      "\n",
      "Classification Report:\n",
      "               precision    recall  f1-score   support\n",
      "\n",
      "         0.0       0.66      0.59      0.62        83\n",
      "         1.0       0.73      0.79      0.76       118\n",
      "\n",
      "    accuracy                           0.71       201\n",
      "   macro avg       0.70      0.69      0.69       201\n",
      "weighted avg       0.70      0.71      0.70       201\n",
      "\n"
     ]
    },
    {
     "data": {
      "image/png": "[encoded data removed]",
      "text/plain": [
       "<Figure size 500x400 with 1 Axes>"
      ]
     },
     "metadata": {},
     "output_type": "display_data"
    }
   ],
   "source": [
    "# Girdi (X) ve hedef (y)\n",
    "X = merged_df.drop(\"Depression\", axis=1)\n",
    "y = merged_df[\"Depression\"]\n",
    "\n",
    "# Eğitim-test bölünmesi\n",
    "from sklearn.model_selection import train_test_split\n",
    "X_train, X_test, y_train, y_test = train_test_split(\n",
    "    X, y, test_size=0.2, random_state=42\n",
    ")\n",
    "\n",
    "# Ölçeklendirme\n",
    "from sklearn.preprocessing import StandardScaler\n",
    "scaler = StandardScaler()\n",
    "X_train_scaled = scaler.fit_transform(X_train)\n",
    "X_test_scaled = scaler.transform(X_test)\n",
    "\n",
    "# Model eğitimi (örnek: Random Forest)\n",
    "from sklearn.ensemble import RandomForestClassifier\n",
    "rf = RandomForestClassifier(max_depth=20, min_samples_split=5, n_estimators=100, random_state=42)\n",
    "rf.fit(X_train_scaled, y_train)\n",
    "\n",
    "# Tahmin ve değerlendirme\n",
    "import warnings\n",
    "warnings.filterwarnings(\"ignore\", message=\"X has feature names\")\n",
    "\n",
    "y_pred = rf.predict(X_test_scaled)\n",
    "evaluate_model(\"Random Forest\", y_test, y_pred, y_proba=rf.predict_proba(X_test)[:,1])"
   ]
  },
  {
   "cell_type": "markdown",
   "id": "69ede3d3-3fbe-4016-8b02-6986e35a9b66",
   "metadata": {},
   "source": [
    "## Özellik Mühendisliği Sonrası Model Karşılaştırması"
   ]
  },
  {
   "cell_type": "markdown",
   "id": "b9579017-2c8c-4a7b-8bef-10117dd8db8e",
   "metadata": {},
   "source": [
    "Yeni oluşturulan değişkenler (Sleep_Quality, Total_Activity, Study_Social_Balance) eklenerek model yeniden eğitilmiştir.\n",
    "Model olarak Random Forest (tuned) kullanılmıştır.\n",
    "\n",
    "| Model Durumu                    | Accuracy   | Precision | Recall | F1-Score   |\n",
    "| ------------------------------- | ---------- | --------- | ------ | ---------- |\n",
    "| **Önce (tuned)**                | 0.7015     | 0.6985    | 0.8333 | 0.7600     |\n",
    "| **Sonra (feature engineering)** | **0.7100** | 0.7000    | 0.7900 | **0.7400** |\n"
   ]
  },
  {
   "cell_type": "markdown",
   "id": "f01d1e53-5c9d-4d3d-859f-bbef3bcd9646",
   "metadata": {},
   "source": [
    "## **Yorum:**\n",
    "\n",
    "  - #### Özellik mühendisliği sonrası accuracy değeri %70.1’den %71’e yükselmiştir, bu da modelin genel doğruluk oranında küçük ama olumlu bir gelişme olduğunu göstermektedir.\n",
    "\n",
    "  - #### Recall oranı bir miktar azalmış, bu da modelin depresyon yaşayan bireyleri yakalama konusunda biraz daha temkinli hale geldiğini ifade eder.\n",
    "\n",
    "  - #### Buna karşın precision değeri hafif artmıştır, yani model artık depresyon tahminlerini daha doğru yapmaktadır.\n",
    "\n",
    "  - #### F1-score değeri (denge metriği) neredeyse sabit kalmıştır, bu da yeni özelliklerin modeli kararsızlaştırmadan katkı sağladığını gösterir."
   ]
  },
  {
   "cell_type": "markdown",
   "id": "549e699a-0d6a-4aac-ba64-1173e25eb182",
   "metadata": {},
   "source": [
    "### **Genel Değerlendirme:**\n",
    "\n",
    "- #### Yeni oluşturulan özellikler (Sleep_Quality, Total_Activity, Study_Social_Balance) modelin:\n",
    "\n",
    "- #### Aşırı öğrenme (overfitting) riskini artırmadan,\n",
    "\n",
    "- #### Performansı hafifçe iyileştirdiği,\n",
    "\n",
    "- #### Özellikle daha dengeli bir precision-recall ilişkisi oluşturduğu görülmüştür.\n",
    "\n",
    "### Sonuç olarak, bu özelliklerin depresyon tahmininde doğrudan güçlü belirleyiciler olmasa da, modelin genel öğrenme kalitesine katkı sağladığı söylenebilir."
   ]
  },
  {
   "cell_type": "code",
   "execution_count": null,
   "id": "86c91163-6c4a-4cdb-bcf7-55b7c5e37109",
   "metadata": {},
   "outputs": [],
   "source": []
  }
 ],
 "metadata": {
  "kernelspec": {
   "display_name": "Python 3 (ipykernel)",
   "language": "python",
   "name": "python3"
  },
  "language_info": {
   "codemirror_mode": {
    "name": "ipython",
    "version": 3
   },
   "file_extension": ".py",
   "mimetype": "text/x-python",
   "name": "python",
   "nbconvert_exporter": "python",
   "pygments_lexer": "ipython3",
   "version": "3.13.5"
  }
 },
 "nbformat": 4,
 "nbformat_minor": 5
}
