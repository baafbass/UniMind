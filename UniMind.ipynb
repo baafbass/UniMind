{
 "cells": [
  {
   "cell_type": "markdown",
   "id": "00578ac3-5ed6-4334-b5b8-149d1c75e3b1",
   "metadata": {},
   "source": [
    "<div style=\"border-radius: 15px 0 15px 0px; border: 2px solid #f1c40f; padding: 10px; background-color: #191970; text-align: center; box-shadow: 0px 2px 4px rgba(0, 0, 0, 0.2);\">\n",
    "    <h1 style=\"color: #f1c40f; text-shadow: 2px 2px 4px rgba(0, 0, 0, 0.5); font-weight: bold; margin-bottom: 10px; font-size: 24px;\">Makine Öğrenmesiyle Öğrencilerin Yaşam Alışkanlıkları ve Akademik Durumlarına Göre Depresyon Riskinin Tahmini</h1>\n",
    "</div>"
   ]
  },
  {
   "cell_type": "markdown",
   "id": "4cebf25a-7296-41da-a12f-28c4ac264fd2",
   "metadata": {},
   "source": [
    "# **1) Proje Tanımı**"
   ]
  },
  {
   "cell_type": "markdown",
   "id": "69d26962-7f4c-4ab3-8b80-3c7fb251fb62",
   "metadata": {},
   "source": [
    "        Amaç, öğrencilerin yaşam tarzı alışkanlıkları (uyku, sosyal aktivite, stres, fiziksel aktivite, çalışma saati vb.) ve akademik performans  göstergeleri (CGPA, ders çalışma saatleri, akademik tatmin) kullanılarak depresyon yaşayıp yaşamadıklarını tahmin eden bir makine öğrenmesi modeli geliştirmektir."
   ]
  },
  {
   "cell_type": "markdown",
   "id": "d82b7438-1bd0-472b-a899-35ec59db1c6d",
   "metadata": {},
   "source": [
    "# **2) Veri Kaynakları ve Birleştirme Stratejisi**"
   ]
  },
  {
   "cell_type": "markdown",
   "id": "1daa5da8-d696-4897-9a3d-c587f27846ce",
   "metadata": {},
   "source": [
    "## **2.1) Dataset 1** : Daily Lifestyle and Academic Performance"
   ]
  },
  {
   "cell_type": "markdown",
   "id": "1d73fd7b-75cc-4e32-a0b4-46c64ba5ecd5",
   "metadata": {},
   "source": [
    "- 2.000 öğrenciden Google Form anketiyle toplanan verileri içerir.\n",
    "\n",
    "- Ders çalışma süresi, sosyal etkinlikler, uyku, sosyalleşme, fiziksel aktivite, stres düzeyi ve not ortalaması bilgilerini kapsar.\n",
    "\n",
    "- Veriler, Ağustos 2023 - Mayıs 2024 akademik yılına aittir.\n",
    "\n",
    "- Katılımcıların çoğu Hindistan’daki öğrencilerden oluşmaktadır.\n",
    "\n",
    "- **Amaç:** Günlük alışkanlıkların akademik başarı ve öğrenci refahı üzerindeki etkisini incelemek."
   ]
  },
  {
   "cell_type": "markdown",
   "id": "9951e30d-2005-4d9b-9d40-8b09ebac0b2a",
   "metadata": {},
   "source": [
    "## 2.2) Dataset 2 : Student Mental Health"
   ]
  },
  {
   "cell_type": "markdown",
   "id": "edf38632-e87d-47e9-9320-9f7246144341",
   "metadata": {},
   "source": [
    "- Öğrencilerin ruh sağlığı ve depresyon riskini etkileyen faktörleri kapsamlı şekilde içerir.\n",
    "\n",
    "- Demografik bilgiler, akademik ve iş baskıları, yaşam tarzı alışkanlıkları ve ruh sağlığı göstergelerini kapsar.\n",
    "\n",
    "- **Amaç:** Depresyon eğilimlerini ve risk faktörlerini analiz etmek."
   ]
  },
  {
   "cell_type": "markdown",
   "id": "c8fe879b-e9ce-42ab-bfb7-7910d1e2ea3e",
   "metadata": {},
   "source": [
    "# **3) Yüklemeler ve İlk Kontroller**"
   ]
  },
  {
   "cell_type": "markdown",
   "id": "d9e2f7ea-4b23-448c-a14b-83f67f8305bd",
   "metadata": {},
   "source": [
    "Paketlerin Yüklenmesi"
   ]
  },
  {
   "cell_type": "code",
   "execution_count": 3,
   "id": "fa999b6c-cc00-4055-89c9-b11feec05466",
   "metadata": {},
   "outputs": [],
   "source": [
    "import pandas as pd\n",
    "import numpy as np\n",
    "import matplotlib.pyplot as plt\n",
    "import seaborn as sns\n",
    "from sklearn.model_selection import train_test_split\n",
    "from sklearn.preprocessing import StandardScaler, MinMaxScaler\n",
    "from sklearn.impute import SimpleImputer\n",
    "from sklearn.pipeline import Pipeline\n",
    "from sklearn.compose import ColumnTransformer"
   ]
  },
  {
   "cell_type": "code",
   "execution_count": null,
   "id": "c72a7769-9352-4aeb-8470-02774ad1f0ce",
   "metadata": {},
   "outputs": [],
   "source": []
  },
  {
   "cell_type": "markdown",
   "id": "3ee23cb5-868b-4498-9dd6-b33269426230",
   "metadata": {},
   "source": [
    "# **İçindekiler**\n",
    "\n",
    "## 1. Proje Tanımı & Hedefler\n",
    "## 2. Veri Kaynakları ve Birleştirme Stratejisi\n",
    "## 3. Yüklemeler ve İlk Kontroller\n",
    "## 4. Keşifsel Veri Analizi (EDA)\n",
    "## 5. Veri Ön İşleme\n",
    "## 6. Özellik Mühendisliği\n",
    "## 7. Model Seçimi ve Eğitim (en az 3 model)\n",
    "## 8. Model Değerlendirme ve Karşılaştırma\n",
    "## 9. Model Optimizasyonu (Hyperparametre Tuning)\n",
    "## 10. Açıklanabilirlik (Feature importance, SHAP)\n",
    "## 11. Sonuçlar ve Raporlama / Sunum İçeriği\n",
    "## 12. Ek Notlar: Etik, Veri Gizliliği, Kaynakça"
   ]
  },
  {
   "cell_type": "code",
   "execution_count": null,
   "id": "fade50bb-f750-48e0-8136-51a56f46e282",
   "metadata": {},
   "outputs": [],
   "source": []
  }
 ],
 "metadata": {
  "kernelspec": {
   "display_name": "Python 3 (ipykernel)",
   "language": "python",
   "name": "python3"
  },
  "language_info": {
   "codemirror_mode": {
    "name": "ipython",
    "version": 3
   },
   "file_extension": ".py",
   "mimetype": "text/x-python",
   "name": "python",
   "nbconvert_exporter": "python",
   "pygments_lexer": "ipython3",
   "version": "3.13.5"
  }
 },
 "nbformat": 4,
 "nbformat_minor": 5
}
